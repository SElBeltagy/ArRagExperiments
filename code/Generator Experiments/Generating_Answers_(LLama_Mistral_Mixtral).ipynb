{
  "cells": [
    {
      "cell_type": "markdown",
      "metadata": {},
      "source": [
        "#### Code written by Mohamed Abdallah\n"
      ]
    },
    {
      "cell_type": "markdown",
      "metadata": {
        "id": "SQ580vzTh1kv"
      },
      "source": [
        "### Installing required packages"
      ]
    },
    {
      "cell_type": "code",
      "execution_count": null,
      "metadata": {
        "colab": {
          "base_uri": "https://localhost:8080/"
        },
        "id": "MfsJQpIVo_k4",
        "outputId": "f3e23502-8ac5-4f7e-928a-64b11883a42d"
      },
      "outputs": [],
      "source": [
        "!pip install openai langchain chromadb tiktoken langchain-community langchain_chroma langchain_openai unstructured sentence-transformers bitsandbytes"
      ]
    },
    {
      "cell_type": "code",
      "execution_count": 2,
      "metadata": {
        "colab": {
          "base_uri": "https://localhost:8080/"
        },
        "id": "l-wlbYZegLHD",
        "outputId": "babc40a4-304c-4024-de5c-b41fb2d85474"
      },
      "outputs": [
        {
          "name": "stdout",
          "output_type": "stream",
          "text": [
            "Collecting python-dotenv==1.0.0\n",
            "  Downloading python_dotenv-1.0.0-py3-none-any.whl.metadata (21 kB)\n",
            "Downloading python_dotenv-1.0.0-py3-none-any.whl (19 kB)\n",
            "Installing collected packages: python-dotenv\n",
            "  Attempting uninstall: python-dotenv\n",
            "    Found existing installation: python-dotenv 1.0.1\n",
            "    Uninstalling python-dotenv-1.0.1:\n",
            "      Successfully uninstalled python-dotenv-1.0.1\n",
            "Successfully installed python-dotenv-1.0.0\n"
          ]
        }
      ],
      "source": [
        "!pip install python-dotenv==1.0.0"
      ]
    },
    {
      "cell_type": "code",
      "execution_count": 3,
      "metadata": {
        "id": "DhmCyiLqdFqd"
      },
      "outputs": [],
      "source": [
        "url = \"https://api.together.xyz/inference\"\n",
        "my_key = '...'"
      ]
    },
    {
      "cell_type": "code",
      "execution_count": 4,
      "metadata": {
        "id": "t30qkkttxexF"
      },
      "outputs": [],
      "source": [
        "# Setting Directory for the uploaded files\n",
        "! mkdir '/content/Docs'"
      ]
    },
    {
      "cell_type": "markdown",
      "metadata": {
        "id": "okP5Y9dth8b_"
      },
      "source": [
        "### Import Packages and Libraries"
      ]
    },
    {
      "cell_type": "code",
      "execution_count": 5,
      "metadata": {
        "id": "3vE4mg8axey0"
      },
      "outputs": [],
      "source": [
        "import os\n",
        "import re\n",
        "import pandas as pd\n",
        "import numpy as np\n",
        "import gensim\n",
        "\n",
        "from sklearn.feature_extraction.text import TfidfVectorizer\n",
        "from sklearn.metrics.pairwise import cosine_similarity\n",
        "\n",
        "import openai\n",
        "from langchain import OpenAI\n",
        "from langchain.text_splitter import RecursiveCharacterTextSplitter, CharacterTextSplitter\n",
        "from langchain.embeddings.openai import OpenAIEmbeddings\n",
        "from langchain.vectorstores import Pinecone\n",
        "from langchain_core.messages import AIMessage, HumanMessage\n",
        "from langchain.chains import create_history_aware_retriever, create_retrieval_chain\n",
        "from langchain_core.prompts import MessagesPlaceholder, ChatPromptTemplate\n",
        "from langchain_community.document_loaders import UnstructuredFileLoader, DirectoryLoader\n",
        "from langchain_chroma import Chroma\n",
        "from langchain_community.chat_message_histories import ChatMessageHistory\n",
        "from langchain_community.document_loaders import UnstructuredFileLoader, DirectoryLoader\n",
        "from langchain_openai import ChatOpenAI, OpenAIEmbeddings"
      ]
    },
    {
      "cell_type": "markdown",
      "metadata": {
        "id": "82fnNIP7fxMC"
      },
      "source": [
        "---"
      ]
    },
    {
      "cell_type": "markdown",
      "metadata": {
        "id": "oW9Q7y--qSRl"
      },
      "source": [
        "### Reading table of Q&A csv file"
      ]
    },
    {
      "cell_type": "code",
      "execution_count": 7,
      "metadata": {
        "id": "ApBX2UU0o_Xt"
      },
      "outputs": [],
      "source": [
        "df = pd.read_csv('/content/allData_mod3.csv')"
      ]
    },
    {
      "cell_type": "code",
      "execution_count": 8,
      "metadata": {
        "colab": {
          "base_uri": "https://localhost:8080/"
        },
        "id": "larhr3USqYnZ",
        "outputId": "273e0aa2-34b8-4a73-fad9-b52e00716709"
      },
      "outputs": [
        {
          "data": {
            "text/plain": [
              "Index(['Column1', 'id', 'title', 'context', 'question', 'answers',\n",
              "       'modified_question (GPT 3.5 Turbo)', 'modified_question',\n",
              "       'Answers_last', 'Mistral_answers'],\n",
              "      dtype='object')"
            ]
          },
          "execution_count": 8,
          "metadata": {},
          "output_type": "execute_result"
        }
      ],
      "source": [
        "df.columns"
      ]
    },
    {
      "cell_type": "markdown",
      "metadata": {
        "id": "qn_ZVuhrqRXb"
      },
      "source": [
        "---"
      ]
    },
    {
      "cell_type": "markdown",
      "metadata": {
        "id": "1VFdo56io3ns"
      },
      "source": [
        "### Uploading files, Splitting and Use various retrievals"
      ]
    },
    {
      "cell_type": "code",
      "execution_count": 11,
      "metadata": {
        "id": "Po-8CCRiY52G"
      },
      "outputs": [],
      "source": [
        "loader = DirectoryLoader('/content/Docs')\n",
        "docs = loader.load()"
      ]
    },
    {
      "cell_type": "code",
      "execution_count": 12,
      "metadata": {
        "id": "9zrO-63Jb5Lr"
      },
      "outputs": [],
      "source": [
        "text_splitter = RecursiveCharacterTextSplitter(chunk_size=1000, chunk_overlap=100)\n",
        "splits = text_splitter.split_documents(docs)"
      ]
    },
    {
      "cell_type": "code",
      "execution_count": null,
      "metadata": {
        "id": "xsU7RZwogB7w"
      },
      "outputs": [],
      "source": [
        "splits"
      ]
    },
    {
      "cell_type": "markdown",
      "metadata": {
        "id": "PTKVqDJCN34_"
      },
      "source": [
        "### Create the retriever"
      ]
    },
    {
      "cell_type": "markdown",
      "metadata": {
        "id": "Ps0t0Z-6EMDP"
      },
      "source": [
        "###  E5 (dim_size= 1024)"
      ]
    },
    {
      "cell_type": "code",
      "execution_count": null,
      "metadata": {
        "colab": {
          "base_uri": "https://localhost:8080/",
          "height": 336,
          "referenced_widgets": [
            "8cf7dc9f61d34fbb925d576cfa66ffa4",
            "bee364b2c3a44a7bab095fd10a097666",
            "9db295e6d92a4fdfa0069a81da7b0795",
            "a0eef822899e4771880683cc40f413b5",
            "dc7a8f9bec3141cf968f8a1732bb4fe7",
            "8ee35a0abc354f638a131d52fb8f44c1",
            "68f6cfd1da0c4626ae357cd69cc57668",
            "97924f3d795a44aa8de803e7c10175c8",
            "3c29802f76d84d48bb70cb120bde4fb4",
            "b88576e186ab4f67a23c4cafe10c1dcc",
            "96867d1d1b8a49f0b9c59dff22526432",
            "86c6683b36cc4a10abd63dde061a8fe5",
            "25b316950084450190ecd8c30c137b0a",
            "c34ad7d81f444ac9be7d665e23e8c654",
            "2341ca5f0cae4974a8962039464784ba",
            "c137f2d1805d46018c22ddc47173d563",
            "ac1c4b6ba6084fd3af6af5e73bbdf784",
            "a48b70d7e61c486694047344b27b5898",
            "ea6dedffb9ee4dc68eee412be99dd1ee",
            "cfe9b1228d464536a1232d26c50a0714",
            "2f4806c58c7f44ce983e6779fd9ab5e8",
            "2e7ee4a4cc914eab949abd228ccbe137",
            "76cee5591f194cf1b2d912cc7af6aeff",
            "0fe8cb197b7a4e3b8455b9b66fa88501",
            "3ba11716ea2f46e28807d92f9969759f",
            "283bbf0c38204cbd89cabf5200858fe0",
            "0fb53f2d7ceb4e159c0cfb0459fd8275",
            "a2cc3a1e10b044619026a124512c5d30",
            "936c92d94cb545c48e90288686a74d7e",
            "a4fdc9971b5848b1bb2115961fc560ba",
            "f4f75963da034b5294dd6ad6de6baaed",
            "843ae760244749de828f27557c134763",
            "8b2d4bb3260b4d7fb90022c58596da11",
            "d643bc99a3904616a1af6d99860819f6",
            "1a2bf676a4dc4bf1ac3c4e614c6f3348",
            "2d74bc542d2445dcb04393751e2f0615",
            "4c21921ea2e04358b106145fe972ebbe",
            "273e5c8146984919bfefc319d103b21b",
            "f14dcb9ac1af4486b70996934c009fc0",
            "5fe272529d05418998d7f7220775b8c1",
            "8741868ff34a4f94bf87f27c5cb09eae",
            "07e43ee83d224fa9bc91b75a68659799",
            "4fcad3f9091743a6a8601c20f0086c44",
            "9961c08981e144b9ad01c002d1525b15",
            "a7e88cd9d7b547d2bac4097b9abbd04c",
            "b18d66c5f48a4d60bc72d26902ca75e6",
            "278b1943a4a1492c912a206e58628051",
            "f837dccd2b2b40f49b2a795f1e6d8d96",
            "190c86efde664529882903a5986f3a27",
            "488795d967db47aaad99725b0128b11d",
            "cfe86b9962cc49f4a05561d3eb56b66a",
            "c7c5d0f1a9d84dd885099adb82e21535",
            "149fb323468944f2808469c24f1e8764",
            "f4a5e9117a834aeaaac521a090c198a8",
            "bddc5596af5f460888807d6e7aa798c0",
            "3d81ca87958a4f8682228be94f5869bf",
            "afad04fb44924f19bc4cda094eaec4cb",
            "d1afa6ef6b934af9b52acaedf76d965e",
            "7e09414912874e3592ecd3883737222a",
            "3b6f7ca1fa794b1689992b5daaa1401a",
            "0b6310fb47764623b26d836c66721b56",
            "8290ba8ea0c44e7c922d5c40b9db66a7",
            "8462628c94a34d9980fe45d52f49fcff",
            "428a9a42a98f40efb2617a1897773b3b",
            "22440fb989c844f9873263a808dd5565",
            "61698aaaa6e3454e894894c6469e4e29"
          ]
        },
        "id": "5RnODmBro60k",
        "outputId": "e50c83b5-72ed-4649-e06c-fc658fc99bb6"
      },
      "outputs": [],
      "source": [
        "from transformers import AutoTokenizer, AutoModel\n",
        "import torch\n",
        "\n",
        "# Load the tokenizer and model\n",
        "tokenizer = AutoTokenizer.from_pretrained('intfloat/multilingual-e5-large')\n",
        "model = AutoModel.from_pretrained('intfloat/multilingual-e5-large')\n",
        "\n",
        "# Function to generate embeddings\n",
        "def embed_texts(texts):\n",
        "    embeddings = []\n",
        "    for text in texts:\n",
        "        inputs = tokenizer(text, return_tensors='pt', padding=True, truncation=True)\n",
        "        with torch.no_grad():\n",
        "            outputs = model(**inputs)\n",
        "        embeddings.append(outputs.last_hidden_state.mean(dim=1).squeeze().tolist())\n",
        "    return embeddings\n"
      ]
    },
    {
      "cell_type": "code",
      "execution_count": 14,
      "metadata": {
        "id": "gpCqFAnaMZjp"
      },
      "outputs": [],
      "source": [
        "class E5Embeddings:\n",
        "    def embed_documents(self, texts):\n",
        "        return embed_texts(texts)\n",
        "\n",
        "    def embed_query(self, text):\n",
        "        return embed_texts([text])[0]\n",
        "\n",
        "embedding_E5 = E5Embeddings()"
      ]
    },
    {
      "cell_type": "code",
      "execution_count": 15,
      "metadata": {
        "id": "YFGetCQ0L_As"
      },
      "outputs": [],
      "source": [
        "# Create Chroma vectorstore with embeddings from the model\n",
        "vectorstore_E5 = Chroma.from_documents(documents=splits, embedding=embedding_E5)\n",
        "retriever_E5 = vectorstore_E5.as_retriever(search_type=\"similarity\", search_kwargs={'k': 5})"
      ]
    },
    {
      "cell_type": "markdown",
      "metadata": {
        "id": "ygBfVOdvRQn8"
      },
      "source": [
        "### **Answers Generation**"
      ]
    },
    {
      "cell_type": "code",
      "execution_count": 16,
      "metadata": {
        "id": "78RK5i_u7uJb"
      },
      "outputs": [],
      "source": [
        "import os\n",
        "from dotenv import load_dotenv\n",
        "import os\n",
        "from dotenv import load_dotenv, find_dotenv\n",
        "import warnings\n",
        "import requests\n",
        "import json\n",
        "import time"
      ]
    },
    {
      "cell_type": "markdown",
      "metadata": {
        "id": "yZ4_35m18ETd"
      },
      "source": [
        "### Calling the LLama-3 model through a hosted api"
      ]
    },
    {
      "cell_type": "code",
      "execution_count": 35,
      "metadata": {
        "id": "psqGfsUWNL0M"
      },
      "outputs": [],
      "source": [
        "class Llama:\n",
        "    def __init__(self, url, headers, model=\"meta-llama/Llama-3-70b-chat-hf\", temperature=0.0, max_tokens=500, base=2, max_tries=3, add_inst=True, verbose=False):\n",
        "        self.url = url\n",
        "        self.headers = headers\n",
        "        self.model = model\n",
        "        self.temperature = temperature\n",
        "        self.max_tokens = max_tokens\n",
        "        self.base = base\n",
        "        self.max_tries = max_tries\n",
        "        self.add_inst = add_inst\n",
        "        self.verbose = verbose\n",
        "\n",
        "    def _call_api(self, prompt):\n",
        "        if self.add_inst:\n",
        "            prompt = f\"[INST]{prompt}[/INST]\"\n",
        "\n",
        "        if self.verbose:\n",
        "            print(f\"Prompt:\\n{prompt}\\n\")\n",
        "            print(f\"Model: {self.model}\")\n",
        "\n",
        "        data = {\n",
        "            \"model\": self.model,\n",
        "            \"prompt\": prompt,\n",
        "            \"temperature\": self.temperature,\n",
        "            \"max_tokens\": self.max_tokens\n",
        "        }\n",
        "\n",
        "        wait_seconds = [self.base**i for i in range(self.max_tries)]\n",
        "\n",
        "        for num_tries in range(self.max_tries):\n",
        "            try:\n",
        "                response = requests.post(self.url, headers=self.headers, json=data)\n",
        "                response.raise_for_status()\n",
        "                return response.json()['output']['choices'][0]['text']\n",
        "            except requests.exceptions.HTTPError as e:\n",
        "                if response.status_code != 500:\n",
        "                    return response.json()\n",
        "\n",
        "                print(f\"HTTP error occurred: {e}\")\n",
        "                print(f\"Num tries: {num_tries}\")\n",
        "                print(f\"Waiting {wait_seconds[num_tries]} seconds before automatically trying again.\")\n",
        "                time.sleep(wait_seconds[num_tries])\n",
        "            except Exception as e:\n",
        "                print(f\"Other error occurred: {e}\")\n",
        "                return {\"error\": str(e)}\n",
        "\n",
        "        print(f\"Tried {self.max_tries} times to make API call to get a valid response object\")\n",
        "        print(\"Returning provided response\")\n",
        "        return response\n",
        "\n",
        "    def __call__(self, prompt):\n",
        "        return self._call_api(prompt)"
      ]
    },
    {
      "cell_type": "code",
      "execution_count": 36,
      "metadata": {
        "id": "P42WC0jOEjW5"
      },
      "outputs": [],
      "source": [
        "llama_llm = Llama(url=url, headers={\"Authorization\": f\"Bearer {my_key}\", \"Content-Type\": \"application/json\"}, model=\"meta-llama/Llama-3-70b-chat-hf\")"
      ]
    },
    {
      "cell_type": "markdown",
      "metadata": {
        "id": "YwL9bvVN8M9k"
      },
      "source": [
        "### Creating the prompts and chains"
      ]
    },
    {
      "cell_type": "code",
      "execution_count": 37,
      "metadata": {
        "id": "rUJooczx79od"
      },
      "outputs": [],
      "source": [
        "from langchain.chains import create_retrieval_chain\n",
        "from langchain.chains.combine_documents import create_stuff_documents_chain\n",
        "from langchain_core.prompts import ChatPromptTemplate\n",
        "\n",
        "system_prompt = (\n",
        "    \"Use the given context to answer the question in Arabic language. REPLY ONLY IN ARABIC \"\n",
        "    \"Use three sentence maximum and keep the answer precise and concise.\"\n",
        "    \"Context: {context}\"\n",
        ")\n",
        "prompt = ChatPromptTemplate.from_messages(\n",
        "    [\n",
        "        (\"system\", system_prompt),\n",
        "        (\"human\", \"{input}\"),\n",
        "    ]\n",
        ")"
      ]
    },
    {
      "cell_type": "code",
      "execution_count": 38,
      "metadata": {
        "id": "Zs8RGroD7_5I"
      },
      "outputs": [],
      "source": [
        "question_answer_chain = create_stuff_documents_chain(llama_llm , prompt)\n",
        "chain = create_retrieval_chain(retriever_E5, question_answer_chain)\n"
      ]
    },
    {
      "cell_type": "code",
      "execution_count": 39,
      "metadata": {
        "colab": {
          "base_uri": "https://localhost:8080/"
        },
        "id": "z9980-WyasVi",
        "outputId": "ad45d942-0fdf-4677-ea55-0f396732aa4e"
      },
      "outputs": [
        {
          "data": {
            "text/plain": [
              "RunnableBinding(bound=RunnableAssign(mapper={\n",
              "  context: RunnableBinding(bound=RunnableLambda(lambda x: x['input'])\n",
              "           | VectorStoreRetriever(tags=['Chroma', 'E5Embeddings'], vectorstore=<langchain_chroma.vectorstores.Chroma object at 0x79a75ca36830>, search_kwargs={'k': 5}), config={'run_name': 'retrieve_documents'})\n",
              "})\n",
              "| RunnableAssign(mapper={\n",
              "    answer: RunnableBinding(bound=RunnableBinding(bound=RunnableAssign(mapper={\n",
              "              context: RunnableLambda(format_docs)\n",
              "            }), config={'run_name': 'format_inputs'})\n",
              "            | ChatPromptTemplate(input_variables=['context', 'input'], messages=[SystemMessagePromptTemplate(prompt=PromptTemplate(input_variables=['context'], template='Use the given context to answer the question in Arabic language. REPLY ONLY IN ARABIC Use three sentence maximum and keep the answer precise and concise.Context: {context}')), HumanMessagePromptTemplate(prompt=PromptTemplate(input_variables=['input'], template='{input}'))])\n",
              "            | RunnableLambda(...)\n",
              "            | StrOutputParser(), config={'run_name': 'stuff_documents_chain'})\n",
              "  }), config={'run_name': 'retrieval_chain'})"
            ]
          },
          "execution_count": 39,
          "metadata": {},
          "output_type": "execute_result"
        }
      ],
      "source": [
        "chain"
      ]
    },
    {
      "cell_type": "code",
      "execution_count": 40,
      "metadata": {
        "colab": {
          "base_uri": "https://localhost:8080/",
          "height": 142
        },
        "id": "Txhj6N78UdDi",
        "outputId": "b5092325-2f69-4185-adfe-80d4605fc79e"
      },
      "outputs": [
        {
          "data": {
            "application/vnd.google.colaboratory.intrinsic+json": {
              "type": "string"
            },
            "text/plain": [
              "'Hamza bin Abdul-Muttalib Al-Hashemi Al-Qurashi, a companion of the Prophet Muhammad, peace be upon him, and his uncle and foster brother, one of the fourteen closest companions, and the best of his uncles, as the Prophet said: \"The best of my uncles is Hamza.\"assistant\\n\\nحمزة بن عبد المطلب الهاشمي القرشي صحابي من صحابة رسول الإسلام محمد، وعمه وأخوه من الرضاعة، أحد وزرائه الأربعة عشر، وهو خير أعمامه لقوله: «خَيْرُ إِخْوَتِي عَلِيٌّ، وَخَيْرُ أَعْمَامِي حَمْزَةُ رَضِيَ اللَّهُ عَنْهُمَا».assistant\\n\\nحمزة بن عبد المطلب الهاشمي القرشي صحابي من صحابة رسول الإسلام محمد، وعمه وأخوه من الرضاعة، أحد وزرائه الأربعة عشر، وهو خير أعمامه لقوله: «خَيْرُ إِخْوَتِي عَلِيٌّ، وَخَيْرُ أَعْمَامِي حَمْزَةُ رَضِيَ اللَّهُ عَنْهُمَا». تربى حمزة في كنف والده عبد المطلب بن هاشم الذي كان سيد قريش وبني هاشم، ونشأ مع تِربه وابن أخيه عبد الله وأخيه من الرضاعة محمد بن عبد الله بن عبد المطلب.assistant\\n\\nحمزة بن عبد المطلب الهاشمي القرشي صحابي من صحابة رسول الإسلام محمد، وعمه وأخوه من الرضاعة، أحد وزرائه الأربعة عشر، وهو خير أعمامه لقوله: «خَيْرُ إِخْوَتِي عَلِيٌّ، وَخَيْرُ أَعْمَامِي حَمْزَةُ رَضِيَ اللَّهُ عَنْهُمَا». تربى حمزة في كنف والده عبد المطلب بن هاشم الذي كان سيد قريش وبني هاشم، ونشأ مع تِربه وابن أخيه عبد الله وأخيه من الرضاعة محمد بن عبد الله بن عبد المطلب'"
            ]
          },
          "execution_count": 40,
          "metadata": {},
          "output_type": "execute_result"
        }
      ],
      "source": [
        "question = df['modified_question'][0]\n",
        "chain.invoke({\"input\": question})['answer']"
      ]
    },
    {
      "cell_type": "code",
      "execution_count": 41,
      "metadata": {
        "id": "k5S76A2sNwNC"
      },
      "outputs": [],
      "source": [
        "def extract_text_llama(text):\n",
        "    # Check if 'assistant' is present\n",
        "    if 'assistant' in text:\n",
        "        # Split the text by 'assistant'\n",
        "        parts = text.split('assistant')\n",
        "\n",
        "        # Check the number of 'assistant' occurrences\n",
        "        if len(parts) >= 2:\n",
        "            # Extract text between the first two 'assistant'\n",
        "            extracted_text = parts[1].strip()\n",
        "        else:\n",
        "            # Extract all text after the first 'assistant'\n",
        "            extracted_text = parts[1].strip() if len(parts) > 1 else \"\"\n",
        "\n",
        "        return extracted_text.strip()\n",
        "    else:\n",
        "        # Use regex to find all sequences of English characters\n",
        "        english_pattern = re.compile(r'[a-zA-Z\\s]+')\n",
        "        english_matches = list(english_pattern.finditer(text))\n",
        "\n",
        "        if len(english_matches) >= 1:\n",
        "            # Extract Arabic text from the first English sequence to the end\n",
        "            start_index = english_matches[0].end()\n",
        "            arabic_text = text[start_index:]\n",
        "\n",
        "            # Use regex to find all sequences of Arabic characters within the extracted text\n",
        "            arabic_pattern = re.compile(r'[\\u0600-\\u06FF\\s]+')\n",
        "            arabic_matches = list(set(arabic_pattern.findall(arabic_text)))\n",
        "\n",
        "            return ''.join(arabic_matches).strip()"
      ]
    },
    {
      "cell_type": "markdown",
      "metadata": {
        "id": "jDPkusm0gwAA"
      },
      "source": [
        "### **Generating chain answers**"
      ]
    },
    {
      "cell_type": "code",
      "execution_count": 42,
      "metadata": {
        "id": "qjQthslIBzsh"
      },
      "outputs": [],
      "source": [
        "questions = df['modified_question']\n",
        "true_answers = df['Answers_last']"
      ]
    },
    {
      "cell_type": "code",
      "execution_count": 24,
      "metadata": {
        "id": "QPjgDg1cutnC"
      },
      "outputs": [],
      "source": [
        "questions.fillna('', inplace=True)"
      ]
    },
    {
      "cell_type": "code",
      "execution_count": 28,
      "metadata": {
        "colab": {
          "base_uri": "https://localhost:8080/"
        },
        "id": "iezLP2jyLBnY",
        "outputId": "95b8e478-7080-437e-83c9-2e1067c09633"
      },
      "outputs": [
        {
          "data": {
            "text/plain": [
              "0"
            ]
          },
          "execution_count": 28,
          "metadata": {},
          "output_type": "execute_result"
        }
      ],
      "source": [
        "questions.isna().sum()"
      ]
    },
    {
      "cell_type": "markdown",
      "metadata": {
        "id": "wcaO51p11yax"
      },
      "source": [
        "#### Generate Answers"
      ]
    },
    {
      "cell_type": "code",
      "execution_count": 33,
      "metadata": {
        "colab": {
          "base_uri": "https://localhost:8080/",
          "height": 459
        },
        "id": "Ms02gb2RLQn4",
        "outputId": "8e5a7707-6be6-4382-bb6f-7cd07e31bec2"
      },
      "outputs": [
        {
          "data": {
            "text/html": [
              "<div>\n",
              "<style scoped>\n",
              "    .dataframe tbody tr th:only-of-type {\n",
              "        vertical-align: middle;\n",
              "    }\n",
              "\n",
              "    .dataframe tbody tr th {\n",
              "        vertical-align: top;\n",
              "    }\n",
              "\n",
              "    .dataframe thead th {\n",
              "        text-align: right;\n",
              "    }\n",
              "</style>\n",
              "<table border=\"1\" class=\"dataframe\">\n",
              "  <thead>\n",
              "    <tr style=\"text-align: right;\">\n",
              "      <th></th>\n",
              "      <th>modified_question</th>\n",
              "    </tr>\n",
              "  </thead>\n",
              "  <tbody>\n",
              "    <tr>\n",
              "      <th>663</th>\n",
              "      <td>من أُرسل من قبل الرسول محمد ليقوم بجمع المعلوم...</td>\n",
              "    </tr>\n",
              "    <tr>\n",
              "      <th>664</th>\n",
              "      <td>هل أنكر الرسول محمد على أصحابه الذين لم يخرجوا؟</td>\n",
              "    </tr>\n",
              "    <tr>\n",
              "      <th>665</th>\n",
              "      <td>هل كانت نية الرسول محمد القتال؟</td>\n",
              "    </tr>\n",
              "    <tr>\n",
              "      <th>666</th>\n",
              "      <td>متى ولد عثمان الأول؟</td>\n",
              "    </tr>\n",
              "    <tr>\n",
              "      <th>667</th>\n",
              "      <td>متى قامت الجمهورية التركية؟</td>\n",
              "    </tr>\n",
              "    <tr>\n",
              "      <th>...</th>\n",
              "      <td>...</td>\n",
              "    </tr>\n",
              "    <tr>\n",
              "      <th>1390</th>\n",
              "      <td>ما هو حجم رأس البظر البشرى؟</td>\n",
              "    </tr>\n",
              "    <tr>\n",
              "      <th>1391</th>\n",
              "      <td>كم عدد النهايات العصبية فى رأس البظر البشرى؟</td>\n",
              "    </tr>\n",
              "    <tr>\n",
              "      <th>1392</th>\n",
              "      <td>ما هو اصل كلمة\"Clitoris\"طبقا لقاموس اكسفورد لل...</td>\n",
              "    </tr>\n",
              "    <tr>\n",
              "      <th>1393</th>\n",
              "      <td>كيف يُستخدم الشكل المختصر \"Clit\"؟</td>\n",
              "    </tr>\n",
              "    <tr>\n",
              "      <th>1394</th>\n",
              "      <td>متى يُستخدم الشكل المختصر \"Clit\"؟</td>\n",
              "    </tr>\n",
              "  </tbody>\n",
              "</table>\n",
              "<p>732 rows × 1 columns</p>\n",
              "</div><br><label><b>dtype:</b> object</label>"
            ],
            "text/plain": [
              "663     من أُرسل من قبل الرسول محمد ليقوم بجمع المعلوم...\n",
              "664       هل أنكر الرسول محمد على أصحابه الذين لم يخرجوا؟\n",
              "665                       هل كانت نية الرسول محمد القتال؟\n",
              "666                                  متى ولد عثمان الأول؟\n",
              "667                           متى قامت الجمهورية التركية؟\n",
              "                              ...                        \n",
              "1390                          ما هو حجم رأس البظر البشرى؟\n",
              "1391         كم عدد النهايات العصبية فى رأس البظر البشرى؟\n",
              "1392    ما هو اصل كلمة\"Clitoris\"طبقا لقاموس اكسفورد لل...\n",
              "1393                    كيف يُستخدم الشكل المختصر \"Clit\"؟\n",
              "1394                    متى يُستخدم الشكل المختصر \"Clit\"؟\n",
              "Name: modified_question, Length: 732, dtype: object"
            ]
          },
          "execution_count": 33,
          "metadata": {},
          "output_type": "execute_result"
        }
      ],
      "source": [
        "questions[663:]"
      ]
    },
    {
      "cell_type": "code",
      "execution_count": 43,
      "metadata": {
        "colab": {
          "base_uri": "https://localhost:8080/",
          "height": 459
        },
        "id": "f3YAXgy-SJ-C",
        "outputId": "36c2e5f8-9148-447a-ff5b-d63a46e5d5d6"
      },
      "outputs": [
        {
          "data": {
            "text/html": [
              "<div>\n",
              "<style scoped>\n",
              "    .dataframe tbody tr th:only-of-type {\n",
              "        vertical-align: middle;\n",
              "    }\n",
              "\n",
              "    .dataframe tbody tr th {\n",
              "        vertical-align: top;\n",
              "    }\n",
              "\n",
              "    .dataframe thead th {\n",
              "        text-align: right;\n",
              "    }\n",
              "</style>\n",
              "<table border=\"1\" class=\"dataframe\">\n",
              "  <thead>\n",
              "    <tr style=\"text-align: right;\">\n",
              "      <th></th>\n",
              "      <th>modified_question</th>\n",
              "    </tr>\n",
              "  </thead>\n",
              "  <tbody>\n",
              "    <tr>\n",
              "      <th>0</th>\n",
              "      <td>من هو حمزة بن عبد المطلب؟</td>\n",
              "    </tr>\n",
              "    <tr>\n",
              "      <th>1</th>\n",
              "      <td>بما وصف رسول الله حمزة بن عبد المطلب؟</td>\n",
              "    </tr>\n",
              "    <tr>\n",
              "      <th>2</th>\n",
              "      <td>بما وصف رسول الله عليّ؟</td>\n",
              "    </tr>\n",
              "    <tr>\n",
              "      <th>3</th>\n",
              "      <td>متى أسلم حمزة؟</td>\n",
              "    </tr>\n",
              "    <tr>\n",
              "      <th>4</th>\n",
              "      <td>و ماذا فعل حمزة في غزوة بدر؟</td>\n",
              "    </tr>\n",
              "    <tr>\n",
              "      <th>...</th>\n",
              "      <td>...</td>\n",
              "    </tr>\n",
              "    <tr>\n",
              "      <th>1390</th>\n",
              "      <td>ما هو حجم رأس البظر البشرى؟</td>\n",
              "    </tr>\n",
              "    <tr>\n",
              "      <th>1391</th>\n",
              "      <td>كم عدد النهايات العصبية فى رأس البظر البشرى؟</td>\n",
              "    </tr>\n",
              "    <tr>\n",
              "      <th>1392</th>\n",
              "      <td>ما هو اصل كلمة\"Clitoris\"طبقا لقاموس اكسفورد لل...</td>\n",
              "    </tr>\n",
              "    <tr>\n",
              "      <th>1393</th>\n",
              "      <td>كيف يُستخدم الشكل المختصر \"Clit\"؟</td>\n",
              "    </tr>\n",
              "    <tr>\n",
              "      <th>1394</th>\n",
              "      <td>متى يُستخدم الشكل المختصر \"Clit\"؟</td>\n",
              "    </tr>\n",
              "  </tbody>\n",
              "</table>\n",
              "<p>1395 rows × 1 columns</p>\n",
              "</div><br><label><b>dtype:</b> object</label>"
            ],
            "text/plain": [
              "0                               من هو حمزة بن عبد المطلب؟\n",
              "1                   بما وصف رسول الله حمزة بن عبد المطلب؟\n",
              "2                                 بما وصف رسول الله عليّ؟\n",
              "3                                          متى أسلم حمزة؟\n",
              "4                            و ماذا فعل حمزة في غزوة بدر؟\n",
              "                              ...                        \n",
              "1390                          ما هو حجم رأس البظر البشرى؟\n",
              "1391         كم عدد النهايات العصبية فى رأس البظر البشرى؟\n",
              "1392    ما هو اصل كلمة\"Clitoris\"طبقا لقاموس اكسفورد لل...\n",
              "1393                    كيف يُستخدم الشكل المختصر \"Clit\"؟\n",
              "1394                    متى يُستخدم الشكل المختصر \"Clit\"؟\n",
              "Name: modified_question, Length: 1395, dtype: object"
            ]
          },
          "execution_count": 43,
          "metadata": {},
          "output_type": "execute_result"
        }
      ],
      "source": [
        "questions"
      ]
    },
    {
      "cell_type": "code",
      "execution_count": null,
      "metadata": {
        "id": "TNA-cJddTkcR"
      },
      "outputs": [],
      "source": [
        "def process_question_llama(q):\n",
        "    try:\n",
        "        response = chain.invoke({\"input\": q})\n",
        "        answer = response['answer']\n",
        "        return extract_text_llama(answer) or \"\"\n",
        "    except Exception as e:\n",
        "        return \"\"\n",
        "\n"
      ]
    },
    {
      "cell_type": "code",
      "execution_count": null,
      "metadata": {
        "colab": {
          "base_uri": "https://localhost:8080/",
          "height": 383
        },
        "id": "-sapWsCAJ-sH",
        "outputId": "a6cd157b-75c3-48af-8f79-b7402a6587eb"
      },
      "outputs": [],
      "source": [
        "# Generate answers using the chain\n",
        "generated_answers = {}\n",
        "i = 12\n",
        "for q in questions[12:]:\n",
        "    generated_answers[i] = extract_text_llama(chain.invoke({\"input\": q})['answer'])\n",
        "    i += 1"
      ]
    },
    {
      "cell_type": "code",
      "execution_count": null,
      "metadata": {
        "id": "L5TByLZaLn7V"
      },
      "outputs": [],
      "source": [
        "len(generated_answers)"
      ]
    },
    {
      "cell_type": "code",
      "execution_count": null,
      "metadata": {
        "id": "iTeXEerOuPzS"
      },
      "outputs": [],
      "source": [
        "llama_df = df['modified_question','Answers_last']"
      ]
    },
    {
      "cell_type": "code",
      "execution_count": null,
      "metadata": {
        "id": "fu0ifE-6OS9P"
      },
      "outputs": [],
      "source": [
        "llama_df['llama_answers'] = generated_answers.values()"
      ]
    },
    {
      "cell_type": "code",
      "execution_count": null,
      "metadata": {
        "id": "x4EjD8DtuwfX"
      },
      "outputs": [],
      "source": [
        "llama_df['llama_answers'].fillna('', inplace=True)"
      ]
    },
    {
      "cell_type": "code",
      "execution_count": null,
      "metadata": {
        "id": "gWpOLRjuFNNQ"
      },
      "outputs": [],
      "source": [
        "llama_df"
      ]
    },
    {
      "cell_type": "code",
      "execution_count": null,
      "metadata": {
        "id": "jaQudq5YuvFj"
      },
      "outputs": [],
      "source": [
        "from nltk.translate.bleu_score import sentence_bleu\n",
        "from nltk.translate.bleu_score import SmoothingFunction\n",
        "from nltk import ngrams\n",
        "from sklearn.metrics.pairwise import cosine_similarity\n",
        "import numpy as np\n",
        "\n",
        "\n",
        "def removeTashkeel(text):\n",
        "    # Removes Tashkeel from input text\n",
        "\n",
        "    p_tashkeel = re.compile(r'[\\u0616-\\u061A\\u064B-\\u0652\\u06D6-\\u06ED\\u08F0-\\u08F3\\uFC5E-\\uFC63\\u0670]')\n",
        "    text = re.sub(p_tashkeel, \"\", text)\n",
        "    return text\n",
        "\n",
        "def normalizeText(text):\n",
        "    \"\"\"\n",
        "        normalizes all forms to alf to ا, converts ة to ه, and ى to ي.  It also converts new lines and tabs to a single space\n",
        "        and seperates common punctuation marks from text\n",
        "    \"\"\"\n",
        "    text = removeTashkeel(text)\n",
        "    search = [\"أ\", \"إ\", \"آ\", \"ٱ\", \"ة\", \"_\", \"-\", \"/\", \".\", \"،\", \" و \", '\"', \"ـ\", \"'\", \"ى\", \"ی\", \"\\\\\", '\\n', '\\t',\n",
        "              '&quot;', '?', '؟', '!', 'ﷲ']\n",
        "    replace = [\"ا\", \"ا\", \"ا\", \"ا\", \"ه\", \" \", \" \", \"\", \"\", \"\", \" و\", \"\", \"\", \"\", \"ي\", \"ي\", \"\", ' ', ' ', ' ', ' ? ',\n",
        "               ' ؟ ',' ! ', 'الله']\n",
        "\n",
        "    # search = [\"آ\", \"إ\", \"أ\", \"ة\"]\n",
        "    # replace = [\"ا\", \"ا\", \"ا\", \"ه\"]\n",
        "\n",
        "    for i in range(0, len(search)):\n",
        "        text = text.replace(search[i], replace[i])\n",
        "    return text\n",
        "\n",
        "def calculate_precision_recall_f1(system_answer, reference_answer):\n",
        "    # Tokenizing the answers into sets of words\n",
        "    system_answer = normalizeText(system_answer)\n",
        "    reference_answer = normalizeText(reference_answer)\n",
        "    reference_tokens = set(reference_answer.split())\n",
        "    system_tokens = set(system_answer.split())\n",
        "\n",
        "    # Calculating Precision and Recall\n",
        "    common_tokens = reference_tokens.intersection(system_tokens)\n",
        "    precision = len(common_tokens) / len(system_tokens) if system_tokens else 0\n",
        "    recall = len(common_tokens) / len(reference_tokens) if reference_tokens else 0\n",
        "\n",
        "    # Calculating F1 Score\n",
        "    if precision + recall != 0:\n",
        "        f1_score = 2 * (precision * recall) / (precision + recall)\n",
        "    else:\n",
        "        f1_score = 0\n",
        "\n",
        "    return precision, recall, f1_score\n",
        "\n",
        "def calculate_bleu(system_answer, reference_answer):\n",
        "    system_answer = normalizeText(system_answer)\n",
        "    reference_answer = normalizeText(reference_answer)\n",
        "    reference_tokens = [reference_answer.split()]\n",
        "    system_tokens = system_answer.split()\n",
        "    bleu_score = sentence_bleu(reference_tokens, system_tokens, smoothing_function=SmoothingFunction().method1)\n",
        "    return bleu_score\n",
        "\n",
        "def calculate_cosineSim(system_answer, reference_answer):\n",
        "    system_answer_v  = embedding_E5.embed_documents([system_answer])\n",
        "    reference_answer_v = embedding_E5.embed_documents([reference_answer])\n",
        "\n",
        "    cosine_sim = cosine_similarity(system_answer_v, reference_answer_v)[0][0]\n",
        "    return cosine_sim\n",
        "\n",
        "\n",
        "\n"
      ]
    },
    {
      "cell_type": "markdown",
      "metadata": {},
      "source": [
        "### Model stats"
      ]
    },
    {
      "cell_type": "code",
      "execution_count": null,
      "metadata": {
        "id": "1iSdMfHovpeO"
      },
      "outputs": [],
      "source": [
        "models = [\n",
        "'llama_answers'\n",
        "]\n",
        "\n",
        "\n",
        "# Add new columns for metrics\n",
        "for ll_model in models:\n",
        "    llama_df[f'{ll_model}_precision'] = 0.0\n",
        "    llama_df[f'{ll_model}_recall'] = 0.0\n",
        "    llama_df[f'{ll_model}_f1_score'] = 0.0\n",
        "    llama_df[f'{ll_model}_bleu_score'] = 0.0\n",
        "    llama_df[f'{ll_model}_cosineSim'] = 0.0\n",
        "\n",
        "# Calculate metrics for each row and each model\n",
        "for idx, row in llama_df.iterrows():\n",
        "    reference_answer = row['Answers_last']\n",
        "    for ll_model in models:\n",
        "        system_generated_answer = row[ll_model]\n",
        "        if system_generated_answer.strip() == \"\":\n",
        "            precision, recall, f1_score = 0, 0, 0\n",
        "            bleu_score = 0\n",
        "            sim_score = 0\n",
        "        else:\n",
        "            precision, recall, f1_score = calculate_precision_recall_f1(system_generated_answer, reference_answer)\n",
        "            bleu_score = calculate_bleu(system_generated_answer, reference_answer)\n",
        "            sim_score = calculate_cosineSim(system_generated_answer, reference_answer)\n",
        "\n",
        "        # Store the metrics in the DataFrame\n",
        "        llama_df.at[idx, f'{ll_model}_precision'] = precision\n",
        "        llama_df.at[idx, f'{ll_model}_recall'] = recall\n",
        "        llama_df.at[idx, f'{ll_model}_f1_score'] = f1_score\n",
        "        llama_df.at[idx, f'{ll_model}_bleu_score'] = bleu_score\n",
        "        llama_df.at[idx, f'{ll_model}_cosineSim'] = sim_score\n",
        "\n",
        "\n",
        "# Calculate the average of each metric column and rename the columns\n",
        "for ll_model in models:\n",
        "    for metric in ['precision', 'recall', 'f1_score', 'bleu_score', 'cosineSim']:\n",
        "        col_name = f'{ll_model}_{metric}'\n",
        "        avg_value = llama_df[col_name].mean()\n",
        "        new_col_name = f'{col_name} ({avg_value:.2f})'\n",
        "        llama_df.rename(columns={col_name: new_col_name}, inplace=True)"
      ]
    },
    {
      "cell_type": "code",
      "execution_count": null,
      "metadata": {
        "colab": {
          "base_uri": "https://localhost:8080/",
          "height": 144
        },
        "id": "XQKvFgHc3JZG",
        "outputId": "b4e0e934-746b-4223-b479-f1d03e7f03c5"
      },
      "outputs": [],
      "source": [
        "llama_df.to_csv('/content/llama_all.csv', index=False, encoding='utf-8-sig')"
      ]
    },
    {
      "cell_type": "markdown",
      "metadata": {
        "id": "LioX2sK6f2x0"
      },
      "source": [
        "---"
      ]
    },
    {
      "cell_type": "markdown",
      "metadata": {
        "id": "GWDXccLfH4Uq"
      },
      "source": [
        "### Mistral"
      ]
    },
    {
      "cell_type": "code",
      "execution_count": null,
      "metadata": {
        "id": "eBBAPCCkIpJM"
      },
      "outputs": [],
      "source": [
        "class Mistral:\n",
        "    def __init__(self, url, headers, model=\"mistralai/Mistral-7B-Instruct-v0.2\", temperature=0.0, max_tokens=3000, base=2, max_tries=3, add_inst=True, verbose=False):\n",
        "        self.url = url\n",
        "        self.headers = headers\n",
        "        self.model = model\n",
        "        self.temperature = temperature\n",
        "        self.max_tokens = max_tokens\n",
        "        self.base = base\n",
        "        self.max_tries = max_tries\n",
        "        self.add_inst = add_inst\n",
        "        self.verbose = verbose\n",
        "\n",
        "    def _call_api(self, prompt):\n",
        "        if self.add_inst:\n",
        "            prompt = f\"[INST]{prompt}[/INST]\"\n",
        "\n",
        "        if self.verbose:\n",
        "            print(f\"Prompt:\\n{prompt}\\n\")\n",
        "            print(f\"Model: {self.model}\")\n",
        "\n",
        "        data = {\n",
        "            \"model\": self.model,\n",
        "            \"prompt\": prompt,\n",
        "            \"temperature\": self.temperature,\n",
        "            \"max_tokens\": self.max_tokens\n",
        "        }\n",
        "\n",
        "        wait_seconds = [self.base**i for i in range(self.max_tries)]\n",
        "\n",
        "        for num_tries in range(self.max_tries):\n",
        "            try:\n",
        "                response = requests.post(self.url, headers=self.headers, json=data)\n",
        "                response.raise_for_status()\n",
        "                return response.json()['output']['choices'][0]['text']\n",
        "            except requests.exceptions.HTTPError as e:\n",
        "                if response.status_code != 500:\n",
        "                    return response.json()\n",
        "\n",
        "                print(f\"HTTP error occurred: {e}\")\n",
        "                print(f\"Num tries: {num_tries}\")\n",
        "                print(f\"Waiting {wait_seconds[num_tries]} seconds before automatically trying again.\")\n",
        "                time.sleep(wait_seconds[num_tries])\n",
        "            except Exception as e:\n",
        "                print(f\"Other error occurred: {e}\")\n",
        "                return {\"error\": str(e)}\n",
        "\n",
        "        print(f\"Tried {self.max_tries} times to make API call to get a valid response object\")\n",
        "        print(\"Returning provided response\")\n",
        "        return response\n",
        "\n",
        "    def __call__(self, prompt):\n",
        "        return self._call_api(prompt)"
      ]
    },
    {
      "cell_type": "code",
      "execution_count": null,
      "metadata": {
        "id": "1J815SKeHywL"
      },
      "outputs": [],
      "source": [
        "mistral_llm = Mistral(url=url, headers={\"Authorization\": f\"Bearer {my_key}\", \"Content-Type\": \"application/json\"}, model=\"mistralai/Mistral-7B-Instruct-v0.2\")\n"
      ]
    },
    {
      "cell_type": "code",
      "execution_count": null,
      "metadata": {
        "id": "wn6AHEh2RJ8v"
      },
      "outputs": [],
      "source": [
        "question_answer_chain = create_stuff_documents_chain(mistral_llm , prompt)\n",
        "chain = create_retrieval_chain(retriever_E5, question_answer_chain)"
      ]
    },
    {
      "cell_type": "code",
      "execution_count": null,
      "metadata": {
        "colab": {
          "base_uri": "https://localhost:8080/",
          "height": 35
        },
        "id": "-IhQxHxRSxEo",
        "outputId": "86873f65-de80-4c54-88fe-c293f80cae79"
      },
      "outputs": [
        {
          "data": {
            "application/vnd.google.colaboratory.intrinsic+json": {
              "type": "string"
            },
            "text/plain": [
              "'متى أعلنت موريشيوس استقلالها؟'"
            ]
          },
          "execution_count": 45,
          "metadata": {},
          "output_type": "execute_result"
        }
      ],
      "source": [
        "df['modified_question'][194]"
      ]
    },
    {
      "cell_type": "code",
      "execution_count": null,
      "metadata": {
        "colab": {
          "base_uri": "https://localhost:8080/"
        },
        "id": "moSpYRHsyY1l",
        "outputId": "1295c286-3f97-4706-ea56-8e535c422a65"
      },
      "outputs": [
        {
          "data": {
            "text/plain": [
              "{'input': 'متى أعلنت موريشيوس استقلالها؟',\n",
              " 'context': [Document(metadata={'source': '/content/Docs/all_text.txt'}, page_content='جمهورية موريشيوس هي جزر صغيرة بوسط المحيط الهندي تبعد عن ملاجاش (مدغشقر) بحوالي 860 كيلومتر. الرحالة البرتغالي دون بيدرو ماسكارينهاس كان أول من عرف العالم بها في العام 1505 وقد قام بإطلاق اسم ماسكارينس على مجموعة الجزر المعروفة الآن بموريشيوس، رودريغز وريونيون. وفي عام 1598، رسا أسطول هولندي في غراند بورت مما أدى إلى إقامة أول مستعمرة هولندية على الجزيرة في 1638. وعلى مدى السنين، أدخل الهولنديون إلى الجزيرة قصب السكر والحيوانات الأليفة والغزلان قبل رحيلهم عنها في 1710. وجاء من بعدهم الفرنسيون في سنة 1715 وأسسوا ميناء بورت لويس -عاصمة البلاد حاليا- وظلت جزيرة موريشيوس قاعدة لهم حتى هزيمة نابليون، فاستولت عليها بريطانيا في سنة 1810 م، وأقاموا سلطة تحت قيادة روبرت فاركوهار قامت فيما بعد بغرس تغييرات اجتماعية واقتصادية سريعة في الجزيرة. أجرت البلاد انتخابات عامة في 1967، وضعت بعدها موريشويس دستور جديد وأعلنت استقلالها في 12 مارس 1968، ثم لحق ذلك الإعلان عن جمهورية موريشيوس في 12 مارس 1992.'),\n",
              "  Document(metadata={'source': '/content/Docs/all_text.txt'}, page_content='جمهورية موريشيوس هي جزر صغيرة بوسط المحيط الهندي تبعد عن ملاجاش (مدغشقر) بحوالي 860 كيلومتر. الرحالة البرتغالي دون بيدرو ماسكارينهاس كان أول من عرف العالم بها في العام 1505 وقد قام بإطلاق اسم ماسكارينس على مجموعة الجزر المعروفة الآن بموريشيوس، رودريغز وريونيون.'),\n",
              "  Document(metadata={'source': '/content/Docs/all_text.txt'}, page_content='في هذه الأيام، تُعرف موريشيوس على أنها جمهورية ديموقراطية مبنية على نموذج ويستمينستير والذي يضمن الفصل بين كل من القوى التشريعية والتنفيذية والقضائية. تتمتع الجزيرة الآن باستقرار سياسي حيث يتم انتخاب 62 عضواً للجمعية الوطنية كل 5 أعوام. وفي حين وجود رئيس للدولة، فرئيس الوزراء هو من يحمل القوى التنفيذية بالإضافة إلى قيادة الحكومة.\\n\\nالعلويون أو العلوية نسبة إلى علي بن أبي طالب لتولّيهم إياه إمامًا بعد وفاة الرسول محمد، ويسمّون كذلك بـالنُصيرية؛ طائفة من الشيعة الجعفرية الإثني عشرية، تتميّز عن بقية الإثني عشرية بإيمانهم بالأدلة العقلية.'),\n",
              "  Document(metadata={'source': '/content/Docs/all_text.txt'}, page_content='أعلن استقلال سوريا في 8 مارس 1920 من قبل المؤتمر السوري العام، إلا أن فرنسا رفضت الاعتراف بالمؤتمر، وأصدرت في سبتمبر 1920 \"مراسيم التقسيم\"، لاحقًا وبشكل تدريجي حتى 1936 أعيد اتحاد خمسة كيانات ضمن الجمهورية السورية، التي نالت استقلالها التام عام 1946، لتنتهي فترة الديموقراطية البرلمانية القصيرة، والتي تخللتها أزمات عديدة، عام 1963 بقيام نظام الحزب الواحد، الاشتراكي. اندلعت عام 2011 الأزمة السورية، التي أدت لدمار واسع في البلاد، ووصفت بكونها أكبر كوارثها في العصر الحديث. الدستور الحالي صدر عام 2012، وهو كسابقه دستور 1973 ينصّ على كون نظام الحكم جمهوري رئاسي.'),\n",
              "  Document(metadata={'source': '/content/Docs/all_text.txt'}, page_content='لكن في 19 يونيو سنة 1961 أُلغِيَت معاهدة الحماية البريطانية، وتم إعلان استقلال دولة الكويت، وفي 11 نوفمبر سنة 1962 أُصدِرَ الدستور.\\n\\nسياسياً، تعدّ الكويت إمارة وراثية يحكمها أمير من ذرية الشيخ مبارك الصباح، ونظام الحكم فيها هو ملكي دستوري، وتتميز بنظام برلماني متمثلاً بمجلس الأمة الذي يمثل السلطة التشريعية. وبينت المادة السادسة من الدستور أن نظام الحكم في الكويت ديموقراطي، السيادة فيه للأمة، التي هي مصدر السلطات جميعاً. مدينة الكويت هي العاصمة السياسية والاقتصادية لدولة الكويت، ففيها مقر الحكم والحكومة ومراكز البنوك الرئيسية، وسوق الكويت للأوراق المالية. والكويت عضو مؤسس في مجلس التعاون لدول الخليج العربية، وفي منظّمة الدول المصدرة للبترول - أوبك، وعضو في منظمة التعاون الإسلامي، عضو في جامعة الدول العربية منذ عام 1961، وعضو في الأمم المتحدة منذ عام 1963. تعدّ الكويت حليف رئيسي خارج الناتو للولايات المتحدة.')],\n",
              " 'answer': \" HumanMessage(content='12 مارس 1968')\"}"
            ]
          },
          "execution_count": 46,
          "metadata": {},
          "output_type": "execute_result"
        }
      ],
      "source": [
        "chain.invoke({\"input\": question})"
      ]
    },
    {
      "cell_type": "code",
      "execution_count": null,
      "metadata": {
        "colab": {
          "base_uri": "https://localhost:8080/"
        },
        "id": "GPS7n02aQweD",
        "outputId": "fca3819a-0ace-4f2b-b7dd-33546493995b"
      },
      "outputs": [
        {
          "name": "stdout",
          "output_type": "stream",
          "text": [
            " HumanMessage(content='12 مارس 1968')\n"
          ]
        }
      ],
      "source": [
        "question = df['modified_question'][194]\n",
        "print(chain.invoke({\"input\": question})['answer'])"
      ]
    },
    {
      "cell_type": "code",
      "execution_count": null,
      "metadata": {
        "id": "fLMeu7Ujxlm1"
      },
      "outputs": [],
      "source": [
        "def extract_arabic_mistral(text):\n",
        "    # Define a regular expression to match Arabic text\n",
        "    arabic_pattern = re.compile(r'[\\u0600-\\u06FF]+')\n",
        "\n",
        "    # Find all Arabic text segments in the string\n",
        "    arabic_matches = arabic_pattern.findall(text)\n",
        "\n",
        "    # Join the Arabic text segments into a single string\n",
        "    arabic_text = ' '.join(arabic_matches)\n",
        "\n",
        "    # If the length of the Arabic text is less than or equal to 20 characters\n",
        "    if len(arabic_text) <= 20:\n",
        "        arabic_text = text\n",
        "        arabic_text = arabic_text.replace('\\n\\n', ' ').replace('\\n', ' ')\n",
        "\n",
        "    return arabic_text"
      ]
    },
    {
      "cell_type": "code",
      "execution_count": null,
      "metadata": {
        "colab": {
          "base_uri": "https://localhost:8080/",
          "height": 35
        },
        "id": "-Apnva0JQwVZ",
        "outputId": "a2bae85a-0893-4540-e28c-2e69b24658c1"
      },
      "outputs": [
        {
          "data": {
            "application/vnd.google.colaboratory.intrinsic+json": {
              "type": "string"
            },
            "text/plain": [
              "\" HumanMessage(content='12 مارس 1968')\""
            ]
          },
          "execution_count": 47,
          "metadata": {},
          "output_type": "execute_result"
        }
      ],
      "source": [
        "extract_arabic_mistral(chain.invoke({\"input\": question})['answer'])"
      ]
    },
    {
      "cell_type": "code",
      "execution_count": null,
      "metadata": {
        "id": "5FCq3AXwyj9Y"
      },
      "outputs": [],
      "source": [
        "generated_answers"
      ]
    },
    {
      "cell_type": "code",
      "execution_count": null,
      "metadata": {
        "colab": {
          "base_uri": "https://localhost:8080/"
        },
        "id": "0HEz4qPs4kE3",
        "outputId": "952a95ba-901a-4a32-f2e7-7bf680906b6d"
      },
      "outputs": [],
      "source": [
        "def process_question(q):\n",
        "    try:\n",
        "        response = chain.invoke({\"input\": q})\n",
        "        answer = response['answer']\n",
        "        return extract_arabic_mistral(answer) or \"\"\n",
        "    except Exception as e:\n",
        "        return \"\"\n",
        "\n",
        "# Using enumerate to keep track of indices\n",
        "generated_answers = {}\n",
        "for i, q in enumerate(questions):\n",
        "    answer = process_question(q)\n",
        "    generated_answers[i] = answer\n"
      ]
    },
    {
      "cell_type": "code",
      "execution_count": null,
      "metadata": {
        "id": "1X6qzlN-tJjZ"
      },
      "outputs": [],
      "source": [
        "generated_answers.values()"
      ]
    },
    {
      "cell_type": "code",
      "execution_count": null,
      "metadata": {
        "id": "2YJtAkaGfJg8"
      },
      "outputs": [],
      "source": [
        "df['Mistral_answers'] = generated_answers.values()"
      ]
    },
    {
      "cell_type": "code",
      "execution_count": null,
      "metadata": {
        "colab": {
          "base_uri": "https://localhost:8080/"
        },
        "id": "cBako6T6DBTI",
        "outputId": "a8551988-3fe2-49f5-bad5-e33835e1c6e7"
      },
      "outputs": [
        {
          "data": {
            "text/plain": [
              "0"
            ]
          },
          "execution_count": 63,
          "metadata": {},
          "output_type": "execute_result"
        }
      ],
      "source": [
        "df['Mistral_answers'].isna().sum()"
      ]
    },
    {
      "cell_type": "code",
      "execution_count": null,
      "metadata": {
        "id": "Fbuekp9cfJdS"
      },
      "outputs": [],
      "source": [
        "df['Mistral_answers'].fillna('', inplace=True)\n",
        "df.to_csv('/content/allData_mod3.csv', index=False)"
      ]
    },
    {
      "cell_type": "code",
      "execution_count": null,
      "metadata": {
        "id": "VMr-5zHxfJbG"
      },
      "outputs": [],
      "source": [
        "df"
      ]
    },
    {
      "cell_type": "markdown",
      "metadata": {
        "id": "JnwzzugHgBsr"
      },
      "source": [
        "---"
      ]
    },
    {
      "cell_type": "markdown",
      "metadata": {
        "id": "RpOCuRAYOkg6"
      },
      "source": [
        "### Mixtral"
      ]
    },
    {
      "cell_type": "code",
      "execution_count": null,
      "metadata": {
        "id": "6jUsjp0afJV5"
      },
      "outputs": [],
      "source": [
        "class Mixtral:\n",
        "    def __init__(self, url, headers, model=\"mistralai/Mixtral-8x7B-Instruct-v0.1\", temperature=0.0, max_tokens=2000, base=2, max_tries=3, add_inst=True, verbose=False):\n",
        "        self.url = url\n",
        "        self.headers = headers\n",
        "        self.model = model\n",
        "        self.temperature = temperature\n",
        "        self.max_tokens = max_tokens\n",
        "        self.base = base\n",
        "        self.max_tries = max_tries\n",
        "        self.add_inst = add_inst\n",
        "        self.verbose = verbose\n",
        "\n",
        "    def _call_api(self, prompt):\n",
        "        if self.add_inst:\n",
        "            prompt = f\"[INST]{prompt}[/INST]\"\n",
        "\n",
        "        if self.verbose:\n",
        "            print(f\"Prompt:\\n{prompt}\\n\")\n",
        "            print(f\"Model: {self.model}\")\n",
        "\n",
        "        data = {\n",
        "            \"model\": self.model,\n",
        "            \"prompt\": prompt,\n",
        "            \"temperature\": self.temperature,\n",
        "            \"max_tokens\": self.max_tokens\n",
        "        }\n",
        "\n",
        "        wait_seconds = [self.base**i for i in range(self.max_tries)]\n",
        "\n",
        "        for num_tries in range(self.max_tries):\n",
        "            try:\n",
        "                response = requests.post(self.url, headers=self.headers, json=data)\n",
        "                response.raise_for_status()\n",
        "                return response.json()['output']['choices'][0]['text']\n",
        "            except requests.exceptions.HTTPError as e:\n",
        "                if response.status_code != 500:\n",
        "                    return response.json()\n",
        "\n",
        "                print(f\"HTTP error occurred: {e}\")\n",
        "                print(f\"Num tries: {num_tries}\")\n",
        "                print(f\"Waiting {wait_seconds[num_tries]} seconds before automatically trying again.\")\n",
        "                time.sleep(wait_seconds[num_tries])\n",
        "            except Exception as e:\n",
        "                print(f\"Other error occurred: {e}\")\n",
        "                return {\"error\": str(e)}\n",
        "\n",
        "        print(f\"Tried {self.max_tries} times to make API call to get a valid response object\")\n",
        "        print(\"Returning provided response\")\n",
        "        return response\n",
        "\n",
        "    def __call__(self, prompt):\n",
        "        return self._call_api(prompt)"
      ]
    },
    {
      "cell_type": "code",
      "execution_count": null,
      "metadata": {
        "id": "JZ402sWcgA5o"
      },
      "outputs": [],
      "source": [
        "mixtral_llm = Mixtral(url=url, headers={\"Authorization\": f\"Bearer {my_key}\", \"Content-Type\": \"application/json\"}, model=\"meta-llama/Llama-3-70b-chat-hf\")\n"
      ]
    },
    {
      "cell_type": "code",
      "execution_count": null,
      "metadata": {
        "id": "tS05pXP6gA3A"
      },
      "outputs": [],
      "source": [
        "from langchain.chains import create_retrieval_chain\n",
        "from langchain.chains.combine_documents import create_stuff_documents_chain\n",
        "from langchain_core.prompts import ChatPromptTemplate\n",
        "\n",
        "system_prompt = (\n",
        "    \"Use the given context to answer the question in Arabic language.\"\n",
        "    \"Use three sentence maximum and keep the answer precise and concise.\"\n",
        "    \"Context: {context}\"\n",
        ")\n",
        "prompt = ChatPromptTemplate.from_messages(\n",
        "    [\n",
        "        (\"system\", system_prompt),\n",
        "        (\"human\", \"{input}\"),\n",
        "    ]\n",
        ")"
      ]
    },
    {
      "cell_type": "code",
      "execution_count": null,
      "metadata": {
        "id": "rNBgBnOSgA0J"
      },
      "outputs": [],
      "source": [
        "question_answer_chain = create_stuff_documents_chain(mixtral_llm , prompt)\n",
        "chain = create_retrieval_chain(retriever_E5, question_answer_chain)"
      ]
    },
    {
      "cell_type": "code",
      "execution_count": null,
      "metadata": {
        "id": "aivpNtUVFMXW"
      },
      "outputs": [],
      "source": [
        "import re\n",
        "\n",
        "def extract_arabic_mixtral(text):\n",
        "    # Check if 'assistant' is in the text\n",
        "    if 'assistant' in text:\n",
        "        # Split by 'assistant'\n",
        "        parts = text.split('assistant')\n",
        "\n",
        "        # Check the number of 'assistant' occurrences\n",
        "        if len(parts) > 2:\n",
        "            # Extract text between the first two 'assistants'\n",
        "            extracted_text = parts[1].strip() + ' ' + parts[2].strip()\n",
        "        elif len(parts) == 2:\n",
        "            # Extract text after the first 'assistant'\n",
        "            extracted_text = parts[1].strip()\n",
        "        else:\n",
        "            # No 'assistant' found, return an empty string\n",
        "            extracted_text = \"\"\n",
        "    else:\n",
        "        # Find all occurrences of 'SystemMessage(content='\n",
        "        parts = text.split(\"SystemMessage(content=\")\n",
        "\n",
        "        if len(parts) > 1:\n",
        "            # Take the last part after the last 'SystemMessage(content='\n",
        "            last_part = parts[-1]\n",
        "            # Extract text before the first 'HumanMessage(content='\n",
        "            extracted_text = last_part.split(\"HumanMessage(content=\")[0]\n",
        "        else:\n",
        "            # No 'SystemMessage(content=' found, return empty string\n",
        "            extracted_text = \"\"\n",
        "\n",
        "    # Remove non-Arabic characters but keep Arabic and standard numerals\n",
        "    arabic_text = re.sub(r'[^\\u0600-\\u06FF0-9٠-٩\\s]', '', extracted_text)\n",
        "\n",
        "    # Return the extracted Arabic text\n",
        "    return arabic_text.strip()"
      ]
    },
    {
      "cell_type": "code",
      "execution_count": null,
      "metadata": {
        "colab": {
          "base_uri": "https://localhost:8080/",
          "height": 35
        },
        "id": "ZzPKC4PoGibR",
        "outputId": "fe9d0afe-4ebd-4b36-b93d-13aa0f851e5f"
      },
      "outputs": [
        {
          "data": {
            "application/vnd.google.colaboratory.intrinsic+json": {
              "type": "string"
            },
            "text/plain": [
              "'من هو الزبون الأول لتونس؟'"
            ]
          },
          "execution_count": 51,
          "metadata": {},
          "output_type": "execute_result"
        }
      ],
      "source": [
        "question = df['modified_question'][600]\n",
        "question"
      ]
    },
    {
      "cell_type": "code",
      "execution_count": null,
      "metadata": {
        "colab": {
          "base_uri": "https://localhost:8080/",
          "height": 239
        },
        "id": "LJYKsFaDZQgP",
        "outputId": "98eec646-92d1-449b-91cc-86c19715e75c"
      },
      "outputs": [
        {
          "data": {
            "text/html": [
              "<div style=\"max-width:800px; border: 1px solid var(--colab-border-color);\"><style>\n",
              "      pre.function-repr-contents {\n",
              "        overflow-x: auto;\n",
              "        padding: 8px 12px;\n",
              "        max-height: 500px;\n",
              "      }\n",
              "\n",
              "      pre.function-repr-contents.function-repr-contents-collapsed {\n",
              "        cursor: pointer;\n",
              "        max-height: 100px;\n",
              "      }\n",
              "    </style>\n",
              "    <pre style=\"white-space: initial; background:\n",
              "         var(--colab-secondary-surface-color); padding: 8px 12px;\n",
              "         border-bottom: 1px solid var(--colab-border-color);\"><b>langchain_core.runnables.base.RunnableBinding</b><br/>def __init__(*, bound: Runnable[Input, Output], kwargs: Optional[Mapping[str, Any]]=None, config: Optional[RunnableConfig]=None, config_factories: Optional[List[Callable[[RunnableConfig], RunnableConfig]]]=None, custom_input_type: Optional[Union[Type[Input], BaseModel]]=None, custom_output_type: Optional[Union[Type[Output], BaseModel]]=None, **other_kwargs: Any) -&gt; None</pre><pre class=\"function-repr-contents function-repr-contents-collapsed\" style=\"\"><a class=\"filepath\" style=\"display:none\" href=\"#\">/usr/local/lib/python3.10/dist-packages/langchain_core/runnables/base.py</a>Wrap a Runnable with additional functionality.\n",
              "\n",
              "A RunnableBinding can be thought of as a &quot;runnable decorator&quot; that\n",
              "preserves the essential features of Runnable; i.e., batching, streaming,\n",
              "and async support, while adding additional functionality.\n",
              "\n",
              "Any class that inherits from Runnable can be bound to a `RunnableBinding`.\n",
              "Runnables expose a standard set of methods for creating `RunnableBindings`\n",
              "or sub-classes of `RunnableBindings` (e.g., `RunnableRetry`,\n",
              "`RunnableWithFallbacks`) that add additional functionality.\n",
              "\n",
              "These methods include:\n",
              "- `bind`: Bind kwargs to pass to the underlying Runnable when running it.\n",
              "- `with_config`: Bind config to pass to the underlying Runnable when running it.\n",
              "- `with_listeners`:  Bind lifecycle listeners to the underlying Runnable.\n",
              "- `with_types`: Override the input and output types of the underlying Runnable.\n",
              "- `with_retry`: Bind a retry policy to the underlying Runnable.\n",
              "- `with_fallbacks`: Bind a fallback policy to the underlying Runnable.\n",
              "\n",
              "Example:\n",
              "\n",
              "`bind`: Bind kwargs to pass to the underlying Runnable when running it.\n",
              "\n",
              "    .. code-block:: python\n",
              "\n",
              "        # Create a Runnable binding that invokes the ChatModel with the\n",
              "        # additional kwarg `stop=[&#x27;-&#x27;]` when running it.\n",
              "        from langchain_community.chat_models import ChatOpenAI\n",
              "        model = ChatOpenAI()\n",
              "        model.invoke(&#x27;Say &quot;Parrot-MAGIC&quot;&#x27;, stop=[&#x27;-&#x27;]) # Should return `Parrot`\n",
              "        # Using it the easy way via `bind` method which returns a new\n",
              "        # RunnableBinding\n",
              "        runnable_binding = model.bind(stop=[&#x27;-&#x27;])\n",
              "        runnable_binding.invoke(&#x27;Say &quot;Parrot-MAGIC&quot;&#x27;) # Should return `Parrot`\n",
              "\n",
              "    Can also be done by instantiating a RunnableBinding directly (not recommended):\n",
              "\n",
              "    .. code-block:: python\n",
              "\n",
              "        from langchain_core.runnables import RunnableBinding\n",
              "        runnable_binding = RunnableBinding(\n",
              "            bound=model,\n",
              "            kwargs={&#x27;stop&#x27;: [&#x27;-&#x27;]} # &lt;-- Note the additional kwargs\n",
              "        )\n",
              "        runnable_binding.invoke(&#x27;Say &quot;Parrot-MAGIC&quot;&#x27;) # Should return `Parrot`</pre>\n",
              "      <script>\n",
              "      if (google.colab.kernel.accessAllowed && google.colab.files && google.colab.files.view) {\n",
              "        for (const element of document.querySelectorAll('.filepath')) {\n",
              "          element.style.display = 'block'\n",
              "          element.onclick = (event) => {\n",
              "            event.preventDefault();\n",
              "            event.stopPropagation();\n",
              "            google.colab.files.view(element.textContent, 5324);\n",
              "          };\n",
              "        }\n",
              "      }\n",
              "      for (const element of document.querySelectorAll('.function-repr-contents')) {\n",
              "        element.onclick = (event) => {\n",
              "          event.preventDefault();\n",
              "          event.stopPropagation();\n",
              "          element.classList.toggle('function-repr-contents-collapsed');\n",
              "        };\n",
              "      }\n",
              "      </script>\n",
              "      </div>"
            ],
            "text/plain": [
              "langchain_core.runnables.base.RunnableBinding"
            ]
          },
          "execution_count": 128,
          "metadata": {},
          "output_type": "execute_result"
        }
      ],
      "source": [
        "type(chain)"
      ]
    },
    {
      "cell_type": "code",
      "execution_count": null,
      "metadata": {
        "colab": {
          "base_uri": "https://localhost:8080/"
        },
        "id": "B--mYOHtHv5P",
        "outputId": "fee39f91-eb00-4407-9dc8-a2def49bac72"
      },
      "outputs": [
        {
          "data": {
            "text/plain": [
              "{'input': 'من هو الزبون الأول لتونس؟',\n",
              " 'context': [Document(metadata={'source': '/content/Docs/all_text.txt'}, page_content='تونس، رسميًا الجمهورية التونسية، هي دولة تقع في شمال أفريقيا يحدها من الشمال والشرق البحر الأبيض المتوسط ومن الجنوب الشرقي ليبيا (459 كم) ومن الغرب الجزائر (965 كم). لعبت تونس أدوارا هامة في التاريخ القديم منذ عهد الفينيقيين والأمازيغ وااقرطاجيين والونداليين والرومان وقد عرفت باسم مقاطعة أفريكا إبان الحكم الروماني لها والتي سميت باسمها كامل القارة. فتحها المسلمون في القرن السابع الميلادي وأسسوا فيها مدينة القيروان سنة 50 هـ لتكون ثاني مدينة إسلامية في شمال أفريقيا بعد الفسطاط. في ظل الدولة العثمانية، كانت تسمى \"الإيالة التونسية\". وقعت تحت الاحتلال الفرنسي في عام 1881، ثم حصلت على استقلالها في عام 1956 لتصبح رسميا المملكة التونسية في نهاية عهد محمد الأمين باي. مع إعلان الجمهورية التونسية في 25 يوليو 1957، أصبح الحبيب بورقيبة أول رئيس لها.'),\n",
              "  Document(metadata={'source': '/content/Docs/all_text.txt'}, page_content='تونس، رسميًا الجمهورية التونسية، هي دولة تقع في شمال أفريقيا يحدها من الشمال والشرق البحر الأبيض المتوسط ومن الجنوب الشرقي ليبيا (459 كم) ومن الغرب الجزائر (965 كم). لعبت تونس أدوارا هامة في التاريخ القديم منذ عهد الفينيقيين والأمازيغ وااقرطاجيين والونداليين والرومان وقد عرفت باسم مقاطعة أفريكا إبان الحكم الروماني لها والتي سميت باسمها كامل القارة. فتحها المسلمون في القرن السابع الميلادي وأسسوا فيها مدينة القيروان سنة 50 هـ لتكون ثاني مدينة إسلامية في شمال أفريقيا بعد الفسطاط. في ظل الدولة العثمانية، كانت تسمى \"الإيالة التونسية\". وقعت تحت الاحتلال الفرنسي في عام 1881، ثم حصلت على استقلالها في عام 1956 لتصبح رسميا المملكة التونسية في نهاية عهد محمد الأمين باي. مع إعلان الجمهورية التونسية في 25 يوليو 1957، أصبح الحبيب بورقيبة أول رئيس لها.'),\n",
              "  Document(metadata={'source': '/content/Docs/all_text.txt'}, page_content='عجائب الدنيا السبع الجديدة، هو مشروع استثماري أطلقه منتج أفلام كندي من أصل سويسري يدعى برنارد فيبر عام 1999، وذلك من خلال شركة ربحية أنشأها باسم مؤسسة العالم المفتوح الجديد (New Open World Corporation).\\n\\nفتح الفاتحون اليونانيون القُدامى معظم ماعرف من العالم في القرن الرابع قبل الميلاد، مما أعطى السياح اليونانيين فرصة وسهولة الوصول للبلدان الحضارية القديمة وزيارتها، مثل الحضارة الفرعونية والفارسية والبابلية، وفتن هؤلاء السياح بالمعالم والعجائب التي شاهدوها في هذه البلدان، فبدأ السياح بتسجيل مارأوه على الورق ليتذكروها لاحقاً. وكان كل شخص يحمل نسخته الخاصة من هذه القائمة، ولكن أفضل النسخ الموجودة كانت لشاعر يوناني يدعى أنتيباتر الصيداوي، والتي ألفت من 140 سنة قبل الميلاد. وكتب أيضاً عالم الرياضيات فيلو البيزنطي كتاباً أسماه (معالم العالم السبعة)، لكن المخطوطة الوحيدة التي بقيت من هذا الكتاب ذكرت ستة عجائب فقط، اتفق فيها جميعاً مع أنتيباتر الصيداوي. وكان قد استبدل الأخير في أحد نسخه عجيبة منارة الإسكندرية بجدران بابل، وقبل بناء تمثال رودس استعاض المؤلفون التمثال بعجيبة بوابة عشتار.'),\n",
              "  Document(metadata={'source': '/content/Docs/all_text.txt'}, page_content='عجائب الدنيا السبع الجديدة، هو مشروع استثماري أطلقه منتج أفلام كندي من أصل سويسري يدعى برنارد فيبر عام 1999، وذلك من خلال شركة ربحية أنشأها باسم مؤسسة العالم المفتوح الجديد (New Open World Corporation).\\n\\nفتح الفاتحون اليونانيون القُدامى معظم ماعرف من العالم في القرن الرابع قبل الميلاد، مما أعطى السياح اليونانيين فرصة وسهولة الوصول للبلدان الحضارية القديمة وزيارتها، مثل الحضارة الفرعونية والفارسية والبابلية، وفتن هؤلاء السياح بالمعالم والعجائب التي شاهدوها في هذه البلدان، فبدأ السياح بتسجيل مارأوه على الورق ليتذكروها لاحقاً. وكان كل شخص يحمل نسخته الخاصة من هذه القائمة، ولكن أفضل النسخ الموجودة كانت لشاعر يوناني يدعى أنتيباتر الصيداوي، والتي ألفت من 140 سنة قبل الميلاد. وكتب أيضاً عالم الرياضيات فيلو البيزنطي كتاباً أسماه (معالم العالم السبعة)، لكن المخطوطة الوحيدة التي بقيت من هذا الكتاب ذكرت ستة عجائب فقط، اتفق فيها جميعاً مع أنتيباتر الصيداوي. وكان قد استبدل الأخير في أحد نسخه عجيبة منارة الإسكندرية بجدران بابل، وقبل بناء تمثال رودس استعاض المؤلفون التمثال بعجيبة بوابة عشتار.'),\n",
              "  Document(metadata={'source': '/content/Docs/all_text.txt'}, page_content='تلى الأخيرَ في رئاسة الجمهورية زين العابدين بن علي بالانقلاب عام 1987، واستمر حكمه حتى 2011 حين هرب خلال الثورة التونسية. اعتمدت تونس على الصناعات الموجهة نحو التصدير في عملية تحرير وخصخصة الاقتصاد الذي بلغ متوسط نمو الناتج المحلي الإجمالي 5 ٪ منذ أوائل 1990، ويذكر ان تونس عانت الفساد في ظل حكم الرئيس السابق.\\n\\nتونس لديها علاقات وثيقة وتاريخية مع كل من الولايات المتحدة الأمريكية والاتحاد الأوروبي وهي حليف رئيسي خارج الناتو ولديها عدة اتفاقيات شراكة متقدمة تجمعها مع الاتحاد الأوروبي والذي يعد الزبون الأول لتونس والحليف الاقتصادي القوي. تونس هي أيضا عضو في جامعة الدول العربية والاتحاد الأفريقي. وأنشأت تونس علاقات وثيقة مع فرنسا على وجه الخصوص، من خلال التعاون الاقتصادي والتحديث الصناعي، وبرامج الخصخصة. وقد جعلت النهج الذي تتبعه الحكومة في الصراع بين إسرائيل وفلسطين كما أنها وسيط في مجال الدبلوماسية في الشرق الأوسط ومساهم كبير في فرض السلام في العالم عبر قواتها المنتشرة في مناطق النزاع والتابعة للأمم المتحدة.')],\n",
              " 'answer': 'The answer is: الاتحاد الأوروبي (The European Union).assistant\\n\\nThe answer is: الاتحاد الأوروبي (The European Union).assistant\\n\\nThe answer is: الاتحاد الأوروبي (The European Union).assistant\\n\\nThe answer is: الاتحاد الأوروبي (The European Union).assistant\\n\\nThe answer is: الاتحاد الأوروبي (The European Union).assistant\\n\\nالزبون الأول لتونس هو الاتحاد الأوروبي.assistant\\n\\nالزبون الأول لتونس هو الاتحاد الأوروبي.assistant\\n\\nالزبون الأول لتونس هو الاتحاد الأوروبي.assistant\\n\\nالزبون الأول لتونس هو الاتحاد الأوروبي.assistant\\n\\nالزبون الأول لتونس هو الاتحاد الأوروبي.assistant\\n\\nالزبون الأول لتونس هو الاتحاد الأوروبي.assistant\\n\\nالزبون الأول لتونس هو الاتحاد الأوروبي.assistant\\n\\nالزبون الأول لتونس هو الاتحاد الأوروبي.assistant\\n\\nالزبون الأول لتونس هو الاتحاد الأوروبي.assistant\\n\\nالزبون الأول لتونس هو الاتحاد الأوروبي.assistant\\n\\nالزبون الأول لتونس هو الاتحاد الأوروبي.assistant\\n\\nالزبون الأول لتونس هو الاتحاد الأوروبي.assistant\\n\\nالزبون الأول لتونس هو الاتحاد الأوروبي.assistant\\n\\nالزبون الأول لتونس هو الاتحاد الأوروبي.assistant\\n\\nالزبون الأول لتونس هو الاتحاد الأوروبي.assistant\\n\\nالزبون الأول لتونس هو الاتحاد الأوروبي.assistant\\n\\nالزبون الأول لتونس هو الاتحاد الأوروبي.assistant\\n\\nالزبون الأول لتونس هو الاتحاد الأوروبي.assistant\\n\\nالزبون الأول لتونس هو الاتحاد الأوروبي.assistant\\n\\nالزبون الأول لتونس هو الاتحاد الأوروبي.assistant\\n\\nالزبون الأول لتونس هو الاتحاد الأوروبي.assistant\\n\\nالزبون الأول لتونس هو الاتحاد الأوروبي.assistant\\n\\nالزبون الأول لتونس هو الاتحاد الأوروبي.assistant\\n\\nالزبون الأول لتونس هو الاتحاد الأوروبي.assistant\\n\\nالزبون الأول لتونس هو الاتحاد الأوروبي.assistant\\n\\nالزبون الأول لتونس هو الاتحاد الأوروبي.assistant\\n\\nالزبون الأول لتونس هو الاتحاد الأوروبي.assistant\\n\\nالزبون الأول لتونس هو الاتحاد الأوروبي.assistant\\n\\nالزبون الأول لتونس هو الاتحاد الأوروبي.assistant\\n\\nالزبون الأول لتونس هو الاتحاد الأوروبي.assistant\\n\\nالزبون الأول لتونس هو الاتحاد الأوروبي.assistant\\n\\nالزبون الأول لتونس هو الاتحاد الأوروبي.assistant\\n\\nالزبون الأول لتونس هو الاتحاد الأوروبي.assistant\\n\\nالزبون الأول لتونس هو الاتحاد الأوروبي.assistant\\n\\nالزبون الأول لتونس هو الاتحاد الأوروبي.assistant\\n\\nالزبون الأول لتونس هو الاتحاد الأوروبي.assistant\\n\\nالزبون الأول لتونس هو الاتحاد الأوروبي.assistant\\n\\nالزبون الأول لتونس هو الاتحاد الأوروبي.assistant\\n\\nالزبون الأول لتونس هو الاتحاد الأوروبي.assistant\\n\\nالزبون الأول لتونس هو الاتحاد الأوروبي.assistant\\n\\nالزبون الأول لتونس هو الاتحاد الأوروبي.assistant\\n\\nالزبون الأول لتونس هو الاتحاد الأوروبي.assistant\\n\\nالزبون الأول لتونس هو الاتحاد الأوروبي.assistant\\n\\nالزبون الأول لتونس هو الاتحاد الأوروبي.assistant\\n\\nالزبون الأول لتونس هو الاتحاد الأوروبي.assistant\\n\\nالزبون الأول لتونس هو الاتحاد الأوروبي.assistant\\n\\nالزبون الأول لتونس هو الاتحاد الأوروبي.assistant\\n\\nالزبون الأول لتونس هو الاتحاد الأوروبي.assistant\\n\\nالزبون الأول لتونس هو الاتحاد الأوروبي.assistant\\n\\nالزبون الأول لتونس هو الاتحاد الأوروبي.assistant\\n\\nالزبون الأول لتونس هو الاتحاد الأوروبي.assistant\\n\\nالزبون الأول لتونس هو الاتحاد الأوروبي.assistant\\n\\nالزبون الأول لتونس هو الاتحاد الأوروبي.assistant\\n\\nالزبون الأول لتونس هو الاتحاد الأوروبي.assistant\\n\\nالزبون الأول لتونس هو الاتحاد الأوروبي.assistant\\n\\nالزبون الأول لتونس هو الاتحاد الأوروبي.assistant\\n\\nالزبون الأول لتونس هو الاتحاد الأوروبي.assistant\\n\\nالزبون الأول لتونس هو الاتحاد الأوروبي.assistant\\n\\nالزبون الأول لتونس هو الاتحاد الأوروبي.assistant\\n\\nالزبون الأول لتونس هو الاتحاد الأوروبي.assistant\\n\\nالزبون الأول لتونس هو الاتحاد الأوروبي.assistant\\n\\nالزبون الأول لتونس هو الاتحاد الأوروبي.assistant\\n\\nالزبون الأول لتونس هو الاتحاد الأوروبي.assistant\\n\\nالزبون الأول لتونس هو الاتحاد الأوروبي.assistant\\n\\nالزبون الأول لتونس هو الاتحاد الأوروبي.assistant\\n\\nالزبون الأول لتونس هو الاتحاد الأوروبي.assistant\\n\\nالزبون الأول لتونس هو الاتحاد الأوروبي.assistant\\n\\nالزبون الأول لتونس هو الاتحاد الأوروبي.assistant\\n\\nالزبون الأول لتونس هو الاتحاد الأوروبي.assistant\\n\\nالزبون الأول لتونس هو الاتحاد الأوروبي.assistant\\n\\nالزبون الأول لتونس هو الاتحاد الأوروبي.assistant\\n\\nالزبون الأول لتونس هو الاتحاد الأوروبي.assistant\\n\\nالزبون الأول لتونس هو الاتحاد الأوروبي.assistant\\n\\nالزبون الأول لتونس هو الاتحاد الأوروبي.assistant\\n\\nالزبون الأول لتونس هو الاتحاد الأوروبي.assistant\\n\\nالزبون الأول لتونس هو الاتحاد الأوروبي.assistant\\n\\nالزبون الأول لتونس هو الاتحاد الأوروبي.assistant\\n\\nالزبون الأول لتونس هو الاتحاد الأوروبي.assistant\\n\\nالزبون الأول لتونس هو الاتحاد الأوروبي.assistant\\n\\nالزبون الأول لتونس هو الاتحاد الأوروبي.assistant\\n\\nالزبون الأول لتونس هو الاتحاد الأوروبي.assistant\\n\\nالزبون الأول لتونس هو الاتحاد الأوروبي.assistant\\n\\nالزبون الأول لتونس هو الاتحاد الأوروبي.assistant\\n\\nالزبون الأول لتونس هو الاتحاد الأوروبي.assistant\\n\\nالزبون الأول لتونس هو الاتحاد الأوروبي.assistant\\n\\nالزبون الأول لتونس هو الاتحاد الأوروبي.assistant\\n\\nالزبون الأول لتونس هو الاتحاد الأوروبي.assistant\\n\\nالزبون الأول لتونس هو الاتحاد الأوروبي.assistant\\n\\nالزبون الأول لتونس هو الاتحاد الأوروبي.assistant\\n\\nالزبون الأول لتونس هو الاتحاد الأوروبي.assistant\\n\\nالزبون الأول لتونس هو الاتحاد الأوروبي.assistant\\n\\nالزبون الأول لتونس هو الاتحاد الأوروبي.assistant\\n\\nالزبون الأول لتونس هو الاتحاد الأوروبي.assistant\\n\\nالزبون الأول لتونس هو الاتحاد الأوروبي.assistant\\n\\nالزبون الأول لتونس هو الاتحاد الأوروبي.assistant\\n\\nالزبون الأول لتونس هو الاتحاد الأوروبي.assistant\\n\\nالزبون الأول لتونس هو الاتحاد الأوروبي.assistant\\n\\nالزبون الأول لتونس هو الاتحاد الأوروبي.assistant\\n\\nالزبون الأول لتونس هو الاتحاد الأوروبي.assistant\\n\\nالزبون الأول لتونس هو الاتحاد الأوروبي.assistant\\n\\nالزبون الأول لتونس هو الاتحاد الأوروبي.assistant\\n\\nالزبون الأول لتونس هو الاتحاد الأوروبي.assistant\\n\\nالزبون الأول لتونس هو الاتحاد الأوروبي.assistant\\n\\nالزبون الأول لتونس هو الاتحاد الأوروبي.assistant\\n\\nالزبون الأول لتونس هو الاتحاد الأوروبي.assistant\\n\\nالزبون الأول لتونس هو الاتحاد الأوروبي.assistant\\n\\nالزب'}"
            ]
          },
          "execution_count": 138,
          "metadata": {},
          "output_type": "execute_result"
        }
      ],
      "source": [
        "chain.invoke({\"input\": question})"
      ]
    },
    {
      "cell_type": "code",
      "execution_count": null,
      "metadata": {
        "colab": {
          "base_uri": "https://localhost:8080/",
          "height": 35
        },
        "id": "ThqwKkToSiZf",
        "outputId": "8909f431-9be9-4706-e34b-4d8d4b6d4ecc"
      },
      "outputs": [
        {
          "data": {
            "application/vnd.google.colaboratory.intrinsic+json": {
              "type": "string"
            },
            "text/plain": [
              "'الاتحاد الأوروبي       الاتحاد الأوروبي'"
            ]
          },
          "execution_count": 139,
          "metadata": {},
          "output_type": "execute_result"
        }
      ],
      "source": [
        "extract_arabic_mixtral(chain.invoke({\"input\": question})['answer'])"
      ]
    },
    {
      "cell_type": "code",
      "execution_count": null,
      "metadata": {
        "id": "wZ9fWhzsI6X6"
      },
      "outputs": [],
      "source": [
        "questions = df['modified_question']\n",
        "true_answers = df['answers']"
      ]
    },
    {
      "cell_type": "code",
      "execution_count": null,
      "metadata": {
        "colab": {
          "base_uri": "https://localhost:8080/"
        },
        "id": "jMbKoxbTkpPy",
        "outputId": "09dd3f78-9269-4727-8cbe-9d306ac3473f"
      },
      "outputs": [
        {
          "data": {
            "text/plain": [
              "396"
            ]
          },
          "execution_count": 58,
          "metadata": {},
          "output_type": "execute_result"
        }
      ],
      "source": [
        "i"
      ]
    },
    {
      "cell_type": "code",
      "execution_count": null,
      "metadata": {
        "id": "AGaSnK6JkvsW"
      },
      "outputs": [],
      "source": [
        "generated_answers"
      ]
    },
    {
      "cell_type": "code",
      "execution_count": null,
      "metadata": {
        "id": "bg82ZeZpk8Ld"
      },
      "outputs": [],
      "source": [
        "questions.iloc[396:]"
      ]
    },
    {
      "cell_type": "code",
      "execution_count": null,
      "metadata": {
        "colab": {
          "base_uri": "https://localhost:8080/"
        },
        "id": "jHnDBHVGlNFQ",
        "outputId": "9014f6cf-1b22-49c9-bf8b-6a963bd1752a"
      },
      "outputs": [
        {
          "name": "stdout",
          "output_type": "stream",
          "text": [
            "ما هى الاعراض العامة اللتى تظهر  مع المرض؟\n"
          ]
        }
      ],
      "source": [
        "for i, q in enumerate(questions.iloc[561:]):\n",
        "  print(q)\n",
        "  break"
      ]
    },
    {
      "cell_type": "code",
      "execution_count": null,
      "metadata": {
        "id": "-RV-Z1m9ltGj"
      },
      "outputs": [],
      "source": [
        "generated_answers"
      ]
    },
    {
      "cell_type": "code",
      "execution_count": null,
      "metadata": {
        "colab": {
          "base_uri": "https://localhost:8080/",
          "height": 459
        },
        "id": "-Uk460fbWSgW",
        "outputId": "c0c2201d-f251-42cc-b058-a329c22228dd"
      },
      "outputs": [
        {
          "data": {
            "text/html": [
              "<div>\n",
              "<style scoped>\n",
              "    .dataframe tbody tr th:only-of-type {\n",
              "        vertical-align: middle;\n",
              "    }\n",
              "\n",
              "    .dataframe tbody tr th {\n",
              "        vertical-align: top;\n",
              "    }\n",
              "\n",
              "    .dataframe thead th {\n",
              "        text-align: right;\n",
              "    }\n",
              "</style>\n",
              "<table border=\"1\" class=\"dataframe\">\n",
              "  <thead>\n",
              "    <tr style=\"text-align: right;\">\n",
              "      <th></th>\n",
              "      <th>question</th>\n",
              "    </tr>\n",
              "  </thead>\n",
              "  <tbody>\n",
              "    <tr>\n",
              "      <th>561</th>\n",
              "      <td>ما هى الاعراض العامة اللتى تظهر  مع المرض؟</td>\n",
              "    </tr>\n",
              "    <tr>\n",
              "      <th>562</th>\n",
              "      <td>كيف يمكن تشخيص المرض؟</td>\n",
              "    </tr>\n",
              "    <tr>\n",
              "      <th>563</th>\n",
              "      <td>بماذا يعرف السرطان؟</td>\n",
              "    </tr>\n",
              "    <tr>\n",
              "      <th>564</th>\n",
              "      <td>ما هى نسب الوفاة بالسرطان؟</td>\n",
              "    </tr>\n",
              "    <tr>\n",
              "      <th>565</th>\n",
              "      <td>كم عد الوفيات بالسرطان فى العالم عام 2007؟</td>\n",
              "    </tr>\n",
              "    <tr>\n",
              "      <th>...</th>\n",
              "      <td>...</td>\n",
              "    </tr>\n",
              "    <tr>\n",
              "      <th>1390</th>\n",
              "      <td>ما هو حجم رأس البظر البشرى؟</td>\n",
              "    </tr>\n",
              "    <tr>\n",
              "      <th>1391</th>\n",
              "      <td>كم عدد النهايات العصبية فى رأس البظر البشرى؟</td>\n",
              "    </tr>\n",
              "    <tr>\n",
              "      <th>1392</th>\n",
              "      <td>ما هو اصل كلمة\"Clitoris\"طبقا لقاموس اكسفورد لل...</td>\n",
              "    </tr>\n",
              "    <tr>\n",
              "      <th>1393</th>\n",
              "      <td>اين استخدم الشكل المختصر ::Clit\"؟</td>\n",
              "    </tr>\n",
              "    <tr>\n",
              "      <th>1394</th>\n",
              "      <td>متى استخدم الشكل المختصر\"Clit\"؟</td>\n",
              "    </tr>\n",
              "  </tbody>\n",
              "</table>\n",
              "<p>834 rows × 1 columns</p>\n",
              "</div><br><label><b>dtype:</b> object</label>"
            ],
            "text/plain": [
              "561            ما هى الاعراض العامة اللتى تظهر  مع المرض؟\n",
              "562                                 كيف يمكن تشخيص المرض؟\n",
              "563                                   بماذا يعرف السرطان؟\n",
              "564                            ما هى نسب الوفاة بالسرطان؟\n",
              "565            كم عد الوفيات بالسرطان فى العالم عام 2007؟\n",
              "                              ...                        \n",
              "1390                          ما هو حجم رأس البظر البشرى؟\n",
              "1391         كم عدد النهايات العصبية فى رأس البظر البشرى؟\n",
              "1392    ما هو اصل كلمة\"Clitoris\"طبقا لقاموس اكسفورد لل...\n",
              "1393                    اين استخدم الشكل المختصر ::Clit\"؟\n",
              "1394                      متى استخدم الشكل المختصر\"Clit\"؟\n",
              "Name: question, Length: 834, dtype: object"
            ]
          },
          "execution_count": 113,
          "metadata": {},
          "output_type": "execute_result"
        }
      ],
      "source": [
        "questions.iloc[561:]"
      ]
    },
    {
      "cell_type": "code",
      "execution_count": null,
      "metadata": {
        "id": "an4vYLNdY0kZ"
      },
      "outputs": [],
      "source": [
        "chain.invoke({\"input\": q})\n",
        "# generated_answers[i+561] = answer"
      ]
    },
    {
      "cell_type": "code",
      "execution_count": null,
      "metadata": {
        "id": "yRgLa8TqQlTp"
      },
      "outputs": [],
      "source": [
        "def process_question_mixtral(q):\n",
        "    try:\n",
        "        response = chain.invoke({\"input\": q})\n",
        "        answer = response['answer']\n",
        "        return extract_arabic_mixtral(answer) or \"\"\n",
        "    except Exception as e:\n",
        "        return \"\"\n",
        "\n",
        "# Using enumerate to keep track of indices\n",
        "#generated_answers = {}\n",
        "for i, q in enumerate(questions.iloc[561:]):\n",
        "    answer = process_question_mixtral(q)\n",
        "    generated_answers[i+561] = answer\n"
      ]
    },
    {
      "cell_type": "code",
      "execution_count": null,
      "metadata": {
        "id": "YjHmT2N8QlQh"
      },
      "outputs": [],
      "source": [
        "generated_answers"
      ]
    },
    {
      "cell_type": "markdown",
      "metadata": {
        "id": "tKwDEfDSHwAO"
      },
      "source": [
        "#### General processong to the output"
      ]
    },
    {
      "cell_type": "code",
      "execution_count": null,
      "metadata": {},
      "outputs": [],
      "source": [
        "from nltk.translate.bleu_score import sentence_bleu\n",
        "from nltk.translate.bleu_score import SmoothingFunction\n",
        "from nltk import ngrams\n",
        "from sklearn.metrics.pairwise import cosine_similarity\n",
        "import numpy as np\n",
        "\n",
        "\n",
        "def removeTashkeel(text):\n",
        "    # Removes Tashkeel from input text\n",
        "\n",
        "    p_tashkeel = re.compile(r'[\\u0616-\\u061A\\u064B-\\u0652\\u06D6-\\u06ED\\u08F0-\\u08F3\\uFC5E-\\uFC63\\u0670]')\n",
        "    text = re.sub(p_tashkeel, \"\", text)\n",
        "    return text\n",
        "\n",
        "def normalizeText(text):\n",
        "    \"\"\"\n",
        "        normalizes all forms to alf to ا, converts ة to ه, and ى to ي.  It also converts new lines and tabs to a single space\n",
        "        and seperates common punctuation marks from text\n",
        "    \"\"\"\n",
        "    text = removeTashkeel(text)\n",
        "    search = [\"أ\", \"إ\", \"آ\", \"ٱ\", \"ة\", \"_\", \"-\", \"/\", \".\", \"،\", \" و \", '\"', \"ـ\", \"'\", \"ى\", \"ی\", \"\\\\\", '\\n', '\\t',\n",
        "              '&quot;', '?', '؟', '!', 'ﷲ']\n",
        "    replace = [\"ا\", \"ا\", \"ا\", \"ا\", \"ه\", \" \", \" \", \"\", \"\", \"\", \" و\", \"\", \"\", \"\", \"ي\", \"ي\", \"\", ' ', ' ', ' ', ' ? ',\n",
        "               ' ؟ ',' ! ', 'الله']\n",
        "\n",
        "    # search = [\"آ\", \"إ\", \"أ\", \"ة\"]\n",
        "    # replace = [\"ا\", \"ا\", \"ا\", \"ه\"]\n",
        "\n",
        "    for i in range(0, len(search)):\n",
        "        text = text.replace(search[i], replace[i])\n",
        "    return text"
      ]
    },
    {
      "cell_type": "markdown",
      "metadata": {},
      "source": [
        "### Metrics"
      ]
    },
    {
      "cell_type": "code",
      "execution_count": null,
      "metadata": {
        "id": "6cqqL5KTkWIC"
      },
      "outputs": [],
      "source": [
        "def calculate_precision_recall_f1(system_answer, reference_answer):\n",
        "    # Tokenizing the answers into sets of words\n",
        "    system_answer = normalizeText(system_answer)\n",
        "    reference_answer = normalizeText(reference_answer)\n",
        "    reference_tokens = set(reference_answer.split())\n",
        "    system_tokens = set(system_answer.split())\n",
        "\n",
        "    # Calculating Precision and Recall\n",
        "    common_tokens = reference_tokens.intersection(system_tokens)\n",
        "    precision = len(common_tokens) / len(system_tokens) if system_tokens else 0\n",
        "    recall = len(common_tokens) / len(reference_tokens) if reference_tokens else 0\n",
        "\n",
        "    # Calculating F1 Score\n",
        "    if precision + recall != 0:\n",
        "        f1_score = 2 * (precision * recall) / (precision + recall)\n",
        "    else:\n",
        "        f1_score = 0\n",
        "\n",
        "    return precision, recall, f1_score\n",
        "\n",
        "def calculate_bleu(system_answer, reference_answer):\n",
        "    system_answer = normalizeText(system_answer)\n",
        "    reference_answer = normalizeText(reference_answer)\n",
        "    reference_tokens = [reference_answer.split()]\n",
        "    system_tokens = system_answer.split()\n",
        "    bleu_score = sentence_bleu(reference_tokens, system_tokens, smoothing_function=SmoothingFunction().method1)\n",
        "    return bleu_score\n",
        "\n",
        "def calculate_cosineSim(system_answer, reference_answer):\n",
        "    system_answer_v  = embedding_E5.embed_documents([system_answer])\n",
        "    reference_answer_v = embedding_E5.embed_documents([reference_answer])\n",
        "\n",
        "    cosine_sim = cosine_similarity(system_answer_v, reference_answer_v)[0][0]\n",
        "    return cosine_sim\n",
        "\n"
      ]
    }
  ],
  "metadata": {
    "colab": {
      "provenance": []
    },
    "kernelspec": {
      "display_name": "Python 3",
      "name": "python3"
    },
    "language_info": {
      "name": "python"
    },
    "widgets": {
      "application/vnd.jupyter.widget-state+json": {
        "07e43ee83d224fa9bc91b75a68659799": {
          "model_module": "@jupyter-widgets/controls",
          "model_module_version": "1.5.0",
          "model_name": "ProgressStyleModel",
          "state": {
            "_model_module": "@jupyter-widgets/controls",
            "_model_module_version": "1.5.0",
            "_model_name": "ProgressStyleModel",
            "_view_count": null,
            "_view_module": "@jupyter-widgets/base",
            "_view_module_version": "1.2.0",
            "_view_name": "StyleView",
            "bar_color": null,
            "description_width": ""
          }
        },
        "0b6310fb47764623b26d836c66721b56": {
          "model_module": "@jupyter-widgets/base",
          "model_module_version": "1.2.0",
          "model_name": "LayoutModel",
          "state": {
            "_model_module": "@jupyter-widgets/base",
            "_model_module_version": "1.2.0",
            "_model_name": "LayoutModel",
            "_view_count": null,
            "_view_module": "@jupyter-widgets/base",
            "_view_module_version": "1.2.0",
            "_view_name": "LayoutView",
            "align_content": null,
            "align_items": null,
            "align_self": null,
            "border": null,
            "bottom": null,
            "display": null,
            "flex": null,
            "flex_flow": null,
            "grid_area": null,
            "grid_auto_columns": null,
            "grid_auto_flow": null,
            "grid_auto_rows": null,
            "grid_column": null,
            "grid_gap": null,
            "grid_row": null,
            "grid_template_areas": null,
            "grid_template_columns": null,
            "grid_template_rows": null,
            "height": null,
            "justify_content": null,
            "justify_items": null,
            "left": null,
            "margin": null,
            "max_height": null,
            "max_width": null,
            "min_height": null,
            "min_width": null,
            "object_fit": null,
            "object_position": null,
            "order": null,
            "overflow": null,
            "overflow_x": null,
            "overflow_y": null,
            "padding": null,
            "right": null,
            "top": null,
            "visibility": null,
            "width": null
          }
        },
        "0fb53f2d7ceb4e159c0cfb0459fd8275": {
          "model_module": "@jupyter-widgets/base",
          "model_module_version": "1.2.0",
          "model_name": "LayoutModel",
          "state": {
            "_model_module": "@jupyter-widgets/base",
            "_model_module_version": "1.2.0",
            "_model_name": "LayoutModel",
            "_view_count": null,
            "_view_module": "@jupyter-widgets/base",
            "_view_module_version": "1.2.0",
            "_view_name": "LayoutView",
            "align_content": null,
            "align_items": null,
            "align_self": null,
            "border": null,
            "bottom": null,
            "display": null,
            "flex": null,
            "flex_flow": null,
            "grid_area": null,
            "grid_auto_columns": null,
            "grid_auto_flow": null,
            "grid_auto_rows": null,
            "grid_column": null,
            "grid_gap": null,
            "grid_row": null,
            "grid_template_areas": null,
            "grid_template_columns": null,
            "grid_template_rows": null,
            "height": null,
            "justify_content": null,
            "justify_items": null,
            "left": null,
            "margin": null,
            "max_height": null,
            "max_width": null,
            "min_height": null,
            "min_width": null,
            "object_fit": null,
            "object_position": null,
            "order": null,
            "overflow": null,
            "overflow_x": null,
            "overflow_y": null,
            "padding": null,
            "right": null,
            "top": null,
            "visibility": null,
            "width": null
          }
        },
        "0fe8cb197b7a4e3b8455b9b66fa88501": {
          "model_module": "@jupyter-widgets/controls",
          "model_module_version": "1.5.0",
          "model_name": "HTMLModel",
          "state": {
            "_dom_classes": [],
            "_model_module": "@jupyter-widgets/controls",
            "_model_module_version": "1.5.0",
            "_model_name": "HTMLModel",
            "_view_count": null,
            "_view_module": "@jupyter-widgets/controls",
            "_view_module_version": "1.5.0",
            "_view_name": "HTMLView",
            "description": "",
            "description_tooltip": null,
            "layout": "IPY_MODEL_a2cc3a1e10b044619026a124512c5d30",
            "placeholder": "​",
            "style": "IPY_MODEL_936c92d94cb545c48e90288686a74d7e",
            "value": "tokenizer.json: 100%"
          }
        },
        "149fb323468944f2808469c24f1e8764": {
          "model_module": "@jupyter-widgets/controls",
          "model_module_version": "1.5.0",
          "model_name": "ProgressStyleModel",
          "state": {
            "_model_module": "@jupyter-widgets/controls",
            "_model_module_version": "1.5.0",
            "_model_name": "ProgressStyleModel",
            "_view_count": null,
            "_view_module": "@jupyter-widgets/base",
            "_view_module_version": "1.2.0",
            "_view_name": "StyleView",
            "bar_color": null,
            "description_width": ""
          }
        },
        "190c86efde664529882903a5986f3a27": {
          "model_module": "@jupyter-widgets/base",
          "model_module_version": "1.2.0",
          "model_name": "LayoutModel",
          "state": {
            "_model_module": "@jupyter-widgets/base",
            "_model_module_version": "1.2.0",
            "_model_name": "LayoutModel",
            "_view_count": null,
            "_view_module": "@jupyter-widgets/base",
            "_view_module_version": "1.2.0",
            "_view_name": "LayoutView",
            "align_content": null,
            "align_items": null,
            "align_self": null,
            "border": null,
            "bottom": null,
            "display": null,
            "flex": null,
            "flex_flow": null,
            "grid_area": null,
            "grid_auto_columns": null,
            "grid_auto_flow": null,
            "grid_auto_rows": null,
            "grid_column": null,
            "grid_gap": null,
            "grid_row": null,
            "grid_template_areas": null,
            "grid_template_columns": null,
            "grid_template_rows": null,
            "height": null,
            "justify_content": null,
            "justify_items": null,
            "left": null,
            "margin": null,
            "max_height": null,
            "max_width": null,
            "min_height": null,
            "min_width": null,
            "object_fit": null,
            "object_position": null,
            "order": null,
            "overflow": null,
            "overflow_x": null,
            "overflow_y": null,
            "padding": null,
            "right": null,
            "top": null,
            "visibility": null,
            "width": null
          }
        },
        "1a2bf676a4dc4bf1ac3c4e614c6f3348": {
          "model_module": "@jupyter-widgets/controls",
          "model_module_version": "1.5.0",
          "model_name": "HTMLModel",
          "state": {
            "_dom_classes": [],
            "_model_module": "@jupyter-widgets/controls",
            "_model_module_version": "1.5.0",
            "_model_name": "HTMLModel",
            "_view_count": null,
            "_view_module": "@jupyter-widgets/controls",
            "_view_module_version": "1.5.0",
            "_view_name": "HTMLView",
            "description": "",
            "description_tooltip": null,
            "layout": "IPY_MODEL_f14dcb9ac1af4486b70996934c009fc0",
            "placeholder": "​",
            "style": "IPY_MODEL_5fe272529d05418998d7f7220775b8c1",
            "value": "special_tokens_map.json: 100%"
          }
        },
        "22440fb989c844f9873263a808dd5565": {
          "model_module": "@jupyter-widgets/base",
          "model_module_version": "1.2.0",
          "model_name": "LayoutModel",
          "state": {
            "_model_module": "@jupyter-widgets/base",
            "_model_module_version": "1.2.0",
            "_model_name": "LayoutModel",
            "_view_count": null,
            "_view_module": "@jupyter-widgets/base",
            "_view_module_version": "1.2.0",
            "_view_name": "LayoutView",
            "align_content": null,
            "align_items": null,
            "align_self": null,
            "border": null,
            "bottom": null,
            "display": null,
            "flex": null,
            "flex_flow": null,
            "grid_area": null,
            "grid_auto_columns": null,
            "grid_auto_flow": null,
            "grid_auto_rows": null,
            "grid_column": null,
            "grid_gap": null,
            "grid_row": null,
            "grid_template_areas": null,
            "grid_template_columns": null,
            "grid_template_rows": null,
            "height": null,
            "justify_content": null,
            "justify_items": null,
            "left": null,
            "margin": null,
            "max_height": null,
            "max_width": null,
            "min_height": null,
            "min_width": null,
            "object_fit": null,
            "object_position": null,
            "order": null,
            "overflow": null,
            "overflow_x": null,
            "overflow_y": null,
            "padding": null,
            "right": null,
            "top": null,
            "visibility": null,
            "width": null
          }
        },
        "2341ca5f0cae4974a8962039464784ba": {
          "model_module": "@jupyter-widgets/controls",
          "model_module_version": "1.5.0",
          "model_name": "HTMLModel",
          "state": {
            "_dom_classes": [],
            "_model_module": "@jupyter-widgets/controls",
            "_model_module_version": "1.5.0",
            "_model_name": "HTMLModel",
            "_view_count": null,
            "_view_module": "@jupyter-widgets/controls",
            "_view_module_version": "1.5.0",
            "_view_name": "HTMLView",
            "description": "",
            "description_tooltip": null,
            "layout": "IPY_MODEL_2f4806c58c7f44ce983e6779fd9ab5e8",
            "placeholder": "​",
            "style": "IPY_MODEL_2e7ee4a4cc914eab949abd228ccbe137",
            "value": " 5.07M/5.07M [00:00&lt;00:00, 49.4MB/s]"
          }
        },
        "25b316950084450190ecd8c30c137b0a": {
          "model_module": "@jupyter-widgets/controls",
          "model_module_version": "1.5.0",
          "model_name": "HTMLModel",
          "state": {
            "_dom_classes": [],
            "_model_module": "@jupyter-widgets/controls",
            "_model_module_version": "1.5.0",
            "_model_name": "HTMLModel",
            "_view_count": null,
            "_view_module": "@jupyter-widgets/controls",
            "_view_module_version": "1.5.0",
            "_view_name": "HTMLView",
            "description": "",
            "description_tooltip": null,
            "layout": "IPY_MODEL_ac1c4b6ba6084fd3af6af5e73bbdf784",
            "placeholder": "​",
            "style": "IPY_MODEL_a48b70d7e61c486694047344b27b5898",
            "value": "sentencepiece.bpe.model: 100%"
          }
        },
        "273e5c8146984919bfefc319d103b21b": {
          "model_module": "@jupyter-widgets/base",
          "model_module_version": "1.2.0",
          "model_name": "LayoutModel",
          "state": {
            "_model_module": "@jupyter-widgets/base",
            "_model_module_version": "1.2.0",
            "_model_name": "LayoutModel",
            "_view_count": null,
            "_view_module": "@jupyter-widgets/base",
            "_view_module_version": "1.2.0",
            "_view_name": "LayoutView",
            "align_content": null,
            "align_items": null,
            "align_self": null,
            "border": null,
            "bottom": null,
            "display": null,
            "flex": null,
            "flex_flow": null,
            "grid_area": null,
            "grid_auto_columns": null,
            "grid_auto_flow": null,
            "grid_auto_rows": null,
            "grid_column": null,
            "grid_gap": null,
            "grid_row": null,
            "grid_template_areas": null,
            "grid_template_columns": null,
            "grid_template_rows": null,
            "height": null,
            "justify_content": null,
            "justify_items": null,
            "left": null,
            "margin": null,
            "max_height": null,
            "max_width": null,
            "min_height": null,
            "min_width": null,
            "object_fit": null,
            "object_position": null,
            "order": null,
            "overflow": null,
            "overflow_x": null,
            "overflow_y": null,
            "padding": null,
            "right": null,
            "top": null,
            "visibility": null,
            "width": null
          }
        },
        "278b1943a4a1492c912a206e58628051": {
          "model_module": "@jupyter-widgets/controls",
          "model_module_version": "1.5.0",
          "model_name": "FloatProgressModel",
          "state": {
            "_dom_classes": [],
            "_model_module": "@jupyter-widgets/controls",
            "_model_module_version": "1.5.0",
            "_model_name": "FloatProgressModel",
            "_view_count": null,
            "_view_module": "@jupyter-widgets/controls",
            "_view_module_version": "1.5.0",
            "_view_name": "ProgressView",
            "bar_style": "success",
            "description": "",
            "description_tooltip": null,
            "layout": "IPY_MODEL_c7c5d0f1a9d84dd885099adb82e21535",
            "max": 690,
            "min": 0,
            "orientation": "horizontal",
            "style": "IPY_MODEL_149fb323468944f2808469c24f1e8764",
            "value": 690
          }
        },
        "283bbf0c38204cbd89cabf5200858fe0": {
          "model_module": "@jupyter-widgets/controls",
          "model_module_version": "1.5.0",
          "model_name": "HTMLModel",
          "state": {
            "_dom_classes": [],
            "_model_module": "@jupyter-widgets/controls",
            "_model_module_version": "1.5.0",
            "_model_name": "HTMLModel",
            "_view_count": null,
            "_view_module": "@jupyter-widgets/controls",
            "_view_module_version": "1.5.0",
            "_view_name": "HTMLView",
            "description": "",
            "description_tooltip": null,
            "layout": "IPY_MODEL_843ae760244749de828f27557c134763",
            "placeholder": "​",
            "style": "IPY_MODEL_8b2d4bb3260b4d7fb90022c58596da11",
            "value": " 17.1M/17.1M [00:00&lt;00:00, 134MB/s]"
          }
        },
        "2d74bc542d2445dcb04393751e2f0615": {
          "model_module": "@jupyter-widgets/controls",
          "model_module_version": "1.5.0",
          "model_name": "FloatProgressModel",
          "state": {
            "_dom_classes": [],
            "_model_module": "@jupyter-widgets/controls",
            "_model_module_version": "1.5.0",
            "_model_name": "FloatProgressModel",
            "_view_count": null,
            "_view_module": "@jupyter-widgets/controls",
            "_view_module_version": "1.5.0",
            "_view_name": "ProgressView",
            "bar_style": "success",
            "description": "",
            "description_tooltip": null,
            "layout": "IPY_MODEL_8741868ff34a4f94bf87f27c5cb09eae",
            "max": 280,
            "min": 0,
            "orientation": "horizontal",
            "style": "IPY_MODEL_07e43ee83d224fa9bc91b75a68659799",
            "value": 280
          }
        },
        "2e7ee4a4cc914eab949abd228ccbe137": {
          "model_module": "@jupyter-widgets/controls",
          "model_module_version": "1.5.0",
          "model_name": "DescriptionStyleModel",
          "state": {
            "_model_module": "@jupyter-widgets/controls",
            "_model_module_version": "1.5.0",
            "_model_name": "DescriptionStyleModel",
            "_view_count": null,
            "_view_module": "@jupyter-widgets/base",
            "_view_module_version": "1.2.0",
            "_view_name": "StyleView",
            "description_width": ""
          }
        },
        "2f4806c58c7f44ce983e6779fd9ab5e8": {
          "model_module": "@jupyter-widgets/base",
          "model_module_version": "1.2.0",
          "model_name": "LayoutModel",
          "state": {
            "_model_module": "@jupyter-widgets/base",
            "_model_module_version": "1.2.0",
            "_model_name": "LayoutModel",
            "_view_count": null,
            "_view_module": "@jupyter-widgets/base",
            "_view_module_version": "1.2.0",
            "_view_name": "LayoutView",
            "align_content": null,
            "align_items": null,
            "align_self": null,
            "border": null,
            "bottom": null,
            "display": null,
            "flex": null,
            "flex_flow": null,
            "grid_area": null,
            "grid_auto_columns": null,
            "grid_auto_flow": null,
            "grid_auto_rows": null,
            "grid_column": null,
            "grid_gap": null,
            "grid_row": null,
            "grid_template_areas": null,
            "grid_template_columns": null,
            "grid_template_rows": null,
            "height": null,
            "justify_content": null,
            "justify_items": null,
            "left": null,
            "margin": null,
            "max_height": null,
            "max_width": null,
            "min_height": null,
            "min_width": null,
            "object_fit": null,
            "object_position": null,
            "order": null,
            "overflow": null,
            "overflow_x": null,
            "overflow_y": null,
            "padding": null,
            "right": null,
            "top": null,
            "visibility": null,
            "width": null
          }
        },
        "3b6f7ca1fa794b1689992b5daaa1401a": {
          "model_module": "@jupyter-widgets/base",
          "model_module_version": "1.2.0",
          "model_name": "LayoutModel",
          "state": {
            "_model_module": "@jupyter-widgets/base",
            "_model_module_version": "1.2.0",
            "_model_name": "LayoutModel",
            "_view_count": null,
            "_view_module": "@jupyter-widgets/base",
            "_view_module_version": "1.2.0",
            "_view_name": "LayoutView",
            "align_content": null,
            "align_items": null,
            "align_self": null,
            "border": null,
            "bottom": null,
            "display": null,
            "flex": null,
            "flex_flow": null,
            "grid_area": null,
            "grid_auto_columns": null,
            "grid_auto_flow": null,
            "grid_auto_rows": null,
            "grid_column": null,
            "grid_gap": null,
            "grid_row": null,
            "grid_template_areas": null,
            "grid_template_columns": null,
            "grid_template_rows": null,
            "height": null,
            "justify_content": null,
            "justify_items": null,
            "left": null,
            "margin": null,
            "max_height": null,
            "max_width": null,
            "min_height": null,
            "min_width": null,
            "object_fit": null,
            "object_position": null,
            "order": null,
            "overflow": null,
            "overflow_x": null,
            "overflow_y": null,
            "padding": null,
            "right": null,
            "top": null,
            "visibility": null,
            "width": null
          }
        },
        "3ba11716ea2f46e28807d92f9969759f": {
          "model_module": "@jupyter-widgets/controls",
          "model_module_version": "1.5.0",
          "model_name": "FloatProgressModel",
          "state": {
            "_dom_classes": [],
            "_model_module": "@jupyter-widgets/controls",
            "_model_module_version": "1.5.0",
            "_model_name": "FloatProgressModel",
            "_view_count": null,
            "_view_module": "@jupyter-widgets/controls",
            "_view_module_version": "1.5.0",
            "_view_name": "ProgressView",
            "bar_style": "success",
            "description": "",
            "description_tooltip": null,
            "layout": "IPY_MODEL_a4fdc9971b5848b1bb2115961fc560ba",
            "max": 17082660,
            "min": 0,
            "orientation": "horizontal",
            "style": "IPY_MODEL_f4f75963da034b5294dd6ad6de6baaed",
            "value": 17082660
          }
        },
        "3c29802f76d84d48bb70cb120bde4fb4": {
          "model_module": "@jupyter-widgets/controls",
          "model_module_version": "1.5.0",
          "model_name": "ProgressStyleModel",
          "state": {
            "_model_module": "@jupyter-widgets/controls",
            "_model_module_version": "1.5.0",
            "_model_name": "ProgressStyleModel",
            "_view_count": null,
            "_view_module": "@jupyter-widgets/base",
            "_view_module_version": "1.2.0",
            "_view_name": "StyleView",
            "bar_color": null,
            "description_width": ""
          }
        },
        "3d81ca87958a4f8682228be94f5869bf": {
          "model_module": "@jupyter-widgets/controls",
          "model_module_version": "1.5.0",
          "model_name": "HBoxModel",
          "state": {
            "_dom_classes": [],
            "_model_module": "@jupyter-widgets/controls",
            "_model_module_version": "1.5.0",
            "_model_name": "HBoxModel",
            "_view_count": null,
            "_view_module": "@jupyter-widgets/controls",
            "_view_module_version": "1.5.0",
            "_view_name": "HBoxView",
            "box_style": "",
            "children": [
              "IPY_MODEL_afad04fb44924f19bc4cda094eaec4cb",
              "IPY_MODEL_d1afa6ef6b934af9b52acaedf76d965e",
              "IPY_MODEL_7e09414912874e3592ecd3883737222a"
            ],
            "layout": "IPY_MODEL_3b6f7ca1fa794b1689992b5daaa1401a"
          }
        },
        "428a9a42a98f40efb2617a1897773b3b": {
          "model_module": "@jupyter-widgets/controls",
          "model_module_version": "1.5.0",
          "model_name": "ProgressStyleModel",
          "state": {
            "_model_module": "@jupyter-widgets/controls",
            "_model_module_version": "1.5.0",
            "_model_name": "ProgressStyleModel",
            "_view_count": null,
            "_view_module": "@jupyter-widgets/base",
            "_view_module_version": "1.2.0",
            "_view_name": "StyleView",
            "bar_color": null,
            "description_width": ""
          }
        },
        "488795d967db47aaad99725b0128b11d": {
          "model_module": "@jupyter-widgets/base",
          "model_module_version": "1.2.0",
          "model_name": "LayoutModel",
          "state": {
            "_model_module": "@jupyter-widgets/base",
            "_model_module_version": "1.2.0",
            "_model_name": "LayoutModel",
            "_view_count": null,
            "_view_module": "@jupyter-widgets/base",
            "_view_module_version": "1.2.0",
            "_view_name": "LayoutView",
            "align_content": null,
            "align_items": null,
            "align_self": null,
            "border": null,
            "bottom": null,
            "display": null,
            "flex": null,
            "flex_flow": null,
            "grid_area": null,
            "grid_auto_columns": null,
            "grid_auto_flow": null,
            "grid_auto_rows": null,
            "grid_column": null,
            "grid_gap": null,
            "grid_row": null,
            "grid_template_areas": null,
            "grid_template_columns": null,
            "grid_template_rows": null,
            "height": null,
            "justify_content": null,
            "justify_items": null,
            "left": null,
            "margin": null,
            "max_height": null,
            "max_width": null,
            "min_height": null,
            "min_width": null,
            "object_fit": null,
            "object_position": null,
            "order": null,
            "overflow": null,
            "overflow_x": null,
            "overflow_y": null,
            "padding": null,
            "right": null,
            "top": null,
            "visibility": null,
            "width": null
          }
        },
        "4c21921ea2e04358b106145fe972ebbe": {
          "model_module": "@jupyter-widgets/controls",
          "model_module_version": "1.5.0",
          "model_name": "HTMLModel",
          "state": {
            "_dom_classes": [],
            "_model_module": "@jupyter-widgets/controls",
            "_model_module_version": "1.5.0",
            "_model_name": "HTMLModel",
            "_view_count": null,
            "_view_module": "@jupyter-widgets/controls",
            "_view_module_version": "1.5.0",
            "_view_name": "HTMLView",
            "description": "",
            "description_tooltip": null,
            "layout": "IPY_MODEL_4fcad3f9091743a6a8601c20f0086c44",
            "placeholder": "​",
            "style": "IPY_MODEL_9961c08981e144b9ad01c002d1525b15",
            "value": " 280/280 [00:00&lt;00:00, 16.3kB/s]"
          }
        },
        "4fcad3f9091743a6a8601c20f0086c44": {
          "model_module": "@jupyter-widgets/base",
          "model_module_version": "1.2.0",
          "model_name": "LayoutModel",
          "state": {
            "_model_module": "@jupyter-widgets/base",
            "_model_module_version": "1.2.0",
            "_model_name": "LayoutModel",
            "_view_count": null,
            "_view_module": "@jupyter-widgets/base",
            "_view_module_version": "1.2.0",
            "_view_name": "LayoutView",
            "align_content": null,
            "align_items": null,
            "align_self": null,
            "border": null,
            "bottom": null,
            "display": null,
            "flex": null,
            "flex_flow": null,
            "grid_area": null,
            "grid_auto_columns": null,
            "grid_auto_flow": null,
            "grid_auto_rows": null,
            "grid_column": null,
            "grid_gap": null,
            "grid_row": null,
            "grid_template_areas": null,
            "grid_template_columns": null,
            "grid_template_rows": null,
            "height": null,
            "justify_content": null,
            "justify_items": null,
            "left": null,
            "margin": null,
            "max_height": null,
            "max_width": null,
            "min_height": null,
            "min_width": null,
            "object_fit": null,
            "object_position": null,
            "order": null,
            "overflow": null,
            "overflow_x": null,
            "overflow_y": null,
            "padding": null,
            "right": null,
            "top": null,
            "visibility": null,
            "width": null
          }
        },
        "5fe272529d05418998d7f7220775b8c1": {
          "model_module": "@jupyter-widgets/controls",
          "model_module_version": "1.5.0",
          "model_name": "DescriptionStyleModel",
          "state": {
            "_model_module": "@jupyter-widgets/controls",
            "_model_module_version": "1.5.0",
            "_model_name": "DescriptionStyleModel",
            "_view_count": null,
            "_view_module": "@jupyter-widgets/base",
            "_view_module_version": "1.2.0",
            "_view_name": "StyleView",
            "description_width": ""
          }
        },
        "61698aaaa6e3454e894894c6469e4e29": {
          "model_module": "@jupyter-widgets/controls",
          "model_module_version": "1.5.0",
          "model_name": "DescriptionStyleModel",
          "state": {
            "_model_module": "@jupyter-widgets/controls",
            "_model_module_version": "1.5.0",
            "_model_name": "DescriptionStyleModel",
            "_view_count": null,
            "_view_module": "@jupyter-widgets/base",
            "_view_module_version": "1.2.0",
            "_view_name": "StyleView",
            "description_width": ""
          }
        },
        "68f6cfd1da0c4626ae357cd69cc57668": {
          "model_module": "@jupyter-widgets/controls",
          "model_module_version": "1.5.0",
          "model_name": "DescriptionStyleModel",
          "state": {
            "_model_module": "@jupyter-widgets/controls",
            "_model_module_version": "1.5.0",
            "_model_name": "DescriptionStyleModel",
            "_view_count": null,
            "_view_module": "@jupyter-widgets/base",
            "_view_module_version": "1.2.0",
            "_view_name": "StyleView",
            "description_width": ""
          }
        },
        "76cee5591f194cf1b2d912cc7af6aeff": {
          "model_module": "@jupyter-widgets/controls",
          "model_module_version": "1.5.0",
          "model_name": "HBoxModel",
          "state": {
            "_dom_classes": [],
            "_model_module": "@jupyter-widgets/controls",
            "_model_module_version": "1.5.0",
            "_model_name": "HBoxModel",
            "_view_count": null,
            "_view_module": "@jupyter-widgets/controls",
            "_view_module_version": "1.5.0",
            "_view_name": "HBoxView",
            "box_style": "",
            "children": [
              "IPY_MODEL_0fe8cb197b7a4e3b8455b9b66fa88501",
              "IPY_MODEL_3ba11716ea2f46e28807d92f9969759f",
              "IPY_MODEL_283bbf0c38204cbd89cabf5200858fe0"
            ],
            "layout": "IPY_MODEL_0fb53f2d7ceb4e159c0cfb0459fd8275"
          }
        },
        "7e09414912874e3592ecd3883737222a": {
          "model_module": "@jupyter-widgets/controls",
          "model_module_version": "1.5.0",
          "model_name": "HTMLModel",
          "state": {
            "_dom_classes": [],
            "_model_module": "@jupyter-widgets/controls",
            "_model_module_version": "1.5.0",
            "_model_name": "HTMLModel",
            "_view_count": null,
            "_view_module": "@jupyter-widgets/controls",
            "_view_module_version": "1.5.0",
            "_view_name": "HTMLView",
            "description": "",
            "description_tooltip": null,
            "layout": "IPY_MODEL_22440fb989c844f9873263a808dd5565",
            "placeholder": "​",
            "style": "IPY_MODEL_61698aaaa6e3454e894894c6469e4e29",
            "value": " 2.24G/2.24G [00:21&lt;00:00, 70.7MB/s]"
          }
        },
        "8290ba8ea0c44e7c922d5c40b9db66a7": {
          "model_module": "@jupyter-widgets/controls",
          "model_module_version": "1.5.0",
          "model_name": "DescriptionStyleModel",
          "state": {
            "_model_module": "@jupyter-widgets/controls",
            "_model_module_version": "1.5.0",
            "_model_name": "DescriptionStyleModel",
            "_view_count": null,
            "_view_module": "@jupyter-widgets/base",
            "_view_module_version": "1.2.0",
            "_view_name": "StyleView",
            "description_width": ""
          }
        },
        "843ae760244749de828f27557c134763": {
          "model_module": "@jupyter-widgets/base",
          "model_module_version": "1.2.0",
          "model_name": "LayoutModel",
          "state": {
            "_model_module": "@jupyter-widgets/base",
            "_model_module_version": "1.2.0",
            "_model_name": "LayoutModel",
            "_view_count": null,
            "_view_module": "@jupyter-widgets/base",
            "_view_module_version": "1.2.0",
            "_view_name": "LayoutView",
            "align_content": null,
            "align_items": null,
            "align_self": null,
            "border": null,
            "bottom": null,
            "display": null,
            "flex": null,
            "flex_flow": null,
            "grid_area": null,
            "grid_auto_columns": null,
            "grid_auto_flow": null,
            "grid_auto_rows": null,
            "grid_column": null,
            "grid_gap": null,
            "grid_row": null,
            "grid_template_areas": null,
            "grid_template_columns": null,
            "grid_template_rows": null,
            "height": null,
            "justify_content": null,
            "justify_items": null,
            "left": null,
            "margin": null,
            "max_height": null,
            "max_width": null,
            "min_height": null,
            "min_width": null,
            "object_fit": null,
            "object_position": null,
            "order": null,
            "overflow": null,
            "overflow_x": null,
            "overflow_y": null,
            "padding": null,
            "right": null,
            "top": null,
            "visibility": null,
            "width": null
          }
        },
        "8462628c94a34d9980fe45d52f49fcff": {
          "model_module": "@jupyter-widgets/base",
          "model_module_version": "1.2.0",
          "model_name": "LayoutModel",
          "state": {
            "_model_module": "@jupyter-widgets/base",
            "_model_module_version": "1.2.0",
            "_model_name": "LayoutModel",
            "_view_count": null,
            "_view_module": "@jupyter-widgets/base",
            "_view_module_version": "1.2.0",
            "_view_name": "LayoutView",
            "align_content": null,
            "align_items": null,
            "align_self": null,
            "border": null,
            "bottom": null,
            "display": null,
            "flex": null,
            "flex_flow": null,
            "grid_area": null,
            "grid_auto_columns": null,
            "grid_auto_flow": null,
            "grid_auto_rows": null,
            "grid_column": null,
            "grid_gap": null,
            "grid_row": null,
            "grid_template_areas": null,
            "grid_template_columns": null,
            "grid_template_rows": null,
            "height": null,
            "justify_content": null,
            "justify_items": null,
            "left": null,
            "margin": null,
            "max_height": null,
            "max_width": null,
            "min_height": null,
            "min_width": null,
            "object_fit": null,
            "object_position": null,
            "order": null,
            "overflow": null,
            "overflow_x": null,
            "overflow_y": null,
            "padding": null,
            "right": null,
            "top": null,
            "visibility": null,
            "width": null
          }
        },
        "86c6683b36cc4a10abd63dde061a8fe5": {
          "model_module": "@jupyter-widgets/controls",
          "model_module_version": "1.5.0",
          "model_name": "HBoxModel",
          "state": {
            "_dom_classes": [],
            "_model_module": "@jupyter-widgets/controls",
            "_model_module_version": "1.5.0",
            "_model_name": "HBoxModel",
            "_view_count": null,
            "_view_module": "@jupyter-widgets/controls",
            "_view_module_version": "1.5.0",
            "_view_name": "HBoxView",
            "box_style": "",
            "children": [
              "IPY_MODEL_25b316950084450190ecd8c30c137b0a",
              "IPY_MODEL_c34ad7d81f444ac9be7d665e23e8c654",
              "IPY_MODEL_2341ca5f0cae4974a8962039464784ba"
            ],
            "layout": "IPY_MODEL_c137f2d1805d46018c22ddc47173d563"
          }
        },
        "8741868ff34a4f94bf87f27c5cb09eae": {
          "model_module": "@jupyter-widgets/base",
          "model_module_version": "1.2.0",
          "model_name": "LayoutModel",
          "state": {
            "_model_module": "@jupyter-widgets/base",
            "_model_module_version": "1.2.0",
            "_model_name": "LayoutModel",
            "_view_count": null,
            "_view_module": "@jupyter-widgets/base",
            "_view_module_version": "1.2.0",
            "_view_name": "LayoutView",
            "align_content": null,
            "align_items": null,
            "align_self": null,
            "border": null,
            "bottom": null,
            "display": null,
            "flex": null,
            "flex_flow": null,
            "grid_area": null,
            "grid_auto_columns": null,
            "grid_auto_flow": null,
            "grid_auto_rows": null,
            "grid_column": null,
            "grid_gap": null,
            "grid_row": null,
            "grid_template_areas": null,
            "grid_template_columns": null,
            "grid_template_rows": null,
            "height": null,
            "justify_content": null,
            "justify_items": null,
            "left": null,
            "margin": null,
            "max_height": null,
            "max_width": null,
            "min_height": null,
            "min_width": null,
            "object_fit": null,
            "object_position": null,
            "order": null,
            "overflow": null,
            "overflow_x": null,
            "overflow_y": null,
            "padding": null,
            "right": null,
            "top": null,
            "visibility": null,
            "width": null
          }
        },
        "8b2d4bb3260b4d7fb90022c58596da11": {
          "model_module": "@jupyter-widgets/controls",
          "model_module_version": "1.5.0",
          "model_name": "DescriptionStyleModel",
          "state": {
            "_model_module": "@jupyter-widgets/controls",
            "_model_module_version": "1.5.0",
            "_model_name": "DescriptionStyleModel",
            "_view_count": null,
            "_view_module": "@jupyter-widgets/base",
            "_view_module_version": "1.2.0",
            "_view_name": "StyleView",
            "description_width": ""
          }
        },
        "8cf7dc9f61d34fbb925d576cfa66ffa4": {
          "model_module": "@jupyter-widgets/controls",
          "model_module_version": "1.5.0",
          "model_name": "HBoxModel",
          "state": {
            "_dom_classes": [],
            "_model_module": "@jupyter-widgets/controls",
            "_model_module_version": "1.5.0",
            "_model_name": "HBoxModel",
            "_view_count": null,
            "_view_module": "@jupyter-widgets/controls",
            "_view_module_version": "1.5.0",
            "_view_name": "HBoxView",
            "box_style": "",
            "children": [
              "IPY_MODEL_bee364b2c3a44a7bab095fd10a097666",
              "IPY_MODEL_9db295e6d92a4fdfa0069a81da7b0795",
              "IPY_MODEL_a0eef822899e4771880683cc40f413b5"
            ],
            "layout": "IPY_MODEL_dc7a8f9bec3141cf968f8a1732bb4fe7"
          }
        },
        "8ee35a0abc354f638a131d52fb8f44c1": {
          "model_module": "@jupyter-widgets/base",
          "model_module_version": "1.2.0",
          "model_name": "LayoutModel",
          "state": {
            "_model_module": "@jupyter-widgets/base",
            "_model_module_version": "1.2.0",
            "_model_name": "LayoutModel",
            "_view_count": null,
            "_view_module": "@jupyter-widgets/base",
            "_view_module_version": "1.2.0",
            "_view_name": "LayoutView",
            "align_content": null,
            "align_items": null,
            "align_self": null,
            "border": null,
            "bottom": null,
            "display": null,
            "flex": null,
            "flex_flow": null,
            "grid_area": null,
            "grid_auto_columns": null,
            "grid_auto_flow": null,
            "grid_auto_rows": null,
            "grid_column": null,
            "grid_gap": null,
            "grid_row": null,
            "grid_template_areas": null,
            "grid_template_columns": null,
            "grid_template_rows": null,
            "height": null,
            "justify_content": null,
            "justify_items": null,
            "left": null,
            "margin": null,
            "max_height": null,
            "max_width": null,
            "min_height": null,
            "min_width": null,
            "object_fit": null,
            "object_position": null,
            "order": null,
            "overflow": null,
            "overflow_x": null,
            "overflow_y": null,
            "padding": null,
            "right": null,
            "top": null,
            "visibility": null,
            "width": null
          }
        },
        "936c92d94cb545c48e90288686a74d7e": {
          "model_module": "@jupyter-widgets/controls",
          "model_module_version": "1.5.0",
          "model_name": "DescriptionStyleModel",
          "state": {
            "_model_module": "@jupyter-widgets/controls",
            "_model_module_version": "1.5.0",
            "_model_name": "DescriptionStyleModel",
            "_view_count": null,
            "_view_module": "@jupyter-widgets/base",
            "_view_module_version": "1.2.0",
            "_view_name": "StyleView",
            "description_width": ""
          }
        },
        "96867d1d1b8a49f0b9c59dff22526432": {
          "model_module": "@jupyter-widgets/controls",
          "model_module_version": "1.5.0",
          "model_name": "DescriptionStyleModel",
          "state": {
            "_model_module": "@jupyter-widgets/controls",
            "_model_module_version": "1.5.0",
            "_model_name": "DescriptionStyleModel",
            "_view_count": null,
            "_view_module": "@jupyter-widgets/base",
            "_view_module_version": "1.2.0",
            "_view_name": "StyleView",
            "description_width": ""
          }
        },
        "97924f3d795a44aa8de803e7c10175c8": {
          "model_module": "@jupyter-widgets/base",
          "model_module_version": "1.2.0",
          "model_name": "LayoutModel",
          "state": {
            "_model_module": "@jupyter-widgets/base",
            "_model_module_version": "1.2.0",
            "_model_name": "LayoutModel",
            "_view_count": null,
            "_view_module": "@jupyter-widgets/base",
            "_view_module_version": "1.2.0",
            "_view_name": "LayoutView",
            "align_content": null,
            "align_items": null,
            "align_self": null,
            "border": null,
            "bottom": null,
            "display": null,
            "flex": null,
            "flex_flow": null,
            "grid_area": null,
            "grid_auto_columns": null,
            "grid_auto_flow": null,
            "grid_auto_rows": null,
            "grid_column": null,
            "grid_gap": null,
            "grid_row": null,
            "grid_template_areas": null,
            "grid_template_columns": null,
            "grid_template_rows": null,
            "height": null,
            "justify_content": null,
            "justify_items": null,
            "left": null,
            "margin": null,
            "max_height": null,
            "max_width": null,
            "min_height": null,
            "min_width": null,
            "object_fit": null,
            "object_position": null,
            "order": null,
            "overflow": null,
            "overflow_x": null,
            "overflow_y": null,
            "padding": null,
            "right": null,
            "top": null,
            "visibility": null,
            "width": null
          }
        },
        "9961c08981e144b9ad01c002d1525b15": {
          "model_module": "@jupyter-widgets/controls",
          "model_module_version": "1.5.0",
          "model_name": "DescriptionStyleModel",
          "state": {
            "_model_module": "@jupyter-widgets/controls",
            "_model_module_version": "1.5.0",
            "_model_name": "DescriptionStyleModel",
            "_view_count": null,
            "_view_module": "@jupyter-widgets/base",
            "_view_module_version": "1.2.0",
            "_view_name": "StyleView",
            "description_width": ""
          }
        },
        "9db295e6d92a4fdfa0069a81da7b0795": {
          "model_module": "@jupyter-widgets/controls",
          "model_module_version": "1.5.0",
          "model_name": "FloatProgressModel",
          "state": {
            "_dom_classes": [],
            "_model_module": "@jupyter-widgets/controls",
            "_model_module_version": "1.5.0",
            "_model_name": "FloatProgressModel",
            "_view_count": null,
            "_view_module": "@jupyter-widgets/controls",
            "_view_module_version": "1.5.0",
            "_view_name": "ProgressView",
            "bar_style": "success",
            "description": "",
            "description_tooltip": null,
            "layout": "IPY_MODEL_97924f3d795a44aa8de803e7c10175c8",
            "max": 418,
            "min": 0,
            "orientation": "horizontal",
            "style": "IPY_MODEL_3c29802f76d84d48bb70cb120bde4fb4",
            "value": 418
          }
        },
        "a0eef822899e4771880683cc40f413b5": {
          "model_module": "@jupyter-widgets/controls",
          "model_module_version": "1.5.0",
          "model_name": "HTMLModel",
          "state": {
            "_dom_classes": [],
            "_model_module": "@jupyter-widgets/controls",
            "_model_module_version": "1.5.0",
            "_model_name": "HTMLModel",
            "_view_count": null,
            "_view_module": "@jupyter-widgets/controls",
            "_view_module_version": "1.5.0",
            "_view_name": "HTMLView",
            "description": "",
            "description_tooltip": null,
            "layout": "IPY_MODEL_b88576e186ab4f67a23c4cafe10c1dcc",
            "placeholder": "​",
            "style": "IPY_MODEL_96867d1d1b8a49f0b9c59dff22526432",
            "value": " 418/418 [00:00&lt;00:00, 20.0kB/s]"
          }
        },
        "a2cc3a1e10b044619026a124512c5d30": {
          "model_module": "@jupyter-widgets/base",
          "model_module_version": "1.2.0",
          "model_name": "LayoutModel",
          "state": {
            "_model_module": "@jupyter-widgets/base",
            "_model_module_version": "1.2.0",
            "_model_name": "LayoutModel",
            "_view_count": null,
            "_view_module": "@jupyter-widgets/base",
            "_view_module_version": "1.2.0",
            "_view_name": "LayoutView",
            "align_content": null,
            "align_items": null,
            "align_self": null,
            "border": null,
            "bottom": null,
            "display": null,
            "flex": null,
            "flex_flow": null,
            "grid_area": null,
            "grid_auto_columns": null,
            "grid_auto_flow": null,
            "grid_auto_rows": null,
            "grid_column": null,
            "grid_gap": null,
            "grid_row": null,
            "grid_template_areas": null,
            "grid_template_columns": null,
            "grid_template_rows": null,
            "height": null,
            "justify_content": null,
            "justify_items": null,
            "left": null,
            "margin": null,
            "max_height": null,
            "max_width": null,
            "min_height": null,
            "min_width": null,
            "object_fit": null,
            "object_position": null,
            "order": null,
            "overflow": null,
            "overflow_x": null,
            "overflow_y": null,
            "padding": null,
            "right": null,
            "top": null,
            "visibility": null,
            "width": null
          }
        },
        "a48b70d7e61c486694047344b27b5898": {
          "model_module": "@jupyter-widgets/controls",
          "model_module_version": "1.5.0",
          "model_name": "DescriptionStyleModel",
          "state": {
            "_model_module": "@jupyter-widgets/controls",
            "_model_module_version": "1.5.0",
            "_model_name": "DescriptionStyleModel",
            "_view_count": null,
            "_view_module": "@jupyter-widgets/base",
            "_view_module_version": "1.2.0",
            "_view_name": "StyleView",
            "description_width": ""
          }
        },
        "a4fdc9971b5848b1bb2115961fc560ba": {
          "model_module": "@jupyter-widgets/base",
          "model_module_version": "1.2.0",
          "model_name": "LayoutModel",
          "state": {
            "_model_module": "@jupyter-widgets/base",
            "_model_module_version": "1.2.0",
            "_model_name": "LayoutModel",
            "_view_count": null,
            "_view_module": "@jupyter-widgets/base",
            "_view_module_version": "1.2.0",
            "_view_name": "LayoutView",
            "align_content": null,
            "align_items": null,
            "align_self": null,
            "border": null,
            "bottom": null,
            "display": null,
            "flex": null,
            "flex_flow": null,
            "grid_area": null,
            "grid_auto_columns": null,
            "grid_auto_flow": null,
            "grid_auto_rows": null,
            "grid_column": null,
            "grid_gap": null,
            "grid_row": null,
            "grid_template_areas": null,
            "grid_template_columns": null,
            "grid_template_rows": null,
            "height": null,
            "justify_content": null,
            "justify_items": null,
            "left": null,
            "margin": null,
            "max_height": null,
            "max_width": null,
            "min_height": null,
            "min_width": null,
            "object_fit": null,
            "object_position": null,
            "order": null,
            "overflow": null,
            "overflow_x": null,
            "overflow_y": null,
            "padding": null,
            "right": null,
            "top": null,
            "visibility": null,
            "width": null
          }
        },
        "a7e88cd9d7b547d2bac4097b9abbd04c": {
          "model_module": "@jupyter-widgets/controls",
          "model_module_version": "1.5.0",
          "model_name": "HBoxModel",
          "state": {
            "_dom_classes": [],
            "_model_module": "@jupyter-widgets/controls",
            "_model_module_version": "1.5.0",
            "_model_name": "HBoxModel",
            "_view_count": null,
            "_view_module": "@jupyter-widgets/controls",
            "_view_module_version": "1.5.0",
            "_view_name": "HBoxView",
            "box_style": "",
            "children": [
              "IPY_MODEL_b18d66c5f48a4d60bc72d26902ca75e6",
              "IPY_MODEL_278b1943a4a1492c912a206e58628051",
              "IPY_MODEL_f837dccd2b2b40f49b2a795f1e6d8d96"
            ],
            "layout": "IPY_MODEL_190c86efde664529882903a5986f3a27"
          }
        },
        "ac1c4b6ba6084fd3af6af5e73bbdf784": {
          "model_module": "@jupyter-widgets/base",
          "model_module_version": "1.2.0",
          "model_name": "LayoutModel",
          "state": {
            "_model_module": "@jupyter-widgets/base",
            "_model_module_version": "1.2.0",
            "_model_name": "LayoutModel",
            "_view_count": null,
            "_view_module": "@jupyter-widgets/base",
            "_view_module_version": "1.2.0",
            "_view_name": "LayoutView",
            "align_content": null,
            "align_items": null,
            "align_self": null,
            "border": null,
            "bottom": null,
            "display": null,
            "flex": null,
            "flex_flow": null,
            "grid_area": null,
            "grid_auto_columns": null,
            "grid_auto_flow": null,
            "grid_auto_rows": null,
            "grid_column": null,
            "grid_gap": null,
            "grid_row": null,
            "grid_template_areas": null,
            "grid_template_columns": null,
            "grid_template_rows": null,
            "height": null,
            "justify_content": null,
            "justify_items": null,
            "left": null,
            "margin": null,
            "max_height": null,
            "max_width": null,
            "min_height": null,
            "min_width": null,
            "object_fit": null,
            "object_position": null,
            "order": null,
            "overflow": null,
            "overflow_x": null,
            "overflow_y": null,
            "padding": null,
            "right": null,
            "top": null,
            "visibility": null,
            "width": null
          }
        },
        "afad04fb44924f19bc4cda094eaec4cb": {
          "model_module": "@jupyter-widgets/controls",
          "model_module_version": "1.5.0",
          "model_name": "HTMLModel",
          "state": {
            "_dom_classes": [],
            "_model_module": "@jupyter-widgets/controls",
            "_model_module_version": "1.5.0",
            "_model_name": "HTMLModel",
            "_view_count": null,
            "_view_module": "@jupyter-widgets/controls",
            "_view_module_version": "1.5.0",
            "_view_name": "HTMLView",
            "description": "",
            "description_tooltip": null,
            "layout": "IPY_MODEL_0b6310fb47764623b26d836c66721b56",
            "placeholder": "​",
            "style": "IPY_MODEL_8290ba8ea0c44e7c922d5c40b9db66a7",
            "value": "model.safetensors: 100%"
          }
        },
        "b18d66c5f48a4d60bc72d26902ca75e6": {
          "model_module": "@jupyter-widgets/controls",
          "model_module_version": "1.5.0",
          "model_name": "HTMLModel",
          "state": {
            "_dom_classes": [],
            "_model_module": "@jupyter-widgets/controls",
            "_model_module_version": "1.5.0",
            "_model_name": "HTMLModel",
            "_view_count": null,
            "_view_module": "@jupyter-widgets/controls",
            "_view_module_version": "1.5.0",
            "_view_name": "HTMLView",
            "description": "",
            "description_tooltip": null,
            "layout": "IPY_MODEL_488795d967db47aaad99725b0128b11d",
            "placeholder": "​",
            "style": "IPY_MODEL_cfe86b9962cc49f4a05561d3eb56b66a",
            "value": "config.json: 100%"
          }
        },
        "b88576e186ab4f67a23c4cafe10c1dcc": {
          "model_module": "@jupyter-widgets/base",
          "model_module_version": "1.2.0",
          "model_name": "LayoutModel",
          "state": {
            "_model_module": "@jupyter-widgets/base",
            "_model_module_version": "1.2.0",
            "_model_name": "LayoutModel",
            "_view_count": null,
            "_view_module": "@jupyter-widgets/base",
            "_view_module_version": "1.2.0",
            "_view_name": "LayoutView",
            "align_content": null,
            "align_items": null,
            "align_self": null,
            "border": null,
            "bottom": null,
            "display": null,
            "flex": null,
            "flex_flow": null,
            "grid_area": null,
            "grid_auto_columns": null,
            "grid_auto_flow": null,
            "grid_auto_rows": null,
            "grid_column": null,
            "grid_gap": null,
            "grid_row": null,
            "grid_template_areas": null,
            "grid_template_columns": null,
            "grid_template_rows": null,
            "height": null,
            "justify_content": null,
            "justify_items": null,
            "left": null,
            "margin": null,
            "max_height": null,
            "max_width": null,
            "min_height": null,
            "min_width": null,
            "object_fit": null,
            "object_position": null,
            "order": null,
            "overflow": null,
            "overflow_x": null,
            "overflow_y": null,
            "padding": null,
            "right": null,
            "top": null,
            "visibility": null,
            "width": null
          }
        },
        "bddc5596af5f460888807d6e7aa798c0": {
          "model_module": "@jupyter-widgets/controls",
          "model_module_version": "1.5.0",
          "model_name": "DescriptionStyleModel",
          "state": {
            "_model_module": "@jupyter-widgets/controls",
            "_model_module_version": "1.5.0",
            "_model_name": "DescriptionStyleModel",
            "_view_count": null,
            "_view_module": "@jupyter-widgets/base",
            "_view_module_version": "1.2.0",
            "_view_name": "StyleView",
            "description_width": ""
          }
        },
        "bee364b2c3a44a7bab095fd10a097666": {
          "model_module": "@jupyter-widgets/controls",
          "model_module_version": "1.5.0",
          "model_name": "HTMLModel",
          "state": {
            "_dom_classes": [],
            "_model_module": "@jupyter-widgets/controls",
            "_model_module_version": "1.5.0",
            "_model_name": "HTMLModel",
            "_view_count": null,
            "_view_module": "@jupyter-widgets/controls",
            "_view_module_version": "1.5.0",
            "_view_name": "HTMLView",
            "description": "",
            "description_tooltip": null,
            "layout": "IPY_MODEL_8ee35a0abc354f638a131d52fb8f44c1",
            "placeholder": "​",
            "style": "IPY_MODEL_68f6cfd1da0c4626ae357cd69cc57668",
            "value": "tokenizer_config.json: 100%"
          }
        },
        "c137f2d1805d46018c22ddc47173d563": {
          "model_module": "@jupyter-widgets/base",
          "model_module_version": "1.2.0",
          "model_name": "LayoutModel",
          "state": {
            "_model_module": "@jupyter-widgets/base",
            "_model_module_version": "1.2.0",
            "_model_name": "LayoutModel",
            "_view_count": null,
            "_view_module": "@jupyter-widgets/base",
            "_view_module_version": "1.2.0",
            "_view_name": "LayoutView",
            "align_content": null,
            "align_items": null,
            "align_self": null,
            "border": null,
            "bottom": null,
            "display": null,
            "flex": null,
            "flex_flow": null,
            "grid_area": null,
            "grid_auto_columns": null,
            "grid_auto_flow": null,
            "grid_auto_rows": null,
            "grid_column": null,
            "grid_gap": null,
            "grid_row": null,
            "grid_template_areas": null,
            "grid_template_columns": null,
            "grid_template_rows": null,
            "height": null,
            "justify_content": null,
            "justify_items": null,
            "left": null,
            "margin": null,
            "max_height": null,
            "max_width": null,
            "min_height": null,
            "min_width": null,
            "object_fit": null,
            "object_position": null,
            "order": null,
            "overflow": null,
            "overflow_x": null,
            "overflow_y": null,
            "padding": null,
            "right": null,
            "top": null,
            "visibility": null,
            "width": null
          }
        },
        "c34ad7d81f444ac9be7d665e23e8c654": {
          "model_module": "@jupyter-widgets/controls",
          "model_module_version": "1.5.0",
          "model_name": "FloatProgressModel",
          "state": {
            "_dom_classes": [],
            "_model_module": "@jupyter-widgets/controls",
            "_model_module_version": "1.5.0",
            "_model_name": "FloatProgressModel",
            "_view_count": null,
            "_view_module": "@jupyter-widgets/controls",
            "_view_module_version": "1.5.0",
            "_view_name": "ProgressView",
            "bar_style": "success",
            "description": "",
            "description_tooltip": null,
            "layout": "IPY_MODEL_ea6dedffb9ee4dc68eee412be99dd1ee",
            "max": 5069051,
            "min": 0,
            "orientation": "horizontal",
            "style": "IPY_MODEL_cfe9b1228d464536a1232d26c50a0714",
            "value": 5069051
          }
        },
        "c7c5d0f1a9d84dd885099adb82e21535": {
          "model_module": "@jupyter-widgets/base",
          "model_module_version": "1.2.0",
          "model_name": "LayoutModel",
          "state": {
            "_model_module": "@jupyter-widgets/base",
            "_model_module_version": "1.2.0",
            "_model_name": "LayoutModel",
            "_view_count": null,
            "_view_module": "@jupyter-widgets/base",
            "_view_module_version": "1.2.0",
            "_view_name": "LayoutView",
            "align_content": null,
            "align_items": null,
            "align_self": null,
            "border": null,
            "bottom": null,
            "display": null,
            "flex": null,
            "flex_flow": null,
            "grid_area": null,
            "grid_auto_columns": null,
            "grid_auto_flow": null,
            "grid_auto_rows": null,
            "grid_column": null,
            "grid_gap": null,
            "grid_row": null,
            "grid_template_areas": null,
            "grid_template_columns": null,
            "grid_template_rows": null,
            "height": null,
            "justify_content": null,
            "justify_items": null,
            "left": null,
            "margin": null,
            "max_height": null,
            "max_width": null,
            "min_height": null,
            "min_width": null,
            "object_fit": null,
            "object_position": null,
            "order": null,
            "overflow": null,
            "overflow_x": null,
            "overflow_y": null,
            "padding": null,
            "right": null,
            "top": null,
            "visibility": null,
            "width": null
          }
        },
        "cfe86b9962cc49f4a05561d3eb56b66a": {
          "model_module": "@jupyter-widgets/controls",
          "model_module_version": "1.5.0",
          "model_name": "DescriptionStyleModel",
          "state": {
            "_model_module": "@jupyter-widgets/controls",
            "_model_module_version": "1.5.0",
            "_model_name": "DescriptionStyleModel",
            "_view_count": null,
            "_view_module": "@jupyter-widgets/base",
            "_view_module_version": "1.2.0",
            "_view_name": "StyleView",
            "description_width": ""
          }
        },
        "cfe9b1228d464536a1232d26c50a0714": {
          "model_module": "@jupyter-widgets/controls",
          "model_module_version": "1.5.0",
          "model_name": "ProgressStyleModel",
          "state": {
            "_model_module": "@jupyter-widgets/controls",
            "_model_module_version": "1.5.0",
            "_model_name": "ProgressStyleModel",
            "_view_count": null,
            "_view_module": "@jupyter-widgets/base",
            "_view_module_version": "1.2.0",
            "_view_name": "StyleView",
            "bar_color": null,
            "description_width": ""
          }
        },
        "d1afa6ef6b934af9b52acaedf76d965e": {
          "model_module": "@jupyter-widgets/controls",
          "model_module_version": "1.5.0",
          "model_name": "FloatProgressModel",
          "state": {
            "_dom_classes": [],
            "_model_module": "@jupyter-widgets/controls",
            "_model_module_version": "1.5.0",
            "_model_name": "FloatProgressModel",
            "_view_count": null,
            "_view_module": "@jupyter-widgets/controls",
            "_view_module_version": "1.5.0",
            "_view_name": "ProgressView",
            "bar_style": "success",
            "description": "",
            "description_tooltip": null,
            "layout": "IPY_MODEL_8462628c94a34d9980fe45d52f49fcff",
            "max": 2239611368,
            "min": 0,
            "orientation": "horizontal",
            "style": "IPY_MODEL_428a9a42a98f40efb2617a1897773b3b",
            "value": 2239611368
          }
        },
        "d643bc99a3904616a1af6d99860819f6": {
          "model_module": "@jupyter-widgets/controls",
          "model_module_version": "1.5.0",
          "model_name": "HBoxModel",
          "state": {
            "_dom_classes": [],
            "_model_module": "@jupyter-widgets/controls",
            "_model_module_version": "1.5.0",
            "_model_name": "HBoxModel",
            "_view_count": null,
            "_view_module": "@jupyter-widgets/controls",
            "_view_module_version": "1.5.0",
            "_view_name": "HBoxView",
            "box_style": "",
            "children": [
              "IPY_MODEL_1a2bf676a4dc4bf1ac3c4e614c6f3348",
              "IPY_MODEL_2d74bc542d2445dcb04393751e2f0615",
              "IPY_MODEL_4c21921ea2e04358b106145fe972ebbe"
            ],
            "layout": "IPY_MODEL_273e5c8146984919bfefc319d103b21b"
          }
        },
        "dc7a8f9bec3141cf968f8a1732bb4fe7": {
          "model_module": "@jupyter-widgets/base",
          "model_module_version": "1.2.0",
          "model_name": "LayoutModel",
          "state": {
            "_model_module": "@jupyter-widgets/base",
            "_model_module_version": "1.2.0",
            "_model_name": "LayoutModel",
            "_view_count": null,
            "_view_module": "@jupyter-widgets/base",
            "_view_module_version": "1.2.0",
            "_view_name": "LayoutView",
            "align_content": null,
            "align_items": null,
            "align_self": null,
            "border": null,
            "bottom": null,
            "display": null,
            "flex": null,
            "flex_flow": null,
            "grid_area": null,
            "grid_auto_columns": null,
            "grid_auto_flow": null,
            "grid_auto_rows": null,
            "grid_column": null,
            "grid_gap": null,
            "grid_row": null,
            "grid_template_areas": null,
            "grid_template_columns": null,
            "grid_template_rows": null,
            "height": null,
            "justify_content": null,
            "justify_items": null,
            "left": null,
            "margin": null,
            "max_height": null,
            "max_width": null,
            "min_height": null,
            "min_width": null,
            "object_fit": null,
            "object_position": null,
            "order": null,
            "overflow": null,
            "overflow_x": null,
            "overflow_y": null,
            "padding": null,
            "right": null,
            "top": null,
            "visibility": null,
            "width": null
          }
        },
        "ea6dedffb9ee4dc68eee412be99dd1ee": {
          "model_module": "@jupyter-widgets/base",
          "model_module_version": "1.2.0",
          "model_name": "LayoutModel",
          "state": {
            "_model_module": "@jupyter-widgets/base",
            "_model_module_version": "1.2.0",
            "_model_name": "LayoutModel",
            "_view_count": null,
            "_view_module": "@jupyter-widgets/base",
            "_view_module_version": "1.2.0",
            "_view_name": "LayoutView",
            "align_content": null,
            "align_items": null,
            "align_self": null,
            "border": null,
            "bottom": null,
            "display": null,
            "flex": null,
            "flex_flow": null,
            "grid_area": null,
            "grid_auto_columns": null,
            "grid_auto_flow": null,
            "grid_auto_rows": null,
            "grid_column": null,
            "grid_gap": null,
            "grid_row": null,
            "grid_template_areas": null,
            "grid_template_columns": null,
            "grid_template_rows": null,
            "height": null,
            "justify_content": null,
            "justify_items": null,
            "left": null,
            "margin": null,
            "max_height": null,
            "max_width": null,
            "min_height": null,
            "min_width": null,
            "object_fit": null,
            "object_position": null,
            "order": null,
            "overflow": null,
            "overflow_x": null,
            "overflow_y": null,
            "padding": null,
            "right": null,
            "top": null,
            "visibility": null,
            "width": null
          }
        },
        "f14dcb9ac1af4486b70996934c009fc0": {
          "model_module": "@jupyter-widgets/base",
          "model_module_version": "1.2.0",
          "model_name": "LayoutModel",
          "state": {
            "_model_module": "@jupyter-widgets/base",
            "_model_module_version": "1.2.0",
            "_model_name": "LayoutModel",
            "_view_count": null,
            "_view_module": "@jupyter-widgets/base",
            "_view_module_version": "1.2.0",
            "_view_name": "LayoutView",
            "align_content": null,
            "align_items": null,
            "align_self": null,
            "border": null,
            "bottom": null,
            "display": null,
            "flex": null,
            "flex_flow": null,
            "grid_area": null,
            "grid_auto_columns": null,
            "grid_auto_flow": null,
            "grid_auto_rows": null,
            "grid_column": null,
            "grid_gap": null,
            "grid_row": null,
            "grid_template_areas": null,
            "grid_template_columns": null,
            "grid_template_rows": null,
            "height": null,
            "justify_content": null,
            "justify_items": null,
            "left": null,
            "margin": null,
            "max_height": null,
            "max_width": null,
            "min_height": null,
            "min_width": null,
            "object_fit": null,
            "object_position": null,
            "order": null,
            "overflow": null,
            "overflow_x": null,
            "overflow_y": null,
            "padding": null,
            "right": null,
            "top": null,
            "visibility": null,
            "width": null
          }
        },
        "f4a5e9117a834aeaaac521a090c198a8": {
          "model_module": "@jupyter-widgets/base",
          "model_module_version": "1.2.0",
          "model_name": "LayoutModel",
          "state": {
            "_model_module": "@jupyter-widgets/base",
            "_model_module_version": "1.2.0",
            "_model_name": "LayoutModel",
            "_view_count": null,
            "_view_module": "@jupyter-widgets/base",
            "_view_module_version": "1.2.0",
            "_view_name": "LayoutView",
            "align_content": null,
            "align_items": null,
            "align_self": null,
            "border": null,
            "bottom": null,
            "display": null,
            "flex": null,
            "flex_flow": null,
            "grid_area": null,
            "grid_auto_columns": null,
            "grid_auto_flow": null,
            "grid_auto_rows": null,
            "grid_column": null,
            "grid_gap": null,
            "grid_row": null,
            "grid_template_areas": null,
            "grid_template_columns": null,
            "grid_template_rows": null,
            "height": null,
            "justify_content": null,
            "justify_items": null,
            "left": null,
            "margin": null,
            "max_height": null,
            "max_width": null,
            "min_height": null,
            "min_width": null,
            "object_fit": null,
            "object_position": null,
            "order": null,
            "overflow": null,
            "overflow_x": null,
            "overflow_y": null,
            "padding": null,
            "right": null,
            "top": null,
            "visibility": null,
            "width": null
          }
        },
        "f4f75963da034b5294dd6ad6de6baaed": {
          "model_module": "@jupyter-widgets/controls",
          "model_module_version": "1.5.0",
          "model_name": "ProgressStyleModel",
          "state": {
            "_model_module": "@jupyter-widgets/controls",
            "_model_module_version": "1.5.0",
            "_model_name": "ProgressStyleModel",
            "_view_count": null,
            "_view_module": "@jupyter-widgets/base",
            "_view_module_version": "1.2.0",
            "_view_name": "StyleView",
            "bar_color": null,
            "description_width": ""
          }
        },
        "f837dccd2b2b40f49b2a795f1e6d8d96": {
          "model_module": "@jupyter-widgets/controls",
          "model_module_version": "1.5.0",
          "model_name": "HTMLModel",
          "state": {
            "_dom_classes": [],
            "_model_module": "@jupyter-widgets/controls",
            "_model_module_version": "1.5.0",
            "_model_name": "HTMLModel",
            "_view_count": null,
            "_view_module": "@jupyter-widgets/controls",
            "_view_module_version": "1.5.0",
            "_view_name": "HTMLView",
            "description": "",
            "description_tooltip": null,
            "layout": "IPY_MODEL_f4a5e9117a834aeaaac521a090c198a8",
            "placeholder": "​",
            "style": "IPY_MODEL_bddc5596af5f460888807d6e7aa798c0",
            "value": " 690/690 [00:00&lt;00:00, 13.6kB/s]"
          }
        }
      }
    }
  },
  "nbformat": 4,
  "nbformat_minor": 0
}
