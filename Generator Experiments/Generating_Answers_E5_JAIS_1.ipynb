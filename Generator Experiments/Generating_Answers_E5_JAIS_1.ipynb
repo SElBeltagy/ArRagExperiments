{
  "cells": [
    {
      "cell_type": "markdown",
      "metadata": {},
      "source": [
        "#### Code written by Mohamed Abdallah"
      ]
    },
    {
      "cell_type": "code",
      "execution_count": 2,
      "metadata": {
        "colab": {
          "base_uri": "https://localhost:8080/"
        },
        "id": "9MhxrwKGXe4V",
        "outputId": "b339fa1e-e736-4a54-b9b4-bd4a9f5aa786"
      },
      "outputs": [
        {
          "name": "stdout",
          "output_type": "stream",
          "text": [
            "The token has not been saved to the git credentials helper. Pass `add_to_git_credential=True` in this function directly or `--add-to-git-credential` if using via `huggingface-cli` if you want to set the git credential as well.\n",
            "Token is valid (permission: write).\n",
            "Your token has been saved to /root/.cache/huggingface/token\n",
            "Login successful\n"
          ]
        }
      ],
      "source": [
        "# Authenticate with Hugging Face\n",
        "from huggingface_hub import login\n",
        "login(token=\"hf_...\")"
      ]
    },
    {
      "cell_type": "code",
      "execution_count": 3,
      "metadata": {
        "colab": {
          "base_uri": "https://localhost:8080/"
        },
        "id": "Rhyw2x5mA-dd",
        "outputId": "802da0d4-9a37-40b9-d100-890f74cfcb84"
      },
      "outputs": [
        {
          "name": "stdout",
          "output_type": "stream",
          "text": [
            "Drive already mounted at /content/drive; to attempt to forcibly remount, call drive.mount(\"/content/drive\", force_remount=True).\n"
          ]
        }
      ],
      "source": [
        "from google.colab import drive\n",
        "drive.mount('/content/drive')"
      ]
    },
    {
      "cell_type": "code",
      "execution_count": 3,
      "metadata": {
        "id": "t30qkkttxexF"
      },
      "outputs": [],
      "source": [
        "# Setting Directory for the uploaded files\n",
        "! mkdir '/content/Docs'"
      ]
    },
    {
      "cell_type": "markdown",
      "metadata": {
        "id": "SQ580vzTh1kv"
      },
      "source": [
        "### Installing required packages"
      ]
    },
    {
      "cell_type": "code",
      "execution_count": null,
      "metadata": {
        "colab": {
          "base_uri": "https://localhost:8080/"
        },
        "id": "NiZ4K7jDAcO5",
        "outputId": "1cc9e7e4-0993-407c-ed59-eabc2c19ceb7"
      },
      "outputs": [],
      "source": [
        "!pip install --upgrade sentence-transformers sentencepiece datasets"
      ]
    },
    {
      "cell_type": "code",
      "execution_count": null,
      "metadata": {
        "colab": {
          "base_uri": "https://localhost:8080/"
        },
        "id": "MfsJQpIVo_k4",
        "outputId": "7d3c840d-c9eb-47fa-d716-3d8854e062ea"
      },
      "outputs": [],
      "source": [
        "!pip install openai langchain chromadb tiktoken langchain-community langchain_chroma langchain_openai ollama unstructured bitsandbytes"
      ]
    },
    {
      "cell_type": "markdown",
      "metadata": {
        "id": "okP5Y9dth8b_"
      },
      "source": [
        "### Import Packages and Libraries"
      ]
    },
    {
      "cell_type": "code",
      "execution_count": 4,
      "metadata": {
        "id": "3vE4mg8axey0"
      },
      "outputs": [],
      "source": [
        "import os\n",
        "import re\n",
        "import pandas as pd\n",
        "import numpy as np\n",
        "import gensim\n",
        "\n",
        "from sklearn.feature_extraction.text import TfidfVectorizer\n",
        "from sklearn.metrics.pairwise import cosine_similarity\n",
        "\n",
        "\n",
        "import openai\n",
        "from langchain import OpenAI\n",
        "from langchain.text_splitter import RecursiveCharacterTextSplitter, CharacterTextSplitter\n",
        "from langchain.embeddings.openai import OpenAIEmbeddings\n",
        "from langchain.vectorstores import Pinecone\n",
        "from langchain_core.messages import AIMessage, HumanMessage\n",
        "from langchain.chains import create_history_aware_retriever, create_retrieval_chain\n",
        "from langchain_core.prompts import MessagesPlaceholder, ChatPromptTemplate\n",
        "from langchain_community.document_loaders import UnstructuredFileLoader, DirectoryLoader\n",
        "from langchain_chroma import Chroma\n",
        "from langchain_community.chat_message_histories import ChatMessageHistory\n",
        "from langchain_community.document_loaders import UnstructuredFileLoader, DirectoryLoader\n",
        "from langchain_openai import ChatOpenAI, OpenAIEmbeddings"
      ]
    },
    {
      "cell_type": "markdown",
      "metadata": {
        "id": "oW9Q7y--qSRl"
      },
      "source": [
        "### Reading table of Q&A csv file"
      ]
    },
    {
      "cell_type": "code",
      "execution_count": 5,
      "metadata": {
        "id": "ApBX2UU0o_Xt"
      },
      "outputs": [],
      "source": [
        "df = pd.read_csv('/content/Retrieval_Data_mod_v4.csv')"
      ]
    },
    {
      "cell_type": "code",
      "execution_count": 6,
      "metadata": {
        "colab": {
          "base_uri": "https://localhost:8080/"
        },
        "id": "larhr3USqYnZ",
        "outputId": "94c01a1d-eeae-4026-9b5b-b3676605dca7"
      },
      "outputs": [
        {
          "data": {
            "text/plain": [
              "Index(['Retrieved_true', 'Questions', 'paraphrases',\n",
              "       'eg_ar_question (GPT3.5 Turbo)', 'eg_ar_question_edited ',\n",
              "       'answer (GPT3.5 Turbo)', 'Unnamed: 6', 'Unnamed: 7', 'Answers',\n",
              "       'Generated_Answers_Mistral_7b', 'Eval_Answers_Mistral_7b',\n",
              "       'generated_tokens', 'true_tokens', 'bleu_score_mistral',\n",
              "       'bleu_score_mistral.1', 'Generated_Answers_llama_70b'],\n",
              "      dtype='object')"
            ]
          },
          "execution_count": 6,
          "metadata": {},
          "output_type": "execute_result"
        }
      ],
      "source": [
        "df.columns"
      ]
    },
    {
      "cell_type": "markdown",
      "metadata": {
        "id": "qn_ZVuhrqRXb"
      },
      "source": [
        "---"
      ]
    },
    {
      "cell_type": "markdown",
      "metadata": {
        "id": "1VFdo56io3ns"
      },
      "source": [
        "### Uploading files, Splitting and Use various retrievals"
      ]
    },
    {
      "cell_type": "code",
      "execution_count": 7,
      "metadata": {
        "id": "Po-8CCRiY52G"
      },
      "outputs": [],
      "source": [
        "loader = DirectoryLoader('/content/Docs')\n",
        "docs = loader.load()"
      ]
    },
    {
      "cell_type": "code",
      "execution_count": 8,
      "metadata": {
        "id": "9zrO-63Jb5Lr"
      },
      "outputs": [],
      "source": [
        "text_splitter = RecursiveCharacterTextSplitter(chunk_size=1000, chunk_overlap=100)\n",
        "splits = text_splitter.split_documents(docs)"
      ]
    },
    {
      "cell_type": "code",
      "execution_count": null,
      "metadata": {
        "id": "xsU7RZwogB7w"
      },
      "outputs": [],
      "source": [
        "splits"
      ]
    },
    {
      "cell_type": "markdown",
      "metadata": {
        "id": "PTKVqDJCN34_"
      },
      "source": [
        "### New Experiment"
      ]
    },
    {
      "cell_type": "markdown",
      "metadata": {
        "id": "Ps0t0Z-6EMDP"
      },
      "source": [
        "###  5. E5 (dim_size= 1024)"
      ]
    },
    {
      "cell_type": "code",
      "execution_count": 9,
      "metadata": {
        "colab": {
          "base_uri": "https://localhost:8080/"
        },
        "id": "UYceO4eaCsUO",
        "outputId": "3b601f46-d633-4806-b7eb-617cee3aba87"
      },
      "outputs": [
        {
          "name": "stderr",
          "output_type": "stream",
          "text": [
            "/usr/local/lib/python3.10/dist-packages/huggingface_hub/utils/_token.py:89: UserWarning: \n",
            "The secret `HF_TOKEN` does not exist in your Colab secrets.\n",
            "To authenticate with the Hugging Face Hub, create a token in your settings tab (https://huggingface.co/settings/tokens), set it as secret in your Google Colab and restart your session.\n",
            "You will be able to reuse this secret in all of your notebooks.\n",
            "Please note that authentication is recommended but still optional to access public models or datasets.\n",
            "  warnings.warn(\n"
          ]
        }
      ],
      "source": [
        "from transformers import AutoTokenizer, AutoModel\n",
        "import torch\n",
        "\n",
        "# Load the tokenizer and model\n",
        "tokenizer = AutoTokenizer.from_pretrained('intfloat/multilingual-e5-large')\n",
        "model = AutoModel.from_pretrained('intfloat/multilingual-e5-large')\n",
        "\n",
        "# Function to generate embeddings\n",
        "def embed_texts(texts):\n",
        "    embeddings = []\n",
        "    for text in texts:\n",
        "        inputs = tokenizer(text, return_tensors='pt', padding=True, truncation=True)\n",
        "        with torch.no_grad():\n",
        "            outputs = model(**inputs)\n",
        "        embeddings.append(outputs.last_hidden_state.mean(dim=1).squeeze().tolist())\n",
        "    return embeddings\n"
      ]
    },
    {
      "cell_type": "code",
      "execution_count": 10,
      "metadata": {
        "id": "gpCqFAnaMZjp"
      },
      "outputs": [],
      "source": [
        "class E5Embeddings:\n",
        "    def embed_documents(self, texts):\n",
        "        return embed_texts(texts)\n",
        "\n",
        "    def embed_query(self, text):\n",
        "        return embed_texts([text])[0]\n",
        "\n",
        "embedding_E5 = E5Embeddings()"
      ]
    },
    {
      "cell_type": "code",
      "execution_count": 11,
      "metadata": {
        "id": "YFGetCQ0L_As"
      },
      "outputs": [],
      "source": [
        "# Create Chroma vectorstore with embeddings from the model\n",
        "vectorstore_E5 = Chroma.from_documents(documents=splits, embedding=embedding_E5)\n",
        "retriever_E5 = vectorstore_E5.as_retriever(search_type=\"similarity\", search_kwargs={'k': 5})"
      ]
    },
    {
      "cell_type": "markdown",
      "metadata": {
        "id": "ygBfVOdvRQn8"
      },
      "source": [
        "### Answers Generation"
      ]
    },
    {
      "cell_type": "code",
      "execution_count": 51,
      "metadata": {
        "id": "xc72S1gIiuWG"
      },
      "outputs": [],
      "source": [
        "from langchain.llms import HuggingFacePipeline\n",
        "from langchain import PromptTemplate\n",
        "from transformers import TextGenerationPipeline, BitsAndBytesConfig\n",
        "from transformers import AutoTokenizer, AutoModelForCausalLM, AutoModelForSequenceClassification\n",
        "import torch\n",
        "from langchain.chains import RetrievalQA\n",
        "from transformers import pipeline"
      ]
    },
    {
      "cell_type": "code",
      "execution_count": 13,
      "metadata": {
        "colab": {
          "base_uri": "https://localhost:8080/"
        },
        "id": "pZM4rvMkbsTa",
        "outputId": "4c78aa77-fe0d-402c-e5ec-1b8f6cfe80b6"
      },
      "outputs": [
        {
          "data": {
            "text/plain": [
              "0"
            ]
          },
          "execution_count": 13,
          "metadata": {},
          "output_type": "execute_result"
        }
      ],
      "source": [
        "import gc\n",
        "gc.collect()"
      ]
    },
    {
      "cell_type": "code",
      "execution_count": 14,
      "metadata": {
        "id": "UX7QkHoBXMt5"
      },
      "outputs": [],
      "source": [
        "quantization_config = BitsAndBytesConfig(\n",
        "    load_in_4bit=True,\n",
        "    bnb_4bit_compute_dtype=torch.float16,\n",
        "    bnb_4bit_quant_type=\"nf4\",\n",
        "    bnb_4bit_use_double_quant=True,\n",
        "\n",
        ")"
      ]
    },
    {
      "cell_type": "code",
      "execution_count": 49,
      "metadata": {
        "colab": {
          "base_uri": "https://localhost:8080/",
          "height": 84,
          "referenced_widgets": [
            "cb0ea1d0dcb14d7d82176ff1eff42427",
            "28e139889f4b4a648bf1c013aaa5c0ba",
            "d7b6b9bf44a942d4a7a1814785ae0772",
            "35ac6792607541ea8aafe906ca94196c",
            "b88e404731ff4b868923cdf262a3b478",
            "ae8bc002e3704d9fb5c4ddf0ccee9380",
            "3500ad83fc4941f7822d8751755f22cb",
            "328e78f158674ec590ad264e4662511c",
            "077aa169a3374ec9afda3444c49401eb",
            "f8000f5c1a6e4455a07cd1fedfa15fe7",
            "c094117bbca64643b0724802f2f62709"
          ]
        },
        "id": "PLIIO1UcNRaX",
        "outputId": "2b6047c3-2703-40bb-dc55-ee169f049fbd"
      },
      "outputs": [
        {
          "name": "stderr",
          "output_type": "stream",
          "text": [
            "Special tokens have been added in the vocabulary, make sure the associated word embeddings are fine-tuned or trained.\n",
            "`low_cpu_mem_usage` was None, now set to True since model is quantized.\n"
          ]
        },
        {
          "data": {
            "application/vnd.jupyter.widget-view+json": {
              "model_id": "cb0ea1d0dcb14d7d82176ff1eff42427",
              "version_major": 2,
              "version_minor": 0
            },
            "text/plain": [
              "Loading checkpoint shards:   0%|          | 0/4 [00:00<?, ?it/s]"
            ]
          },
          "metadata": {},
          "output_type": "display_data"
        }
      ],
      "source": [
        "jais_tokenizer = AutoTokenizer.from_pretrained(\"airev-ai/Jais-Inception-7b-V0.2\",quantization_config=quantization_config,trust_remote_code=True)\n",
        "jais_model = AutoModelForCausalLM.from_pretrained( \"airev-ai/Jais-Inception-7b-V0.2\",quantization_config=quantization_config,trust_remote_code=True)"
      ]
    },
    {
      "cell_type": "code",
      "execution_count": null,
      "metadata": {
        "colab": {
          "base_uri": "https://localhost:8080/"
        },
        "id": "03iFTWkraN7Y",
        "outputId": "06761d2e-745a-4105-beb0-4c6f889ee5bc"
      },
      "outputs": [
        {
          "name": "stdout",
          "output_type": "stream",
          "text": [
            "mkdir: cannot create directory ‘/content/drive/MyDrive/JAIS_7b_q’: File exists\n"
          ]
        }
      ],
      "source": [
        "!mkdir /content/drive/MyDrive/JAIS_7b_q"
      ]
    },
    {
      "cell_type": "code",
      "execution_count": null,
      "metadata": {
        "id": "e9Da0sMlfA3E"
      },
      "outputs": [],
      "source": [
        "# drive_path = '/content/drive/MyDrive/JAIS_7b_q'\n",
        "# jais_tokenizer.save_pretrained(drive_path)\n",
        "# jais_model.save_pretrained(drive_path)"
      ]
    },
    {
      "cell_type": "code",
      "execution_count": 52,
      "metadata": {
        "id": "gzYgwR7KNRYH"
      },
      "outputs": [],
      "source": [
        "pipeline = pipeline(\n",
        "       \"text-generation\",\n",
        "        model=jais_model,\n",
        "        tokenizer=jais_tokenizer,\n",
        "        truncation =True,\n",
        "        device_map=\"auto\",\n",
        "        max_new_tokens=2000,\n",
        "        do_sample=True,\n",
        "        top_k=5,\n",
        "        num_return_sequences=1)\n",
        "\n",
        "jais_llm = HuggingFacePipeline(pipeline=pipeline)"
      ]
    },
    {
      "cell_type": "code",
      "execution_count": 53,
      "metadata": {
        "id": "V4R79KxhGz_Q"
      },
      "outputs": [],
      "source": [
        "from langchain.chains import create_retrieval_chain\n",
        "from langchain.chains.combine_documents import create_stuff_documents_chain\n",
        "from langchain_core.prompts import ChatPromptTemplate\n",
        "\n",
        "system_prompt = (\n",
        "    \"Use the given context to answer the question in Arabic language. REPLY ONLY IN ARABIC \"\n",
        "    \"Use three sentence maximum and keep the answer precise and concise.\"\n",
        "    \"Context: {context}\"\n",
        ")\n",
        "prompt = ChatPromptTemplate.from_messages(\n",
        "    [\n",
        "        (\"system\", system_prompt),\n",
        "        (\"human\", \"{input}\"),\n",
        "    ]\n",
        ")"
      ]
    },
    {
      "cell_type": "code",
      "execution_count": 54,
      "metadata": {
        "id": "fSYFBZ9lGz5s"
      },
      "outputs": [],
      "source": [
        "question_answer_chain = create_stuff_documents_chain(jais_llm , prompt)\n",
        "chain = create_retrieval_chain(retriever_E5, question_answer_chain)"
      ]
    },
    {
      "cell_type": "code",
      "execution_count": 56,
      "metadata": {
        "id": "8qLGucJvjdl7"
      },
      "outputs": [],
      "source": [
        "question = df['Questions'][2]"
      ]
    },
    {
      "cell_type": "code",
      "execution_count": 57,
      "metadata": {
        "id": "pLJxXeRWWFTj"
      },
      "outputs": [],
      "source": [
        "def extract_arabic_jais(text):\n",
        "    # Check for \"الجواب\" scenario\n",
        "    keyword = \" :الجواب\"\n",
        "    keyword_index = text.find(keyword)\n",
        "    if keyword_index != -1:\n",
        "        start_index = keyword_index + len(keyword)\n",
        "        return text[start_index:].strip()\n",
        "\n",
        "    # Check for \"AI:\" scenario\n",
        "    start_keyword = \"AI:\"\n",
        "    start_index = text.find(start_keyword)\n",
        "    if start_index != -1:\n",
        "        start_index += len(start_keyword)\n",
        "        remaining_text = text[start_index:]\n",
        "        # Regex to find the start of English text\n",
        "        end_match = re.search(r'[a-zA-Z]', remaining_text)\n",
        "        if end_match:\n",
        "            end_index = end_match.start()\n",
        "            return remaining_text[:end_index].strip()\n",
        "        return remaining_text.strip()"
      ]
    },
    {
      "cell_type": "code",
      "execution_count": 58,
      "metadata": {
        "id": "ROzQT2jPXXZc"
      },
      "outputs": [],
      "source": [
        "extract_arabic_jais(chain.invoke({\"input\": df['Questions'][2]})['answer'])"
      ]
    },
    {
      "cell_type": "markdown",
      "metadata": {
        "id": "abphkLQ_WLFm"
      },
      "source": [
        "### Generation Answers"
      ]
    },
    {
      "cell_type": "code",
      "execution_count": 20,
      "metadata": {
        "id": "XWfshCvlWJpr"
      },
      "outputs": [],
      "source": [
        "questions = df['Questions']\n",
        "true_answers = df['Answers']"
      ]
    },
    {
      "cell_type": "code",
      "execution_count": 24,
      "metadata": {
        "id": "z-02ulMj2J_T"
      },
      "outputs": [],
      "source": [
        "def generate_answer(question):\n",
        "    answer = chain.invoke({\"input\": question})['answer']\n",
        "    arabic_answer = extract_arabic_jais(answer)\n",
        "    # while arabic_answer == None:\n",
        "    #     answer = chain.invoke({\"input\": question})['answer']\n",
        "    #     arabic_answer = extract_arabic_jais(answer)\n",
        "    return arabic_answer"
      ]
    },
    {
      "cell_type": "code",
      "execution_count": 25,
      "metadata": {
        "colab": {
          "base_uri": "https://localhost:8080/",
          "height": 49,
          "referenced_widgets": [
            "8af8714d44ff403caa7d0f4e5a25c173",
            "dfc60fe581144137a2cd0cc7cfd7e913",
            "52a3ba5df184403f99066d062b704cfd",
            "37f6d9212d704e6cbecceb39a3fb7b43",
            "9695724919a3413b80b86c5c5b8f642c",
            "2c6e87c75d834e409f943f0f97cd05a3",
            "5fabda07418b4018ab752452e33b4862",
            "9749e04fe1ec44f0bdc8592b3d90be85",
            "ab8dd5eda79141928a479085a532dc5a",
            "741e7e4296d14857b753d9a561dcc8de",
            "54f7132e7af84937b5558279d45e81ac"
          ]
        },
        "id": "z4hU8UML2J8W",
        "outputId": "d5d94fd1-62b2-4cc6-f69c-4fe8d4f8110a"
      },
      "outputs": [
        {
          "data": {
            "application/vnd.jupyter.widget-view+json": {
              "model_id": "8af8714d44ff403caa7d0f4e5a25c173",
              "version_major": 2,
              "version_minor": 0
            },
            "text/plain": [
              "Map:   0%|          | 0/158 [00:00<?, ? examples/s]"
            ]
          },
          "metadata": {},
          "output_type": "display_data"
        }
      ],
      "source": [
        "from datasets import Dataset\n",
        "# Convert DataFrame to Dataset\n",
        "dataset = Dataset.from_pandas(df)\n",
        "\n",
        "# Apply the chain in parallel using Dataset's map function\n",
        "results = dataset.map(lambda x: {\"answer\": generate_answer(x[\"Questions\"])})\n"
      ]
    },
    {
      "cell_type": "code",
      "execution_count": 26,
      "metadata": {
        "colab": {
          "base_uri": "https://localhost:8080/"
        },
        "id": "mrws6CwH2J6I",
        "outputId": "d77f4e63-e1fd-4cbd-9cb9-bf2a80279624"
      },
      "outputs": [
        {
          "data": {
            "text/plain": [
              "Dataset({\n",
              "    features: ['Retrieved_true', 'Questions', 'paraphrases', 'eg_ar_question (GPT3.5 Turbo)', 'eg_ar_question_edited ', 'answer (GPT3.5 Turbo)', 'Unnamed: 6', 'Unnamed: 7', 'Answers', 'Generated_Answers_Mistral_7b', 'Eval_Answers_Mistral_7b', 'generated_tokens', 'true_tokens', 'bleu_score_mistral', 'bleu_score_mistral.1', 'Generated_Answers_llama_70b', 'answer'],\n",
              "    num_rows: 158\n",
              "})"
            ]
          },
          "execution_count": 26,
          "metadata": {},
          "output_type": "execute_result"
        }
      ],
      "source": [
        "results"
      ]
    },
    {
      "cell_type": "code",
      "execution_count": 27,
      "metadata": {
        "id": "6pyA74-B-g9s"
      },
      "outputs": [],
      "source": [
        "x=results.to_pandas()"
      ]
    },
    {
      "cell_type": "code",
      "execution_count": 29,
      "metadata": {
        "id": "AvjulArK-p3k"
      },
      "outputs": [],
      "source": [
        "x.to_csv('/content/Retrieval_Data_mod_v4.csv',index=False)"
      ]
    },
    {
      "cell_type": "code",
      "execution_count": 59,
      "metadata": {
        "colab": {
          "base_uri": "https://localhost:8080/"
        },
        "id": "WDdzzZWyAo-K",
        "outputId": "8295ba4b-fdbb-42d9-a450-3b7e1dd7e6ba"
      },
      "outputs": [
        {
          "name": "stdout",
          "output_type": "stream",
          "text": [
            "System: Use the given context to answer the question in Arabic language. REPLY ONLY IN ARABIC Use three sentence maximum and keep the answer precise and concise.Context: الشارع فى المقهى، حيث تصبح جزءا من بضائع الدكاكين وحركة المرور، ومن الصمت أن تختار لملابسك\n",
            "\n",
            "وأثاث منزلك ألوانا خافتة هادئة يرتاح إليها البصر، كما أن من الجلبة والصياح أن تختار هذه الأشياء من\n",
            "\n",
            "ذوات الألوان الزاعقة التى تلفت الأنظار، ومن الصمت أن تعلن عن عيادتك، أو مكتبك، أو دكانك بلافتة\n",
            "\n",
            "صغيرة متواضعة، كما أن من الجلبة والصياح أن تعلن عن نفسك بلافتة عريضة تسد على الناس مسالك\n",
            "\n",
            "الطريق، واذ كر أن ارتفاع الصوت قد يدل على تفاهة الصائت فالكلب الذى ينبح لا يعض و كلما ازدادت\n",
            "\n",
            "الشاة صياحا قل على ظهرها الصوف، والضفدعة الهزيلة الضئيلة تملأ الآفاق ضجة ونقيقا.\n",
            "\n",
            "يستحيل أن تكون من الصاخبين ومن العاملين فى وقت واحد، ويستحيل أن تكون من الصائحين ومن\n",
            "\n",
            "الفكرين فى وقت واحد، فقد يتعذر أن يجتمع الكلام والعمل لأن الفكرة إذا طافت برأسك فصحت بها\n",
            "\n",
            "كلاما انتهى بذلك أمرها؛ أما إذا حبستها فى نفسك، وأغلقت دونها صدرك بمغاليق الصمت، فقد تتفجر\n",
            "\n",
            "فى صورة عمل عاجلا أو أجلا.\n",
            "\n",
            "من أصوات؛ وعندئذ حلا لى أن أعد هذه الأصوات، فإذا بى أبلغ فى عدها المئات وبغتة قفزت قفزة\n",
            "\n",
            "لو رآها الناس لقالوا مسه الجنون، وصحت لنفسى قائلا : وجدتها وجدتها ! وجدت العلة فى اتخاذ البومة\n",
            "\n",
            "شعارا للحكمة ورمزا لبعد النظر؛ العلة هى الصمت؛ بلى وجدت العلة، لماذا أقفرت بلادنا وأصابها العقم!\n",
            "\n",
            "آلاف السنين، لا تنجب المصلحين العاملين؟ العلة هى هذه الجلبة وهذا الصياح إى والله، لقد صدق من قال\n",
            "\n",
            "إنه إذا كان الكلام من فضة فالسكوت من ذهب: وأنا أريد هنا بالكلام والسكوت أوسع ما يفهه من هاتين\n",
            "\n",
            "اللفظتين من معنى فإذا فهمت من اللفظتين معناهما الواسع ، أدركت ما أريد أن أسوقه إليك حين أنبئك\n",
            "\n",
            "أن الصمت هو السر فى حكمة البوم، وأن الجلبة هى التى أعقمت بلادنا عن إنجاب المصلحين العاملين.\n",
            "\n",
            "فمن باب الصمت أن تختار لجلوسك مكانا مستورا تخلو فيه إلى نفسك، أو إلى من تتحدث إليه من\n",
            "\n",
            "الأصدقاء فيكون لك بهذا التخفى وجود واضح بارز ومن باب الجلبة والصياح أن تجلس مكشوفا على طوار\n",
            "\n",
            "الشارع فى المقهى، حيث تصبح جزءا من بضائع الدكاكين وحركة المرور، ومن الصمت أن تختار لملابسك\n",
            "\n",
            "كذلك لافتة (المصعد معطل) لا تعرف استثناء، فهي ترهق الجميع خصوصا إذا كانت تتعاون مع سلم البناء بدرجاته الراسخة التي يصعب تجاوزها بمرور الأيام، وقد بدأت الصعود بخطوات تبدو سريعة حتى تحولت إلى خطوات ثقيلة وهزيلة ومشتتة، فما لبثت أستعين بأحد الحوائط؛ استجابة لصرخات أنفاسي التي نعتني بأقسي الأوصاف بسبب خطواتي المتثاقلة. فارتكزت إلى الحائط لأجد خلفي أحد أبناء جيراننا المزعجين يتساءل. لماذا أقف هكذا؟ شردت حينها إلى ذكريات فناء منزلنا القديم عندما سألت جدي إبراهيم عن سبب توقفه الدائم والمتكرر أثناء صعوده، فالتفت إلي حينها، وهو متشبث بعكازه وبصوت محشرج قال عندما تكون في مثل عمري ستعرف. لم أجد أعظم من إجابة جدي إبراهيم لأجيبه بها.\n",
            "\n",
            "لكن يقطع حديثي مع ذلك المزعج صوت رقيق عذب يحمل في صوته أياماً لم تنفد وأملاً لا ينقطع وشغفاً مستمرا. فاتجهت بأنظاري إلى مصدر ذلك الصوت الذي اقتربت صاحبته فإذا هي إحدى جيراننا الأعزاء والتي هاجرت منذ دهر، لكن ملامحها لم تتغير كأنها لم يمر بها العمر، بل ما زالت تحتفظ برونقها وسماء وجهها الصافي الذي لا يحمل أي غيوم، فاتسعت حدقة عيني وتخشبت ملامحي وهربت كلماتي، حتى ابتلعت ريقي وأغمضت عيني لحظات ثم صحت بصوت يملؤه الاندهاش: يسرية؟! فأجابت بهدوء: لا، أنا ابنتها ليلى. حينها أدركت أنه ما عاد ماء ينفع أو غصن يتمسك بنا.\n",
            "\n",
            "فحاولت تجاوز الأمر بحديث لم يتجاوز كثيراً ثرثرة رجل تخطى الخمسين، واستأنفت طريقي إلى منزل زوجتي الذي أصبح يمتلئ بذكرياتنا الدافئة ويعوضني عن درجات السلم وبداية أيام خريف العمر.\n",
            "\n",
            "تتخذ البومة شعارا للحكمة وبعد النظر؛ تراها مرسومة على الكتب أحيانا ليدل الناشر على ما تحويه\n",
            "\n",
            "كتبه من حكمة خالدة؛ شهد لها الناس منذ الأزل بصدق النظر . وحدث أنى كنست أقرأ كتابا، وكانت\n",
            "\n",
            "البومة على غلافه شعارا للناشر، فسالت نفسى: لماذا اتخذ هذا الطائر المشئوم رمزا للحكمة ؟ أيكون\n",
            "\n",
            "ذلك للعينين المفتوحتين اللتين لا ينسدل عليهما الجفنان فى ظلمة المساء؟ أتكون العينان المفتوحتان قد\n",
            "\n",
            "أغرتا الرامزين أن يتخذوا من دوام الإبصار دليلا على سداد البصيرة وبعد النظر ؟ أم يكون ذلك لما تعانيه\n",
            "\n",
            "البومة فى الليل من سهر حين يكون الخليون فى مخادعهم نوما غافلين عن الطبيعة بكل ما فيها من جلال\n",
            "\n",
            "وجمال ؟ أم تكود الجلسة الساكنة الهادئة الرزينة هى التى أغرت الرامزين أن يشيروا بها إلى التأمل\n",
            "\n",
            "العميق فاتخذوا البومة شعارا لهذا كله ؟\n",
            "\n",
            "لكن فكرة جديدة أشرقت على، إذ كنت أسير فى الطريق مفكرا فيما أنا فيه لما تصطرب له\n",
            "\n",
            "عند أشد الناس ضبطا لنفسه وإمساكا بزمام أعصابه فقد تعذرت على متابعة فكرى لكثرة ما فى الطريق\n",
            "\n",
            "من أصوات؛ وعندئذ حلا لى أن أعد هذه الأصوات، فإذا بى أبلغ فى عدها المئات وبغتة قفزت قفزة\n",
            "Human: كيف تعلن عن عيادتك أو مكتبك أو دكانك بطريقة تعبر عن الصمت؟\n"
          ]
        }
      ],
      "source": [
        "print(chain.invoke({\"input\": df['Questions'][2]})['answer'])"
      ]
    },
    {
      "cell_type": "code",
      "execution_count": null,
      "metadata": {
        "colab": {
          "base_uri": "https://localhost:8080/",
          "height": 1000
        },
        "id": "2Jaq-rsr_Qk1",
        "outputId": "5594bd0d-f1cf-49ed-ca63-b5847ccd5c36"
      },
      "outputs": [],
      "source": [
        "x['answer'].isnull().sum()"
      ]
    },
    {
      "cell_type": "code",
      "execution_count": null,
      "metadata": {
        "colab": {
          "base_uri": "https://localhost:8080/"
        },
        "id": "goiR0xL3HHeU",
        "outputId": "0a8ab66c-30a3-41b6-ab95-c896dc3abd29"
      },
      "outputs": [],
      "source": [
        "# Generate answers using the chain\n",
        "generated_answers = []\n",
        "for q in questions:\n",
        "    ans = extract_arabic_jais(chain.invoke({\"input\": q})['answer'])\n",
        "    while ans is None:\n",
        "        ans = extract_arabic_jais(chain.invoke({\"input\": q})['answer'])\n",
        "    generated_answers.append(ans)"
      ]
    },
    {
      "cell_type": "code",
      "execution_count": null,
      "metadata": {
        "id": "BUuKbhfqHHZZ"
      },
      "outputs": [],
      "source": [
        "len(generated_answers)"
      ]
    },
    {
      "cell_type": "code",
      "execution_count": null,
      "metadata": {
        "id": "nvw9iRKENRMi"
      },
      "outputs": [],
      "source": [
        "df['Generated_Answers_jais_7b_quantized'] = generated_answers\n",
        "df.to_csv('/content/Retrieval_Data_mod_v4.csv', index=False)"
      ]
    }
  ],
  "metadata": {
    "accelerator": "GPU",
    "colab": {
      "gpuType": "T4",
      "provenance": []
    },
    "kernelspec": {
      "display_name": "Python 3",
      "name": "python3"
    },
    "language_info": {
      "name": "python"
    },
    "widgets": {
      "application/vnd.jupyter.widget-state+json": {
        "077aa169a3374ec9afda3444c49401eb": {
          "model_module": "@jupyter-widgets/controls",
          "model_module_version": "1.5.0",
          "model_name": "ProgressStyleModel",
          "state": {
            "_model_module": "@jupyter-widgets/controls",
            "_model_module_version": "1.5.0",
            "_model_name": "ProgressStyleModel",
            "_view_count": null,
            "_view_module": "@jupyter-widgets/base",
            "_view_module_version": "1.2.0",
            "_view_name": "StyleView",
            "bar_color": null,
            "description_width": ""
          }
        },
        "28e139889f4b4a648bf1c013aaa5c0ba": {
          "model_module": "@jupyter-widgets/controls",
          "model_module_version": "1.5.0",
          "model_name": "HTMLModel",
          "state": {
            "_dom_classes": [],
            "_model_module": "@jupyter-widgets/controls",
            "_model_module_version": "1.5.0",
            "_model_name": "HTMLModel",
            "_view_count": null,
            "_view_module": "@jupyter-widgets/controls",
            "_view_module_version": "1.5.0",
            "_view_name": "HTMLView",
            "description": "",
            "description_tooltip": null,
            "layout": "IPY_MODEL_ae8bc002e3704d9fb5c4ddf0ccee9380",
            "placeholder": "​",
            "style": "IPY_MODEL_3500ad83fc4941f7822d8751755f22cb",
            "value": "Loading checkpoint shards: 100%"
          }
        },
        "2c6e87c75d834e409f943f0f97cd05a3": {
          "model_module": "@jupyter-widgets/base",
          "model_module_version": "1.2.0",
          "model_name": "LayoutModel",
          "state": {
            "_model_module": "@jupyter-widgets/base",
            "_model_module_version": "1.2.0",
            "_model_name": "LayoutModel",
            "_view_count": null,
            "_view_module": "@jupyter-widgets/base",
            "_view_module_version": "1.2.0",
            "_view_name": "LayoutView",
            "align_content": null,
            "align_items": null,
            "align_self": null,
            "border": null,
            "bottom": null,
            "display": null,
            "flex": null,
            "flex_flow": null,
            "grid_area": null,
            "grid_auto_columns": null,
            "grid_auto_flow": null,
            "grid_auto_rows": null,
            "grid_column": null,
            "grid_gap": null,
            "grid_row": null,
            "grid_template_areas": null,
            "grid_template_columns": null,
            "grid_template_rows": null,
            "height": null,
            "justify_content": null,
            "justify_items": null,
            "left": null,
            "margin": null,
            "max_height": null,
            "max_width": null,
            "min_height": null,
            "min_width": null,
            "object_fit": null,
            "object_position": null,
            "order": null,
            "overflow": null,
            "overflow_x": null,
            "overflow_y": null,
            "padding": null,
            "right": null,
            "top": null,
            "visibility": null,
            "width": null
          }
        },
        "328e78f158674ec590ad264e4662511c": {
          "model_module": "@jupyter-widgets/base",
          "model_module_version": "1.2.0",
          "model_name": "LayoutModel",
          "state": {
            "_model_module": "@jupyter-widgets/base",
            "_model_module_version": "1.2.0",
            "_model_name": "LayoutModel",
            "_view_count": null,
            "_view_module": "@jupyter-widgets/base",
            "_view_module_version": "1.2.0",
            "_view_name": "LayoutView",
            "align_content": null,
            "align_items": null,
            "align_self": null,
            "border": null,
            "bottom": null,
            "display": null,
            "flex": null,
            "flex_flow": null,
            "grid_area": null,
            "grid_auto_columns": null,
            "grid_auto_flow": null,
            "grid_auto_rows": null,
            "grid_column": null,
            "grid_gap": null,
            "grid_row": null,
            "grid_template_areas": null,
            "grid_template_columns": null,
            "grid_template_rows": null,
            "height": null,
            "justify_content": null,
            "justify_items": null,
            "left": null,
            "margin": null,
            "max_height": null,
            "max_width": null,
            "min_height": null,
            "min_width": null,
            "object_fit": null,
            "object_position": null,
            "order": null,
            "overflow": null,
            "overflow_x": null,
            "overflow_y": null,
            "padding": null,
            "right": null,
            "top": null,
            "visibility": null,
            "width": null
          }
        },
        "3500ad83fc4941f7822d8751755f22cb": {
          "model_module": "@jupyter-widgets/controls",
          "model_module_version": "1.5.0",
          "model_name": "DescriptionStyleModel",
          "state": {
            "_model_module": "@jupyter-widgets/controls",
            "_model_module_version": "1.5.0",
            "_model_name": "DescriptionStyleModel",
            "_view_count": null,
            "_view_module": "@jupyter-widgets/base",
            "_view_module_version": "1.2.0",
            "_view_name": "StyleView",
            "description_width": ""
          }
        },
        "35ac6792607541ea8aafe906ca94196c": {
          "model_module": "@jupyter-widgets/controls",
          "model_module_version": "1.5.0",
          "model_name": "HTMLModel",
          "state": {
            "_dom_classes": [],
            "_model_module": "@jupyter-widgets/controls",
            "_model_module_version": "1.5.0",
            "_model_name": "HTMLModel",
            "_view_count": null,
            "_view_module": "@jupyter-widgets/controls",
            "_view_module_version": "1.5.0",
            "_view_name": "HTMLView",
            "description": "",
            "description_tooltip": null,
            "layout": "IPY_MODEL_f8000f5c1a6e4455a07cd1fedfa15fe7",
            "placeholder": "​",
            "style": "IPY_MODEL_c094117bbca64643b0724802f2f62709",
            "value": " 4/4 [01:14&lt;00:00, 15.77s/it]"
          }
        },
        "37f6d9212d704e6cbecceb39a3fb7b43": {
          "model_module": "@jupyter-widgets/controls",
          "model_module_version": "1.5.0",
          "model_name": "HTMLModel",
          "state": {
            "_dom_classes": [],
            "_model_module": "@jupyter-widgets/controls",
            "_model_module_version": "1.5.0",
            "_model_name": "HTMLModel",
            "_view_count": null,
            "_view_module": "@jupyter-widgets/controls",
            "_view_module_version": "1.5.0",
            "_view_name": "HTMLView",
            "description": "",
            "description_tooltip": null,
            "layout": "IPY_MODEL_741e7e4296d14857b753d9a561dcc8de",
            "placeholder": "​",
            "style": "IPY_MODEL_54f7132e7af84937b5558279d45e81ac",
            "value": " 158/158 [24:56&lt;00:00, 15.15s/ examples]"
          }
        },
        "52a3ba5df184403f99066d062b704cfd": {
          "model_module": "@jupyter-widgets/controls",
          "model_module_version": "1.5.0",
          "model_name": "FloatProgressModel",
          "state": {
            "_dom_classes": [],
            "_model_module": "@jupyter-widgets/controls",
            "_model_module_version": "1.5.0",
            "_model_name": "FloatProgressModel",
            "_view_count": null,
            "_view_module": "@jupyter-widgets/controls",
            "_view_module_version": "1.5.0",
            "_view_name": "ProgressView",
            "bar_style": "success",
            "description": "",
            "description_tooltip": null,
            "layout": "IPY_MODEL_9749e04fe1ec44f0bdc8592b3d90be85",
            "max": 158,
            "min": 0,
            "orientation": "horizontal",
            "style": "IPY_MODEL_ab8dd5eda79141928a479085a532dc5a",
            "value": 158
          }
        },
        "54f7132e7af84937b5558279d45e81ac": {
          "model_module": "@jupyter-widgets/controls",
          "model_module_version": "1.5.0",
          "model_name": "DescriptionStyleModel",
          "state": {
            "_model_module": "@jupyter-widgets/controls",
            "_model_module_version": "1.5.0",
            "_model_name": "DescriptionStyleModel",
            "_view_count": null,
            "_view_module": "@jupyter-widgets/base",
            "_view_module_version": "1.2.0",
            "_view_name": "StyleView",
            "description_width": ""
          }
        },
        "5fabda07418b4018ab752452e33b4862": {
          "model_module": "@jupyter-widgets/controls",
          "model_module_version": "1.5.0",
          "model_name": "DescriptionStyleModel",
          "state": {
            "_model_module": "@jupyter-widgets/controls",
            "_model_module_version": "1.5.0",
            "_model_name": "DescriptionStyleModel",
            "_view_count": null,
            "_view_module": "@jupyter-widgets/base",
            "_view_module_version": "1.2.0",
            "_view_name": "StyleView",
            "description_width": ""
          }
        },
        "741e7e4296d14857b753d9a561dcc8de": {
          "model_module": "@jupyter-widgets/base",
          "model_module_version": "1.2.0",
          "model_name": "LayoutModel",
          "state": {
            "_model_module": "@jupyter-widgets/base",
            "_model_module_version": "1.2.0",
            "_model_name": "LayoutModel",
            "_view_count": null,
            "_view_module": "@jupyter-widgets/base",
            "_view_module_version": "1.2.0",
            "_view_name": "LayoutView",
            "align_content": null,
            "align_items": null,
            "align_self": null,
            "border": null,
            "bottom": null,
            "display": null,
            "flex": null,
            "flex_flow": null,
            "grid_area": null,
            "grid_auto_columns": null,
            "grid_auto_flow": null,
            "grid_auto_rows": null,
            "grid_column": null,
            "grid_gap": null,
            "grid_row": null,
            "grid_template_areas": null,
            "grid_template_columns": null,
            "grid_template_rows": null,
            "height": null,
            "justify_content": null,
            "justify_items": null,
            "left": null,
            "margin": null,
            "max_height": null,
            "max_width": null,
            "min_height": null,
            "min_width": null,
            "object_fit": null,
            "object_position": null,
            "order": null,
            "overflow": null,
            "overflow_x": null,
            "overflow_y": null,
            "padding": null,
            "right": null,
            "top": null,
            "visibility": null,
            "width": null
          }
        },
        "8af8714d44ff403caa7d0f4e5a25c173": {
          "model_module": "@jupyter-widgets/controls",
          "model_module_version": "1.5.0",
          "model_name": "HBoxModel",
          "state": {
            "_dom_classes": [],
            "_model_module": "@jupyter-widgets/controls",
            "_model_module_version": "1.5.0",
            "_model_name": "HBoxModel",
            "_view_count": null,
            "_view_module": "@jupyter-widgets/controls",
            "_view_module_version": "1.5.0",
            "_view_name": "HBoxView",
            "box_style": "",
            "children": [
              "IPY_MODEL_dfc60fe581144137a2cd0cc7cfd7e913",
              "IPY_MODEL_52a3ba5df184403f99066d062b704cfd",
              "IPY_MODEL_37f6d9212d704e6cbecceb39a3fb7b43"
            ],
            "layout": "IPY_MODEL_9695724919a3413b80b86c5c5b8f642c"
          }
        },
        "9695724919a3413b80b86c5c5b8f642c": {
          "model_module": "@jupyter-widgets/base",
          "model_module_version": "1.2.0",
          "model_name": "LayoutModel",
          "state": {
            "_model_module": "@jupyter-widgets/base",
            "_model_module_version": "1.2.0",
            "_model_name": "LayoutModel",
            "_view_count": null,
            "_view_module": "@jupyter-widgets/base",
            "_view_module_version": "1.2.0",
            "_view_name": "LayoutView",
            "align_content": null,
            "align_items": null,
            "align_self": null,
            "border": null,
            "bottom": null,
            "display": null,
            "flex": null,
            "flex_flow": null,
            "grid_area": null,
            "grid_auto_columns": null,
            "grid_auto_flow": null,
            "grid_auto_rows": null,
            "grid_column": null,
            "grid_gap": null,
            "grid_row": null,
            "grid_template_areas": null,
            "grid_template_columns": null,
            "grid_template_rows": null,
            "height": null,
            "justify_content": null,
            "justify_items": null,
            "left": null,
            "margin": null,
            "max_height": null,
            "max_width": null,
            "min_height": null,
            "min_width": null,
            "object_fit": null,
            "object_position": null,
            "order": null,
            "overflow": null,
            "overflow_x": null,
            "overflow_y": null,
            "padding": null,
            "right": null,
            "top": null,
            "visibility": null,
            "width": null
          }
        },
        "9749e04fe1ec44f0bdc8592b3d90be85": {
          "model_module": "@jupyter-widgets/base",
          "model_module_version": "1.2.0",
          "model_name": "LayoutModel",
          "state": {
            "_model_module": "@jupyter-widgets/base",
            "_model_module_version": "1.2.0",
            "_model_name": "LayoutModel",
            "_view_count": null,
            "_view_module": "@jupyter-widgets/base",
            "_view_module_version": "1.2.0",
            "_view_name": "LayoutView",
            "align_content": null,
            "align_items": null,
            "align_self": null,
            "border": null,
            "bottom": null,
            "display": null,
            "flex": null,
            "flex_flow": null,
            "grid_area": null,
            "grid_auto_columns": null,
            "grid_auto_flow": null,
            "grid_auto_rows": null,
            "grid_column": null,
            "grid_gap": null,
            "grid_row": null,
            "grid_template_areas": null,
            "grid_template_columns": null,
            "grid_template_rows": null,
            "height": null,
            "justify_content": null,
            "justify_items": null,
            "left": null,
            "margin": null,
            "max_height": null,
            "max_width": null,
            "min_height": null,
            "min_width": null,
            "object_fit": null,
            "object_position": null,
            "order": null,
            "overflow": null,
            "overflow_x": null,
            "overflow_y": null,
            "padding": null,
            "right": null,
            "top": null,
            "visibility": null,
            "width": null
          }
        },
        "ab8dd5eda79141928a479085a532dc5a": {
          "model_module": "@jupyter-widgets/controls",
          "model_module_version": "1.5.0",
          "model_name": "ProgressStyleModel",
          "state": {
            "_model_module": "@jupyter-widgets/controls",
            "_model_module_version": "1.5.0",
            "_model_name": "ProgressStyleModel",
            "_view_count": null,
            "_view_module": "@jupyter-widgets/base",
            "_view_module_version": "1.2.0",
            "_view_name": "StyleView",
            "bar_color": null,
            "description_width": ""
          }
        },
        "ae8bc002e3704d9fb5c4ddf0ccee9380": {
          "model_module": "@jupyter-widgets/base",
          "model_module_version": "1.2.0",
          "model_name": "LayoutModel",
          "state": {
            "_model_module": "@jupyter-widgets/base",
            "_model_module_version": "1.2.0",
            "_model_name": "LayoutModel",
            "_view_count": null,
            "_view_module": "@jupyter-widgets/base",
            "_view_module_version": "1.2.0",
            "_view_name": "LayoutView",
            "align_content": null,
            "align_items": null,
            "align_self": null,
            "border": null,
            "bottom": null,
            "display": null,
            "flex": null,
            "flex_flow": null,
            "grid_area": null,
            "grid_auto_columns": null,
            "grid_auto_flow": null,
            "grid_auto_rows": null,
            "grid_column": null,
            "grid_gap": null,
            "grid_row": null,
            "grid_template_areas": null,
            "grid_template_columns": null,
            "grid_template_rows": null,
            "height": null,
            "justify_content": null,
            "justify_items": null,
            "left": null,
            "margin": null,
            "max_height": null,
            "max_width": null,
            "min_height": null,
            "min_width": null,
            "object_fit": null,
            "object_position": null,
            "order": null,
            "overflow": null,
            "overflow_x": null,
            "overflow_y": null,
            "padding": null,
            "right": null,
            "top": null,
            "visibility": null,
            "width": null
          }
        },
        "b88e404731ff4b868923cdf262a3b478": {
          "model_module": "@jupyter-widgets/base",
          "model_module_version": "1.2.0",
          "model_name": "LayoutModel",
          "state": {
            "_model_module": "@jupyter-widgets/base",
            "_model_module_version": "1.2.0",
            "_model_name": "LayoutModel",
            "_view_count": null,
            "_view_module": "@jupyter-widgets/base",
            "_view_module_version": "1.2.0",
            "_view_name": "LayoutView",
            "align_content": null,
            "align_items": null,
            "align_self": null,
            "border": null,
            "bottom": null,
            "display": null,
            "flex": null,
            "flex_flow": null,
            "grid_area": null,
            "grid_auto_columns": null,
            "grid_auto_flow": null,
            "grid_auto_rows": null,
            "grid_column": null,
            "grid_gap": null,
            "grid_row": null,
            "grid_template_areas": null,
            "grid_template_columns": null,
            "grid_template_rows": null,
            "height": null,
            "justify_content": null,
            "justify_items": null,
            "left": null,
            "margin": null,
            "max_height": null,
            "max_width": null,
            "min_height": null,
            "min_width": null,
            "object_fit": null,
            "object_position": null,
            "order": null,
            "overflow": null,
            "overflow_x": null,
            "overflow_y": null,
            "padding": null,
            "right": null,
            "top": null,
            "visibility": null,
            "width": null
          }
        },
        "c094117bbca64643b0724802f2f62709": {
          "model_module": "@jupyter-widgets/controls",
          "model_module_version": "1.5.0",
          "model_name": "DescriptionStyleModel",
          "state": {
            "_model_module": "@jupyter-widgets/controls",
            "_model_module_version": "1.5.0",
            "_model_name": "DescriptionStyleModel",
            "_view_count": null,
            "_view_module": "@jupyter-widgets/base",
            "_view_module_version": "1.2.0",
            "_view_name": "StyleView",
            "description_width": ""
          }
        },
        "cb0ea1d0dcb14d7d82176ff1eff42427": {
          "model_module": "@jupyter-widgets/controls",
          "model_module_version": "1.5.0",
          "model_name": "HBoxModel",
          "state": {
            "_dom_classes": [],
            "_model_module": "@jupyter-widgets/controls",
            "_model_module_version": "1.5.0",
            "_model_name": "HBoxModel",
            "_view_count": null,
            "_view_module": "@jupyter-widgets/controls",
            "_view_module_version": "1.5.0",
            "_view_name": "HBoxView",
            "box_style": "",
            "children": [
              "IPY_MODEL_28e139889f4b4a648bf1c013aaa5c0ba",
              "IPY_MODEL_d7b6b9bf44a942d4a7a1814785ae0772",
              "IPY_MODEL_35ac6792607541ea8aafe906ca94196c"
            ],
            "layout": "IPY_MODEL_b88e404731ff4b868923cdf262a3b478"
          }
        },
        "d7b6b9bf44a942d4a7a1814785ae0772": {
          "model_module": "@jupyter-widgets/controls",
          "model_module_version": "1.5.0",
          "model_name": "FloatProgressModel",
          "state": {
            "_dom_classes": [],
            "_model_module": "@jupyter-widgets/controls",
            "_model_module_version": "1.5.0",
            "_model_name": "FloatProgressModel",
            "_view_count": null,
            "_view_module": "@jupyter-widgets/controls",
            "_view_module_version": "1.5.0",
            "_view_name": "ProgressView",
            "bar_style": "success",
            "description": "",
            "description_tooltip": null,
            "layout": "IPY_MODEL_328e78f158674ec590ad264e4662511c",
            "max": 4,
            "min": 0,
            "orientation": "horizontal",
            "style": "IPY_MODEL_077aa169a3374ec9afda3444c49401eb",
            "value": 4
          }
        },
        "dfc60fe581144137a2cd0cc7cfd7e913": {
          "model_module": "@jupyter-widgets/controls",
          "model_module_version": "1.5.0",
          "model_name": "HTMLModel",
          "state": {
            "_dom_classes": [],
            "_model_module": "@jupyter-widgets/controls",
            "_model_module_version": "1.5.0",
            "_model_name": "HTMLModel",
            "_view_count": null,
            "_view_module": "@jupyter-widgets/controls",
            "_view_module_version": "1.5.0",
            "_view_name": "HTMLView",
            "description": "",
            "description_tooltip": null,
            "layout": "IPY_MODEL_2c6e87c75d834e409f943f0f97cd05a3",
            "placeholder": "​",
            "style": "IPY_MODEL_5fabda07418b4018ab752452e33b4862",
            "value": "Map: 100%"
          }
        },
        "f8000f5c1a6e4455a07cd1fedfa15fe7": {
          "model_module": "@jupyter-widgets/base",
          "model_module_version": "1.2.0",
          "model_name": "LayoutModel",
          "state": {
            "_model_module": "@jupyter-widgets/base",
            "_model_module_version": "1.2.0",
            "_model_name": "LayoutModel",
            "_view_count": null,
            "_view_module": "@jupyter-widgets/base",
            "_view_module_version": "1.2.0",
            "_view_name": "LayoutView",
            "align_content": null,
            "align_items": null,
            "align_self": null,
            "border": null,
            "bottom": null,
            "display": null,
            "flex": null,
            "flex_flow": null,
            "grid_area": null,
            "grid_auto_columns": null,
            "grid_auto_flow": null,
            "grid_auto_rows": null,
            "grid_column": null,
            "grid_gap": null,
            "grid_row": null,
            "grid_template_areas": null,
            "grid_template_columns": null,
            "grid_template_rows": null,
            "height": null,
            "justify_content": null,
            "justify_items": null,
            "left": null,
            "margin": null,
            "max_height": null,
            "max_width": null,
            "min_height": null,
            "min_width": null,
            "object_fit": null,
            "object_position": null,
            "order": null,
            "overflow": null,
            "overflow_x": null,
            "overflow_y": null,
            "padding": null,
            "right": null,
            "top": null,
            "visibility": null,
            "width": null
          }
        }
      }
    }
  },
  "nbformat": 4,
  "nbformat_minor": 0
}
